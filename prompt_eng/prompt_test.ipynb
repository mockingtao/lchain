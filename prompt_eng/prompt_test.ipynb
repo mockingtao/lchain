{
 "cells": [
  {
   "cell_type": "code",
   "execution_count": 14,
   "metadata": {},
   "outputs": [],
   "source": [
    "from apikey import apikey\n",
    "import time\n",
    "import openai\n"
   ]
  },
  {
   "cell_type": "code",
   "execution_count": 15,
   "metadata": {},
   "outputs": [],
   "source": [
    "import json\n",
    "\n",
    "\n",
    "with open('prompt_task.json', 'r') as f:\n",
    "    prompt_task_dict = json.load(f)\n",
    "prompt_task = ''\n",
    "for key, value in prompt_task_dict.items():\n",
    "    prompt_task = prompt_task + key + \": \" + value+ '\\n\\n'\n",
    "\n",
    "prompt_task = prompt_task + '\\n\\n' + 'Instruction:' + 'new_instruction' + ' ###Plan:'\n",
    "\n",
    "\n"
   ]
  },
  {
   "cell_type": "code",
   "execution_count": 16,
   "metadata": {},
   "outputs": [
    {
     "name": "stdout",
     "output_type": "stream",
     "text": [
      "2023-07-03 19:48:23\n"
     ]
    }
   ],
   "source": [
    "\n",
    "def send_official_call(query, openai_key='', api_base='', engine=''):\n",
    "    start = time.time()\n",
    "    # 转换成可阅读的时间\n",
    "    start = time.strftime('%Y-%m-%d %H:%M:%S', time.localtime(start))\n",
    "    print(start)\n",
    "    openai.api_key  = openai_key\n",
    "\n",
    "    response = openai.ChatCompletion.create(\n",
    "        # engine=\"gpt35\",\n",
    "        model=\"gpt-3.5-turbo\",\n",
    "        messages = [{\"role\": \"system\", \"content\": \"You are an useful AI assistant that helps people solve the problem step by step.\"},\n",
    "                  {\"role\": \"user\", \"content\": \"\" + query}],\n",
    "        #max_tokens=max_token_num,\n",
    "        temperature=0.1,\n",
    "        top_p=0.1,\n",
    "        frequency_penalty=0,\n",
    "        presence_penalty=0,\n",
    "        stop=None)\n",
    "\n",
    "    data_res = response['choices'][0]['message']['content']\n",
    "    return data_res\n",
    "\n",
    "\n",
    "response = send_official_call(prompt_task, openai_key=apikey)\n",
    "\n"
   ]
  },
  {
   "cell_type": "code",
   "execution_count": 17,
   "metadata": {},
   "outputs": [
    {
     "data": {
      "text/plain": [
       "\"Sorry, I couldn't understand the instruction. Could you please provide a valid instruction?\""
      ]
     },
     "execution_count": 17,
     "metadata": {},
     "output_type": "execute_result"
    }
   ],
   "source": [
    "response"
   ]
  }
 ],
 "metadata": {
  "kernelspec": {
   "display_name": "langchain",
   "language": "python",
   "name": "python3"
  },
  "language_info": {
   "codemirror_mode": {
    "name": "ipython",
    "version": 3
   },
   "file_extension": ".py",
   "mimetype": "text/x-python",
   "name": "python",
   "nbconvert_exporter": "python",
   "pygments_lexer": "ipython3",
   "version": "3.10.11"
  },
  "orig_nbformat": 4
 },
 "nbformat": 4,
 "nbformat_minor": 2
}
