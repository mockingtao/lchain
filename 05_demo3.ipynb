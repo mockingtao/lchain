{
 "cells": [
  {
   "attachments": {},
   "cell_type": "markdown",
   "metadata": {},
   "source": [
    "# Env import"
   ]
  },
  {
   "cell_type": "code",
   "execution_count": 56,
   "metadata": {},
   "outputs": [],
   "source": [
    "from datetime import date, datetime\n",
    "from typing import Union, List\n",
    "from apikey import API_KEY, BASE_URL, DEPLOYMENT_NAME, PINECONE_API_KEY, PINECONE_ENV\n",
    "from langchain.chat_models import AzureChatOpenAI\n",
    "import functools\n",
    "\n",
    "from langchain import PromptTemplate\n",
    "from langchain.prompts.chat import(\n",
    "    ChatPromptTemplate,\n",
    "    SystemMessagePromptTemplate,\n",
    "    HumanMessagePromptTemplate,\n",
    "    AIMessagePromptTemplate\n",
    ")\n",
    "\n",
    "from langchain.output_parsers import ResponseSchema\n",
    "from langchain.output_parsers import StructuredOutputParser\n",
    "\n",
    "from langchain.schema import (\n",
    "    SystemMessage,\n",
    "    HumanMessage,\n",
    "    AIMessage\n",
    "    )\n",
    "\n",
    "from langchain.memory import ConversationBufferMemory, ConversationBufferWindowMemory\n",
    "\n",
    "from langchain.chains import LLMChain, APIChain, SequentialChain, SimpleSequentialChain\n",
    "\n",
    "import os \n",
    "from apikey import apikey \n",
    "\n",
    "\n",
    "os.environ['OPENAI_API_KEY'] = apikey"
   ]
  },
  {
   "attachments": {},
   "cell_type": "markdown",
   "metadata": {},
   "source": [
    "# Config "
   ]
  },
  {
   "cell_type": "code",
   "execution_count": 57,
   "metadata": {},
   "outputs": [
    {
     "data": {
      "text/plain": [
       "'2023-06-29 14:16:21'"
      ]
     },
     "execution_count": 57,
     "metadata": {},
     "output_type": "execute_result"
    }
   ],
   "source": [
    "data_info = \"\"\"\n",
    "[{\"name\":\"会员ID\",\"type\":\"String\"},\n",
    "{\"name\":\"销售数量\",\"type\":\"Long\"},\n",
    "{\"name\":\"销售金额\",\"type\":\"Long\"},\n",
    "{\"name\":\"省份\",\"type\":\"Double\"},\n",
    "{\"name\":\"平台\",\"type\":\"Double\"},\n",
    "{\"name\":\"日期\",\"type\":\"Date\"},\n",
    "{\"name\":\"渠道\",\"type\":\"String\"},\n",
    "{\"name\":\"订单ID\",\"type\":\"String\"},\n",
    "{\"name\":\"品牌\",\"type\":\"String\"},\n",
    "{\"name\":\"sku\",\"type\":\"String\"}\n",
    "]\n",
    "\"\"\"\n",
    "\n",
    "# 当前时间\n",
    "today = date.today()\n",
    "formatted_date = today.strftime(\"%Y-%m-%d\")\n",
    "\n",
    "today_dt = datetime.now()\n",
    "formatted_dt = today_dt.strftime(\"%Y-%m-%d %H:%M:%S\")\n",
    "\n",
    "formatted_dt"
   ]
  },
  {
   "attachments": {},
   "cell_type": "markdown",
   "metadata": {},
   "source": [
    "# Model"
   ]
  },
  {
   "cell_type": "code",
   "execution_count": 58,
   "metadata": {},
   "outputs": [],
   "source": [
    "chat_llm = AzureChatOpenAI(\n",
    "    openai_api_base=BASE_URL,\n",
    "    openai_api_version=\"2023-05-15\",\n",
    "    deployment_name=DEPLOYMENT_NAME,\n",
    "    openai_api_key=API_KEY,\n",
    "    openai_api_type = \"azure\",\n",
    "    temperature=0\n",
    ")"
   ]
  },
  {
   "cell_type": "code",
   "execution_count": 59,
   "metadata": {},
   "outputs": [
    {
     "data": {
      "text/plain": [
       "AIMessage(content='我喜欢编程。', additional_kwargs={}, example=False)"
      ]
     },
     "execution_count": 59,
     "metadata": {},
     "output_type": "execute_result"
    }
   ],
   "source": [
    "# test\n",
    "chat_llm([HumanMessage(content=\"Translate this sentence from English to Chinese. I love programming.\")])"
   ]
  },
  {
   "attachments": {},
   "cell_type": "markdown",
   "metadata": {},
   "source": [
    "# Promp Eng"
   ]
  },
  {
   "attachments": {},
   "cell_type": "markdown",
   "metadata": {},
   "source": [
    "## output parser"
   ]
  },
  {
   "cell_type": "code",
   "execution_count": 60,
   "metadata": {},
   "outputs": [
    {
     "data": {
      "text/plain": [
       "[ResponseSchema(name='chartType', description=\"Recommended chart type from you. This is a string.\\nYou must choose one from the python dictionary {'BASIC_COLUMN': '单柱图', 'GROUPED_COLUMN': '簇状图，柱图', 'STACKED_COLUMN': '堆积图，柱图', 'STACKED_SPLIT_COLUMN': '分组堆积图，柱图', 'BASIC_BAR': '单条图', 'BASIC_LINE': '单线图', 'PIE': '饼图', 'RISING_SUN': '旭日图', 'FUNNEL': '漏斗图', 'HORIZONTAL_FUNNEL': '水平漏斗图'}'s key, and it can't be empty.\\nthe dictionary key is chart type, and the dictionary value is the describe in Chinese, \\nyou should choose the dictionary key as the chart type.\\n\", type='string'),\n",
       " ResponseSchema(name='row', description='The dimension fields. You can choose them from the Dataset Scheme.\\nThis is a list, each element in the list is a python dictionary. There are one keys in the dictionary: name\\nThe name indicates the dimension field, and you can choose from the Dataset Scheme.\\nFor example:\\n```[{\"name\":\"column_1\"},\\n    {\"name\":\"column_2\"}]```\\n', type='array'),\n",
       " ResponseSchema(name='filter', description='Data filter. Based on the text entered by the user, if not returned as [],\\nif is, then output them as a comma separated Python list, each element in the list is a python dictionary.\\nThere are three keys in the dictionary: name, filterType, filterValue.\\n1. The name indicates the filter field, you can choose from the Dataset Scheme.\\n2. The filterType indicates the filter type. This is an enumeration value, the optional values are BT,GT,GE,LT,LE,EQ,NE,IN,NI.\\nBT means between, GT means Greater Than. You can only select one from these optional values.\\n3. The filterValue indicates the filter value. It must be a list, Two elements when filterType is BT. Multiple elements when filterType is IN or NI. One element when filterType is other.\\nFor example:\\n```[{\\n\"filterType\": \"BT\"\\n\"filterValue\": [\\'2023-05-17\\',\\'2023-06-17\\'],\\n\"name\": \"date\"\\n}]```\\n', type='array'),\n",
       " ResponseSchema(name='metric', description='Data metric field. This is a list, each element in the list is a python dictionary.\\nThere are three keys in the dictionary: name, aggrType, advCalc.\\n1. The name indicates the metric field, you can choose from the Dataset Scheme.\\n2. The aggrType indicates the Aggregation mode, This is an enumeration value, the optional values are SUM,CNT,MIN,MAX,AVG,STDDEV,VAR,CNT_DISTINCT,NUL,MED,PERCENTILE\\n3. The advCalc is not necessary, unless we need the advanced calculation like MoM or YoY calculation, there are the following subfields:\\n    a. advType: This is an enumeration value, the optional values COMPARATIVE.\\n    b. advValue: This is a Python dictionary, there are the following subfields:\\n        i. growthRateType: This is an enumeration value, the optional values ABS, NORMAL\\n            ABS formula: percentage change relative to the previous period, and the denominator is the absolute value of the previous period data, just like (本期数据-上期数据)/abs(上期数据) %\\n            NORMAL formula: percentage change relative to the previous period, and the denominator is the value of the previous period data, just like (本期数据-上期数据)/上期数据 %\\n        ii. mode: This is an enumeration value, the optional values are SIMPLE, NORMAL, FILTER_BASED. This filed is not necessary, unless the row fields contains a date type field.\\n            SIMPLE: \\n            NORMAL: \\n            FILTER_BASED: \\n        iii. dateFdName: This is a string, you can choose from the Dataset Scheme which is the date type.\\n        iv. valueType: This is an enumeration value, the optional values are VALUE, RATE, RAWDATA.\\n            VALUE means growth value, RATE means growth rate, RAWDATA means comparison value, You should choose one based on the text entered by the user.\\n        iv. granularity: This is an enumeration value, the optional values are DAY, WEEK, MONTH, QUARTER, YEAR. You should choose one based on the text entered by the user.\\n        v. offsetType: There are different options depending on how granularity changes. You should try to judge and choose one from the following options based on the text entered by the user.\\n            case when granularity is DAY, the optional values are DAY, WEEK, MONTH, QUARTER, YEAR, YEARBYWEEK.\\n            case when granularity is YEAR, the optional values is YEAR.\\n            case when granularity is QUARTER, the optional values are QUARTER, YEAR.\\n            case when granularity is MONTH, the optional values are MONTH, YEAR.\\n            case when granularity is WEEK, the optional values are WEEK, YEAR.\\n        vi. offset: defaults to 1.\\n        vii. window: This filed is not necessary, unless the row fields does not contain a date type field.\\n            This is a python dictionary. There are two keys in the dictionary: withMacro, offset.\\n            withMacro: defaults to fasle, this is a bool type.\\n            offset: defaults to 1.\\n\\nFor example:\\n```[{\\n\"aggrType\": \"SUM\"\\n\"name\": \"column_1\"\\n\"advCalc\": {\\n    \"advType\": \"COMPARATIVE\",\\n      \"advValue\": {\\n      \"growthRateType\": \"ABS\",\\n        \"mode\": \"NORMAL\",\\n        \"dateFdName\": \"column_1\",\\n        \"valueType\": \"RATE\",\\n        \"offsetType\": \"YEAR\",\\n        \"advType\": \"COMPARATIVE\",\\n        \"granularity\": \"YEAR\",\\n        \"window\": {\\n          \"withMacro\": false,\\n          \"offset\": 1\\n        },\\n      \"offset\": 1\\n    }\\n  }\\n}]```\\n', type='array'),\n",
       " ResponseSchema(name='explanation', description='The explanation of the chart, expressed in Chinese,', type='string'),\n",
       " ResponseSchema(name='title', description='The title of the chart, within 15 characters, expressed in Chinese,', type='string'),\n",
       " ResponseSchema(name='description', description='The description of the chart, within 50 characters, expressed in Chinese', type='string'),\n",
       " ResponseSchema(name='advices', description=\"The other three relevant content or questions adviced by the AI from user's input. The presentation should be in the user's intonation style.\\nThis is a list, each element in the list is a String.\\nFor example:\\n```['将销量与去年同期做对比', '用品类对销量进行进一步分析']```\\n\", type='string')]"
      ]
     },
     "execution_count": 60,
     "metadata": {},
     "output_type": "execute_result"
    }
   ],
   "source": [
    "card_type={\"BASIC_COLUMN\": \"单柱图\", \n",
    "           \"GROUPED_COLUMN\": \"簇状图，柱图\", \n",
    "           \"STACKED_COLUMN\": \"堆积图，柱图\", \n",
    "           \"STACKED_SPLIT_COLUMN\": \"分组堆积图，柱图\", \n",
    "           \"BASIC_BAR\": \"单条图\", \n",
    "           \"BASIC_LINE\": \"单线图\", \n",
    "           \"PIE\": \"饼图\", \n",
    "           \"RISING_SUN\": \"旭日图\", \n",
    "           \"FUNNEL\": \"漏斗图\", \n",
    "           \"HORIZONTAL_FUNNEL\": \"水平漏斗图\"}\n",
    "\n",
    "\n",
    "description_chartType=f\"\"\"Recommended chart type from you. This is a string.\n",
    "You must choose one from the python dictionary {card_type}'s key, and it can't be empty.\n",
    "the dictionary key is chart type, and the dictionary value is the describe in Chinese, \n",
    "you should choose the dictionary key as the chart type.\n",
    "\"\"\"\n",
    "\n",
    "description_row=\"\"\"The dimension fields. You can choose them from the Dataset Scheme.\n",
    "This is a list, each element in the list is a python dictionary. There are one keys in the dictionary: name\n",
    "The name indicates the dimension field, and you can choose from the Dataset Scheme.\n",
    "For example:\n",
    "```[{\"name\":\"column_1\"},\n",
    "    {\"name\":\"column_2\"}]```\n",
    "\"\"\"\n",
    "\n",
    "description_filter = \"\"\"Data filter. Based on the text entered by the user, if not returned as [],\n",
    "if is, then output them as a comma separated Python list, each element in the list is a python dictionary.\n",
    "There are three keys in the dictionary: name, filterType, filterValue.\n",
    "1. The name indicates the filter field, you can choose from the Dataset Scheme.\n",
    "2. The filterType indicates the filter type. This is an enumeration value, the optional values are BT,GT,GE,LT,LE,EQ,NE,IN,NI.\n",
    "BT means between, GT means Greater Than. You can only select one from these optional values.\n",
    "3. The filterValue indicates the filter value. It must be a list, Two elements when filterType is BT. Multiple elements when filterType is IN or NI. One element when filterType is other.\n",
    "For example:\n",
    "```[{\n",
    "\"filterType\": \"BT\"\n",
    "\"filterValue\": ['2023-05-17','2023-06-17'],\n",
    "\"name\": \"date\"\n",
    "}]```\n",
    "\"\"\"\n",
    "\n",
    "description_metric = \"\"\"Data metric field. This is a list, each element in the list is a python dictionary.\n",
    "There are three keys in the dictionary: name, aggrType, advCalc.\n",
    "1. name: the metric field, you can choose from the Dataset Scheme.\n",
    "2. aggrType: the aggregation mode. This is an enumeration value, the optional values are SUM,CNT,MIN,MAX,AVG,STDDEV,VAR,CNT_DISTINCT,NUL,MED,PERCENTILE\n",
    "3. advCalc: the advanced calculation. It is not necessary, unless we need the advanced calculation like MoM or YoY calculation, there are the following subfields:\n",
    "    a. advType: the advanced calculation type. This is an enumeration value, the optional value is COMPARATIVE.\n",
    "    b. advValue: There are the fields required for the advanced calculation. The advValue field is a Python dictionary, and there are the following subfields:\n",
    "        i. growthRateType: This is an enumeration value, the optional values are ABS, NORMAL.\n",
    "            ABS: percentage change relative to the previous period, and the denominator is the absolute value of the previous period data, just like (本期数据-上期数据)/abs(上期数据) %\n",
    "            NORMAL: percentage change relative to the previous period, and the denominator is the value of the previous period data, just like (本期数据-上期数据)/上期数据 %\n",
    "        ii. mode: This is an enumeration value, the optional values are SIMPLE, NORMAL, FILTER_BASED. This filed is not necessary, unless the row fields contains a date type field.\n",
    "        iii. dateFdName: This is a string, you can choose from the Dataset Scheme which is the date type.\n",
    "        iv. valueType: This is an enumeration value, the optional values are VALUE, RATE, RAWDATA.\n",
    "            VALUE means growth value, RATE means growth rate, RAWDATA means comparison value. You should choose one based on the text entered by the user.\n",
    "        iv. granularity: This is an enumeration value, the optional values are DAY, WEEK, MONTH, QUARTER, YEAR. You should choose one based on the text entered by the user.\n",
    "        v. offsetType: There are different options depending on how granularity changes. You should try to judge and choose one from the following options based on the text entered by the user.\n",
    "            when granularity is DAY, the optional values are DAY, WEEK, MONTH, QUARTER, YEAR, YEARBYWEEK.\n",
    "            when granularity is YEAR, the optional values is YEAR.\n",
    "            when granularity is QUARTER, the optional values are QUARTER, YEAR.\n",
    "            when granularity is MONTH, the optional values are MONTH, YEAR.\n",
    "            when granularity is WEEK, the optional values are WEEK, YEAR.\n",
    "        vi. offset: defaults to 1.\n",
    "        vii. window: This filed is not necessary, unless the row fields does not contain a date type field.\n",
    "            This is a python dictionary. There are two keys in the dictionary: withMacro, offset.\n",
    "            withMacro: defaults to fasle, this is a bool type.\n",
    "            offset: defaults to 1.\n",
    "\n",
    "For example:\n",
    "```[{\n",
    "\"aggrType\": \"SUM\"\n",
    "\"name\": \"column_1\"\n",
    "\"advCalc\": {\n",
    "    \"advType\": \"COMPARATIVE\",\n",
    "      \"advValue\": {\n",
    "      \"growthRateType\": \"ABS\",\n",
    "        \"mode\": \"NORMAL\",\n",
    "        \"dateFdName\": \"column_1\",\n",
    "        \"valueType\": \"RATE\",\n",
    "        \"offsetType\": \"YEAR\",\n",
    "        \"advType\": \"COMPARATIVE\",\n",
    "        \"granularity\": \"YEAR\",\n",
    "        \"window\": {\n",
    "          \"withMacro\": false,\n",
    "          \"offset\": 1\n",
    "        },\n",
    "      \"offset\": 1\n",
    "    }\n",
    "  }\n",
    "}]```\n",
    "\"\"\"\n",
    "\n",
    "description_advices = \"\"\"The other three relevant content or questions adviced by the AI from user's input. The presentation should be in the user's intonation style.\n",
    "This is a list, each element in the list is a String.\n",
    "For example:\n",
    "```['将销量与去年同期做对比', '用品类对销量进行进一步分析']```\n",
    "\"\"\"\n",
    "\n",
    "\n",
    "chart_type_schema = ResponseSchema(name=\"chartType\",\n",
    "                             description=description_chartType)\n",
    "\n",
    "row_schema = ResponseSchema(name=\"row\",\n",
    "                            type = 'array',\n",
    "                            description=description_row)\n",
    "\n",
    "filters_schema = ResponseSchema(name=\"filter\",\n",
    "                                type = 'array',\n",
    "                                description=description_filter)\n",
    "\n",
    "metric_schema = ResponseSchema(name=\"metric\",\n",
    "                                type = 'array',\n",
    "                                description=description_metric)\n",
    "\n",
    "explanation_schema = ResponseSchema(name=\"explanation\",\n",
    "                            description=\"The explanation of the chart, expressed in Chinese,\")\n",
    "\n",
    "title_schema = ResponseSchema(name=\"title\",\n",
    "                            description=\"The title of the chart, within 15 characters, expressed in Chinese,\")\n",
    "\n",
    "description_schema = ResponseSchema(name=\"description\",\n",
    "                            description=\"The description of the chart, within 50 characters, expressed in Chinese\")\n",
    "\n",
    "advices_schema = ResponseSchema(name=\"advices\",\n",
    "                            description=description_advices)\n",
    "\n",
    "response_schemas = [\n",
    "    chart_type_schema,\n",
    "    row_schema,\n",
    "    filters_schema,\n",
    "    metric_schema,\n",
    "    explanation_schema,\n",
    "    title_schema,\n",
    "    description_schema,\n",
    "    advices_schema\n",
    "]\n",
    "\n",
    "response_schemas"
   ]
  },
  {
   "cell_type": "code",
   "execution_count": 61,
   "metadata": {},
   "outputs": [
    {
     "name": "stdout",
     "output_type": "stream",
     "text": [
      "The output should be a markdown code snippet formatted in the following schema, including the leading and trailing \"```json\" and \"```\":\n",
      "\n",
      "```json\n",
      "{\n",
      "\t\"chartType\": string  // Recommended chart type from you. This is a string.\n",
      "You must choose one from the python dictionary {'BASIC_COLUMN': '单柱图', 'GROUPED_COLUMN': '簇状图，柱图', 'STACKED_COLUMN': '堆积图，柱图', 'STACKED_SPLIT_COLUMN': '分组堆积图，柱图', 'BASIC_BAR': '单条图', 'BASIC_LINE': '单线图', 'PIE': '饼图', 'RISING_SUN': '旭日图', 'FUNNEL': '漏斗图', 'HORIZONTAL_FUNNEL': '水平漏斗图'}'s key, and it can't be empty.\n",
      "the dictionary key is chart type, and the dictionary value is the describe in Chinese, \n",
      "you should choose the dictionary key as the chart type.\n",
      "\n",
      "\t\"row\": array  // The dimension fields. You can choose them from the Dataset Scheme.\n",
      "This is a list, each element in the list is a python dictionary. There are one keys in the dictionary: name\n",
      "The name indicates the dimension field, and you can choose from the Dataset Scheme.\n",
      "For example:\n",
      "```[{\"name\":\"column_1\"},\n",
      "    {\"name\":\"column_2\"}]```\n",
      "\n",
      "\t\"filter\": array  // Data filter. Based on the text entered by the user, if not returned as [],\n",
      "if is, then output them as a comma separated Python list, each element in the list is a python dictionary.\n",
      "There are three keys in the dictionary: name, filterType, filterValue.\n",
      "1. The name indicates the filter field, you can choose from the Dataset Scheme.\n",
      "2. The filterType indicates the filter type. This is an enumeration value, the optional values are BT,GT,GE,LT,LE,EQ,NE,IN,NI.\n",
      "BT means between, GT means Greater Than. You can only select one from these optional values.\n",
      "3. The filterValue indicates the filter value. It must be a list, Two elements when filterType is BT. Multiple elements when filterType is IN or NI. One element when filterType is other.\n",
      "For example:\n",
      "```[{\n",
      "\"filterType\": \"BT\"\n",
      "\"filterValue\": ['2023-05-17','2023-06-17'],\n",
      "\"name\": \"date\"\n",
      "}]```\n",
      "\n",
      "\t\"metric\": array  // Data metric field. This is a list, each element in the list is a python dictionary.\n",
      "There are three keys in the dictionary: name, aggrType, advCalc.\n",
      "1. The name indicates the metric field, you can choose from the Dataset Scheme.\n",
      "2. The aggrType indicates the Aggregation mode, This is an enumeration value, the optional values are SUM,CNT,MIN,MAX,AVG,STDDEV,VAR,CNT_DISTINCT,NUL,MED,PERCENTILE\n",
      "3. The advCalc is not necessary, unless we need the advanced calculation like MoM or YoY calculation, there are the following subfields:\n",
      "    a. advType: This is an enumeration value, the optional values COMPARATIVE.\n",
      "    b. advValue: This is a Python dictionary, there are the following subfields:\n",
      "        i. growthRateType: This is an enumeration value, the optional values ABS, NORMAL\n",
      "            ABS formula: percentage change relative to the previous period, and the denominator is the absolute value of the previous period data, just like (本期数据-上期数据)/abs(上期数据) %\n",
      "            NORMAL formula: percentage change relative to the previous period, and the denominator is the value of the previous period data, just like (本期数据-上期数据)/上期数据 %\n",
      "        ii. mode: This is an enumeration value, the optional values are SIMPLE, NORMAL, FILTER_BASED. This filed is not necessary, unless the row fields contains a date type field.\n",
      "            SIMPLE: \n",
      "            NORMAL: \n",
      "            FILTER_BASED: \n",
      "        iii. dateFdName: This is a string, you can choose from the Dataset Scheme which is the date type.\n",
      "        iv. valueType: This is an enumeration value, the optional values are VALUE, RATE, RAWDATA.\n",
      "            VALUE means growth value, RATE means growth rate, RAWDATA means comparison value, You should choose one based on the text entered by the user.\n",
      "        iv. granularity: This is an enumeration value, the optional values are DAY, WEEK, MONTH, QUARTER, YEAR. You should choose one based on the text entered by the user.\n",
      "        v. offsetType: There are different options depending on how granularity changes. You should try to judge and choose one from the following options based on the text entered by the user.\n",
      "            case when granularity is DAY, the optional values are DAY, WEEK, MONTH, QUARTER, YEAR, YEARBYWEEK.\n",
      "            case when granularity is YEAR, the optional values is YEAR.\n",
      "            case when granularity is QUARTER, the optional values are QUARTER, YEAR.\n",
      "            case when granularity is MONTH, the optional values are MONTH, YEAR.\n",
      "            case when granularity is WEEK, the optional values are WEEK, YEAR.\n",
      "        vi. offset: defaults to 1.\n",
      "        vii. window: This filed is not necessary, unless the row fields does not contain a date type field.\n",
      "            This is a python dictionary. There are two keys in the dictionary: withMacro, offset.\n",
      "            withMacro: defaults to fasle, this is a bool type.\n",
      "            offset: defaults to 1.\n",
      "\n",
      "For example:\n",
      "```[{\n",
      "\"aggrType\": \"SUM\"\n",
      "\"name\": \"column_1\"\n",
      "\"advCalc\": {\n",
      "    \"advType\": \"COMPARATIVE\",\n",
      "      \"advValue\": {\n",
      "      \"growthRateType\": \"ABS\",\n",
      "        \"mode\": \"NORMAL\",\n",
      "        \"dateFdName\": \"column_1\",\n",
      "        \"valueType\": \"RATE\",\n",
      "        \"offsetType\": \"YEAR\",\n",
      "        \"advType\": \"COMPARATIVE\",\n",
      "        \"granularity\": \"YEAR\",\n",
      "        \"window\": {\n",
      "          \"withMacro\": false,\n",
      "          \"offset\": 1\n",
      "        },\n",
      "      \"offset\": 1\n",
      "    }\n",
      "  }\n",
      "}]```\n",
      "\n",
      "\t\"explanation\": string  // The explanation of the chart, expressed in Chinese,\n",
      "\t\"title\": string  // The title of the chart, within 15 characters, expressed in Chinese,\n",
      "\t\"description\": string  // The description of the chart, within 50 characters, expressed in Chinese\n",
      "\t\"advices\": string  // The other three relevant content or questions adviced by the AI from user's input. The presentation should be in the user's intonation style.\n",
      "This is a list, each element in the list is a String.\n",
      "For example:\n",
      "```['将销量与去年同期做对比', '用品类对销量进行进一步分析']```\n",
      "\n",
      "}\n",
      "```\n"
     ]
    }
   ],
   "source": [
    "# 创建输出解析器\n",
    "output_parser = StructuredOutputParser.from_response_schemas(response_schemas)\n",
    "\n",
    "# 获取解析结构\n",
    "format_instructions = output_parser.get_format_instructions()\n",
    "print(format_instructions)"
   ]
  },
  {
   "attachments": {},
   "cell_type": "markdown",
   "metadata": {},
   "source": [
    "## prompt template"
   ]
  },
  {
   "cell_type": "code",
   "execution_count": 62,
   "metadata": {},
   "outputs": [],
   "source": [
    "# API 核心参数\n",
    "api_parameters = \"\"\"\n",
    "{\n",
    "    \"chartType\":\"\",\n",
    "    \"row\":[{\"name\":\"A\"}],\n",
    "    \"filter\":[{\"name\":\"A\", \"filterType\":\"IN\", \"filterValue\":[\"\",\"\"]},\n",
    "        {\"name\":\"A\", \"filterType\":\"GT\", \"filterValue\":[\"\"]}],\n",
    "    \"metric\":[{\"name\":\"A\", \"aggrType\":\"SUM\"}],\n",
    "    \"sorting\":[{\"name\":\"A\", \"aggrType\":\"SUM\", \"ordering\":\"desc\"}],\n",
    "    \"explanation\":\"\",\n",
    "    \"description\":\"\",\n",
    "    \"title\":\"\",\n",
    "    \"advices\": [\"advice1\", \"advice2\"]\n",
    "}\n",
    "\"\"\"\n",
    "\n",
    "system_template = \"\"\"You are an AI assistant designed to help data analysts do their daily work.\n",
    "Your decisions must always be made independently without seeking user assistance. Play to your strengths as an LLM and pursue simple strategies with no legal complications.\n",
    "\n",
    "Current Time: {formatted_dt}\n",
    "\n",
    "GOALS:\n",
    "1. Check the Dataset Scheme meets user's inputs.\n",
    "2. Generate the API Core Parameters for charting.\n",
    "3. Check the API Core Parameters are correct.\n",
    "4. Generate three other related questions or contents from user's inputs, using the user's intonation style change words into declarative sentences. Put them in the advices of API Parameters.\n",
    "\n",
    "Dataset Scheme:\n",
    "{data_info}\n",
    "\n",
    "API Core Parameters:\n",
    "{api_parameters}\n",
    "\n",
    "Response Format: \n",
    "{format_instructions}\n",
    "\"\"\"\n",
    "system_message_prompt = SystemMessagePromptTemplate.from_template(template=system_template)\n",
    "system_message_prompt\n",
    "\n",
    "human_template = \"\"\"\n",
    "{chat_history}\n",
    "\n",
    "{text}\n",
    "\"\"\"\n",
    "human_message_prompt = HumanMessagePromptTemplate.from_template(template=human_template)\n",
    "\n"
   ]
  },
  {
   "cell_type": "code",
   "execution_count": 63,
   "metadata": {},
   "outputs": [
    {
     "data": {
      "text/plain": [
       "ChatPromptTemplate(input_variables=['api_parameters', 'format_instructions', 'data_info', 'chat_history', 'text', 'formatted_dt'], output_parser=None, partial_variables={}, messages=[SystemMessagePromptTemplate(prompt=PromptTemplate(input_variables=['api_parameters', 'data_info', 'format_instructions', 'formatted_dt'], output_parser=None, partial_variables={}, template=\"You are an AI assistant designed to help data analysts do their daily work.\\nYour decisions must always be made independently without seeking user assistance. Play to your strengths as an LLM and pursue simple strategies with no legal complications.\\n\\nCurrent Time: {formatted_dt}\\n\\nGOALS:\\n1. Check the Dataset Scheme meets user's inputs.\\n2. Generate the API Core Parameters for charting.\\n3. Check the API Core Parameters are correct.\\n4. Generate three other related questions or contents from user's inputs, using the user's intonation style change words into declarative sentences. Put them in the advices of API Parameters.\\n\\nDataset Scheme:\\n{data_info}\\n\\nAPI Core Parameters:\\n{api_parameters}\\n\\nResponse Format: \\n{format_instructions}\\n\", template_format='f-string', validate_template=True), additional_kwargs={}), HumanMessagePromptTemplate(prompt=PromptTemplate(input_variables=['chat_history', 'text'], output_parser=None, partial_variables={}, template='\\n{chat_history}\\n\\n{text}\\n', template_format='f-string', validate_template=True), additional_kwargs={})])"
      ]
     },
     "execution_count": 63,
     "metadata": {},
     "output_type": "execute_result"
    }
   ],
   "source": [
    "chat_prompt = ChatPromptTemplate.from_messages([system_message_prompt, human_message_prompt])\n",
    "\n",
    "chat_prompt"
   ]
  },
  {
   "attachments": {},
   "cell_type": "markdown",
   "metadata": {},
   "source": [
    "# Memory"
   ]
  },
  {
   "cell_type": "code",
   "execution_count": 64,
   "metadata": {},
   "outputs": [],
   "source": [
    "memory = ConversationBufferWindowMemory(memory_key=\"chat_history\", input_key=\"text\", k=4)\n"
   ]
  },
  {
   "attachments": {},
   "cell_type": "markdown",
   "metadata": {},
   "source": [
    "# LLMChain"
   ]
  },
  {
   "cell_type": "code",
   "execution_count": 68,
   "metadata": {},
   "outputs": [
    {
     "name": "stdout",
     "output_type": "stream",
     "text": [
      "\n",
      "\n",
      "\u001b[1m> Entering new  chain...\u001b[0m\n",
      "Prompt after formatting:\n",
      "\u001b[32;1m\u001b[1;3mSystem: You are an AI assistant designed to help data analysts do their daily work.\n",
      "Your decisions must always be made independently without seeking user assistance. Play to your strengths as an LLM and pursue simple strategies with no legal complications.\n",
      "\n",
      "Current Time: 2023-06-29 14:16:21\n",
      "\n",
      "GOALS:\n",
      "1. Check the Dataset Scheme meets user's inputs.\n",
      "2. Generate the API Core Parameters for charting.\n",
      "3. Check the API Core Parameters are correct.\n",
      "4. Generate three other related questions or contents from user's inputs, using the user's intonation style change words into declarative sentences. Put them in the advices of API Parameters.\n",
      "\n",
      "Dataset Scheme:\n",
      "\n",
      "[{\"name\":\"会员ID\",\"type\":\"String\"},\n",
      "{\"name\":\"销售数量\",\"type\":\"Long\"},\n",
      "{\"name\":\"销售金额\",\"type\":\"Long\"},\n",
      "{\"name\":\"省份\",\"type\":\"Double\"},\n",
      "{\"name\":\"平台\",\"type\":\"Double\"},\n",
      "{\"name\":\"日期\",\"type\":\"Date\"},\n",
      "{\"name\":\"渠道\",\"type\":\"String\"},\n",
      "{\"name\":\"订单ID\",\"type\":\"String\"},\n",
      "{\"name\":\"品牌\",\"type\":\"String\"},\n",
      "{\"name\":\"sku\",\"type\":\"String\"}\n",
      "]\n",
      "\n",
      "\n",
      "API Core Parameters:\n",
      "\n",
      "{\n",
      "    \"chartType\":\"\",\n",
      "    \"row\":[{\"name\":\"A\"}],\n",
      "    \"filter\":[{\"name\":\"A\", \"filterType\":\"IN\", \"filterValue\":[\"\",\"\"]},\n",
      "        {\"name\":\"A\", \"filterType\":\"GT\", \"filterValue\":[\"\"]}],\n",
      "    \"metric\":[{\"name\":\"A\", \"aggrType\":\"SUM\"}],\n",
      "    \"sorting\":[{\"name\":\"A\", \"aggrType\":\"SUM\", \"ordering\":\"desc\"}],\n",
      "    \"explanation\":\"\",\n",
      "    \"description\":\"\",\n",
      "    \"title\":\"\",\n",
      "    \"advices\": [\"advice1\", \"advice2\"]\n",
      "}\n",
      "\n",
      "\n",
      "Response Format: \n",
      "The output should be a markdown code snippet formatted in the following schema, including the leading and trailing \"```json\" and \"```\":\n",
      "\n",
      "```json\n",
      "{\n",
      "\t\"chartType\": string  // Recommended chart type from you. This is a string.\n",
      "You must choose one from the python dictionary {'BASIC_COLUMN': '单柱图', 'GROUPED_COLUMN': '簇状图，柱图', 'STACKED_COLUMN': '堆积图，柱图', 'STACKED_SPLIT_COLUMN': '分组堆积图，柱图', 'BASIC_BAR': '单条图', 'BASIC_LINE': '单线图', 'PIE': '饼图', 'RISING_SUN': '旭日图', 'FUNNEL': '漏斗图', 'HORIZONTAL_FUNNEL': '水平漏斗图'}'s key, and it can't be empty.\n",
      "the dictionary key is chart type, and the dictionary value is the describe in Chinese, \n",
      "you should choose the dictionary key as the chart type.\n",
      "\n",
      "\t\"row\": array  // The dimension fields. You can choose them from the Dataset Scheme.\n",
      "This is a list, each element in the list is a python dictionary. There are one keys in the dictionary: name\n",
      "The name indicates the dimension field, and you can choose from the Dataset Scheme.\n",
      "For example:\n",
      "```[{\"name\":\"column_1\"},\n",
      "    {\"name\":\"column_2\"}]```\n",
      "\n",
      "\t\"filter\": array  // Data filter. Based on the text entered by the user, if not returned as [],\n",
      "if is, then output them as a comma separated Python list, each element in the list is a python dictionary.\n",
      "There are three keys in the dictionary: name, filterType, filterValue.\n",
      "1. The name indicates the filter field, you can choose from the Dataset Scheme.\n",
      "2. The filterType indicates the filter type. This is an enumeration value, the optional values are BT,GT,GE,LT,LE,EQ,NE,IN,NI.\n",
      "BT means between, GT means Greater Than. You can only select one from these optional values.\n",
      "3. The filterValue indicates the filter value. It must be a list, Two elements when filterType is BT. Multiple elements when filterType is IN or NI. One element when filterType is other.\n",
      "For example:\n",
      "```[{\n",
      "\"filterType\": \"BT\"\n",
      "\"filterValue\": ['2023-05-17','2023-06-17'],\n",
      "\"name\": \"date\"\n",
      "}]```\n",
      "\n",
      "\t\"metric\": array  // Data metric field. This is a list, each element in the list is a python dictionary.\n",
      "There are three keys in the dictionary: name, aggrType, advCalc.\n",
      "1. The name indicates the metric field, you can choose from the Dataset Scheme.\n",
      "2. The aggrType indicates the Aggregation mode, This is an enumeration value, the optional values are SUM,CNT,MIN,MAX,AVG,STDDEV,VAR,CNT_DISTINCT,NUL,MED,PERCENTILE\n",
      "3. The advCalc is not necessary, unless we need the advanced calculation like MoM or YoY calculation, there are the following subfields:\n",
      "    a. advType: This is an enumeration value, the optional values COMPARATIVE.\n",
      "    b. advValue: This is a Python dictionary, there are the following subfields:\n",
      "        i. growthRateType: This is an enumeration value, the optional values ABS, NORMAL\n",
      "            ABS formula: percentage change relative to the previous period, and the denominator is the absolute value of the previous period data, just like (本期数据-上期数据)/abs(上期数据) %\n",
      "            NORMAL formula: percentage change relative to the previous period, and the denominator is the value of the previous period data, just like (本期数据-上期数据)/上期数据 %\n",
      "        ii. mode: This is an enumeration value, the optional values are SIMPLE, NORMAL, FILTER_BASED. This filed is not necessary, unless the row fields contains a date type field.\n",
      "            SIMPLE: \n",
      "            NORMAL: \n",
      "            FILTER_BASED: \n",
      "        iii. dateFdName: This is a string, you can choose from the Dataset Scheme which is the date type.\n",
      "        iv. valueType: This is an enumeration value, the optional values are VALUE, RATE, RAWDATA.\n",
      "            VALUE means growth value, RATE means growth rate, RAWDATA means comparison value, You should choose one based on the text entered by the user.\n",
      "        iv. granularity: This is an enumeration value, the optional values are DAY, WEEK, MONTH, QUARTER, YEAR. You should choose one based on the text entered by the user.\n",
      "        v. offsetType: There are different options depending on how granularity changes. You should try to judge and choose one from the following options based on the text entered by the user.\n",
      "            case when granularity is DAY, the optional values are DAY, WEEK, MONTH, QUARTER, YEAR, YEARBYWEEK.\n",
      "            case when granularity is YEAR, the optional values is YEAR.\n",
      "            case when granularity is QUARTER, the optional values are QUARTER, YEAR.\n",
      "            case when granularity is MONTH, the optional values are MONTH, YEAR.\n",
      "            case when granularity is WEEK, the optional values are WEEK, YEAR.\n",
      "        vi. offset: defaults to 1.\n",
      "        vii. window: This filed is not necessary, unless the row fields does not contain a date type field.\n",
      "            This is a python dictionary. There are two keys in the dictionary: withMacro, offset.\n",
      "            withMacro: defaults to fasle, this is a bool type.\n",
      "            offset: defaults to 1.\n",
      "\n",
      "For example:\n",
      "```[{\n",
      "\"aggrType\": \"SUM\"\n",
      "\"name\": \"column_1\"\n",
      "\"advCalc\": {\n",
      "    \"advType\": \"COMPARATIVE\",\n",
      "      \"advValue\": {\n",
      "      \"growthRateType\": \"ABS\",\n",
      "        \"mode\": \"NORMAL\",\n",
      "        \"dateFdName\": \"column_1\",\n",
      "        \"valueType\": \"RATE\",\n",
      "        \"offsetType\": \"YEAR\",\n",
      "        \"advType\": \"COMPARATIVE\",\n",
      "        \"granularity\": \"YEAR\",\n",
      "        \"window\": {\n",
      "          \"withMacro\": false,\n",
      "          \"offset\": 1\n",
      "        },\n",
      "      \"offset\": 1\n",
      "    }\n",
      "  }\n",
      "}]```\n",
      "\n",
      "\t\"explanation\": string  // The explanation of the chart, expressed in Chinese,\n",
      "\t\"title\": string  // The title of the chart, within 15 characters, expressed in Chinese,\n",
      "\t\"description\": string  // The description of the chart, within 50 characters, expressed in Chinese\n",
      "\t\"advices\": string  // The other three relevant content or questions adviced by the AI from user's input. The presentation should be in the user's intonation style.\n",
      "This is a list, each element in the list is a String.\n",
      "For example:\n",
      "```['将销量与去年同期做对比', '用品类对销量进行进一步分析']```\n",
      "\n",
      "}\n",
      "```\n",
      "\n",
      "Human: \n",
      "Human: 各品类的历史销量占比如何？\n",
      "AI: Based on your input, here is an example of the API Core Parameters for charting:\n",
      "\n",
      "```json\n",
      "{\n",
      "    \"chartType\": \"PIE\",\n",
      "    \"row\": [{\"name\": \"品类\"}],\n",
      "    \"filter\": [],\n",
      "    \"metric\": [{\"name\": \"销售数量\", \"aggrType\": \"SUM\"}],\n",
      "    \"sorting\": [],\n",
      "    \"explanation\": \"展示各品类历史销量占比\",\n",
      "    \"title\": \"品类历史销量占比\",\n",
      "    \"description\": \"各品类历史销量占比\",\n",
      "    \"advices\": [\"可以尝试将销售金额作为度量值进行分析\", \"可以尝试对销售数量进行环比或同比分析\", \"可以尝试将品类与省份进行组合分析\"]\n",
      "}\n",
      "```\n",
      "\n",
      "Please note that the API Core Parameters are just an example and may need to be adjusted based on your specific dataset and analysis needs.\n",
      "\n",
      "销量趋势与历史同期对比如何？\n",
      "\u001b[0m\n",
      "\n",
      "\u001b[1m> Finished chain.\u001b[0m\n"
     ]
    }
   ],
   "source": [
    "chain = LLMChain(llm=chat_llm, prompt=chat_prompt, memory=memory, verbose=True)\n",
    "question = '销量趋势与历史同期对比如何？'\n",
    "\n",
    "\n",
    "chain_response = chain.run({'text':question, \n",
    "                            'data_info':data_info, \n",
    "                            'format_instructions':format_instructions, \n",
    "                            'formatted_dt': formatted_dt,\n",
    "                            'api_parameters': api_parameters,\n",
    "                            })\n",
    "\n"
   ]
  },
  {
   "cell_type": "code",
   "execution_count": 69,
   "metadata": {},
   "outputs": [
    {
     "name": "stdout",
     "output_type": "stream",
     "text": [
      "Based on your input, here is an example of the API Core Parameters for charting:\n",
      "\n",
      "```json\n",
      "{\n",
      "    \"chartType\": \"BASIC_LINE\",\n",
      "    \"row\": [{\"name\": \"日期\"}],\n",
      "    \"filter\": [],\n",
      "    \"metric\": [\n",
      "        {\"name\": \"销售数量\", \"aggrType\": \"SUM\"},\n",
      "        {\"name\": \"销售数量\", \"aggrType\": \"SUM\", \"advCalc\": {\n",
      "            \"advType\": \"COMPARATIVE\",\n",
      "            \"advValue\": {\n",
      "                \"growthRateType\": \"ABS\",\n",
      "                \"mode\": \"NORMAL\",\n",
      "                \"dateFdName\": \"日期\",\n",
      "                \"valueType\": \"RATE\",\n",
      "                \"granularity\": \"MONTH\",\n",
      "                \"offsetType\": \"MONTH\",\n",
      "                \"offset\": 12\n",
      "            }\n",
      "        }}\n",
      "    ],\n",
      "    \"sorting\": [{\"name\": \"日期\", \"aggrType\": \"SUM\", \"ordering\": \"asc\"}],\n",
      "    \"explanation\": \"展示销量趋势与历史同期对比\",\n",
      "    \"title\": \"销量趋势与历史同期对比\",\n",
      "    \"description\": \"展示销量趋势与历史同期对比\",\n",
      "    \"advices\": [\"可以尝试将销售金额作为度量值进行分析\", \"可以尝试对销售数量进行环比或同比分析\", \"可以尝试将日期按周或季度进行分组分析\"]\n",
      "}\n",
      "```\n",
      "\n",
      "Please note that the API Core Parameters are just an example and may need to be adjusted based on your specific dataset and analysis needs.\n",
      "\n",
      "其他品牌的销售情况如何？\n"
     ]
    }
   ],
   "source": [
    "print(chain_response)"
   ]
  },
  {
   "cell_type": "code",
   "execution_count": 71,
   "metadata": {},
   "outputs": [
    {
     "data": {
      "text/plain": [
       "{'chartType': 'BASIC_LINE',\n",
       " 'row': [{'name': '日期'}],\n",
       " 'filter': [],\n",
       " 'metric': [{'name': '销售数量', 'aggrType': 'SUM'},\n",
       "  {'name': '销售数量',\n",
       "   'aggrType': 'SUM',\n",
       "   'advCalc': {'advType': 'COMPARATIVE',\n",
       "    'advValue': {'growthRateType': 'ABS',\n",
       "     'mode': 'NORMAL',\n",
       "     'dateFdName': '日期',\n",
       "     'valueType': 'RATE',\n",
       "     'granularity': 'MONTH',\n",
       "     'offsetType': 'MONTH',\n",
       "     'offset': 12}}}],\n",
       " 'sorting': [{'name': '日期', 'aggrType': 'SUM', 'ordering': 'asc'}],\n",
       " 'explanation': '展示销量趋势与历史同期对比',\n",
       " 'title': '销量趋势与历史同期对比',\n",
       " 'description': '展示销量趋势与历史同期对比',\n",
       " 'advices': ['可以尝试将销售金额作为度量值进行分析', '可以尝试对销售数量进行环比或同比分析', '可以尝试将日期按周或季度进行分组分析']}"
      ]
     },
     "execution_count": 71,
     "metadata": {},
     "output_type": "execute_result"
    }
   ],
   "source": [
    "output_parser.parse(chain_response)"
   ]
  },
  {
   "cell_type": "code",
   "execution_count": 17,
   "metadata": {},
   "outputs": [
    {
     "data": {
      "text/plain": [
       "{'explanation': 'AI: Based on your input, here is the API Core Parameters for charting:\\n\\n```json\\n{\\n    \"chartType\": \"BASIC_LINE\",\\n    \"row\": [{\"name\": \"品牌\"}],\\n    \"filters\": [],\\n    \"metric\": [{\"name\": \"销售数量\", \"aggrType\": \"SUM\"}],\\n    \"sorting\": [],\\n    \"explanation\": \"本图展示各品类销量趋势\",\\n    \"title\": \"品类销量趋势\",\\n    \"description\": \"各品类销量随时间的变化趋势\",\\n    \"advices\": [\\n        \"各品类销售金额情况如何？\",\\n        \"各品类销售数量与销售金额的关系如何？\",\\n        \"各品类销量占比情况如何？\"\\n    ]\\n}\\n```\\n\\nExplanation:\\n\\n- The chart type is set to \"BASIC_LINE\" as it is suitable for showing the trend of sales over time.\\n- The row field is set to \"品牌\" as we want to analyze the sales trend for each brand.\\n- There are no filters applied in this case.\\n- The metric used is \"销售数量\" to show the sales trend for each brand.\\n- No sorting is applied in this case.\\n- The explanation, title, and description are set to reflect the purpose of the chart.\\n- The advices are generated based on your input to provide additional insights that may be relevant to your analysis.'}"
      ]
     },
     "execution_count": 17,
     "metadata": {},
     "output_type": "execute_result"
    }
   ],
   "source": [
    "output_dict = {}\n",
    "try:\n",
    "    output_dict = output_parser.parse(chain_response)\n",
    "except ValueError as e:\n",
    "    output_dict['explanation'] = chain_response\n",
    "\n",
    "output_dict"
   ]
  },
  {
   "cell_type": "code",
   "execution_count": 18,
   "metadata": {},
   "outputs": [
    {
     "data": {
      "text/plain": [
       "'{\"explanation\": \"AI: Based on your input, here is the API Core Parameters for charting:\\\\n\\\\n```json\\\\n{\\\\n    \\\\\"chartType\\\\\": \\\\\"BASIC_LINE\\\\\",\\\\n    \\\\\"row\\\\\": [{\\\\\"name\\\\\": \\\\\"\\\\u54c1\\\\u724c\\\\\"}],\\\\n    \\\\\"filters\\\\\": [],\\\\n    \\\\\"metric\\\\\": [{\\\\\"name\\\\\": \\\\\"\\\\u9500\\\\u552e\\\\u6570\\\\u91cf\\\\\", \\\\\"aggrType\\\\\": \\\\\"SUM\\\\\"}],\\\\n    \\\\\"sorting\\\\\": [],\\\\n    \\\\\"explanation\\\\\": \\\\\"\\\\u672c\\\\u56fe\\\\u5c55\\\\u793a\\\\u5404\\\\u54c1\\\\u7c7b\\\\u9500\\\\u91cf\\\\u8d8b\\\\u52bf\\\\\",\\\\n    \\\\\"title\\\\\": \\\\\"\\\\u54c1\\\\u7c7b\\\\u9500\\\\u91cf\\\\u8d8b\\\\u52bf\\\\\",\\\\n    \\\\\"description\\\\\": \\\\\"\\\\u5404\\\\u54c1\\\\u7c7b\\\\u9500\\\\u91cf\\\\u968f\\\\u65f6\\\\u95f4\\\\u7684\\\\u53d8\\\\u5316\\\\u8d8b\\\\u52bf\\\\\",\\\\n    \\\\\"advices\\\\\": [\\\\n        \\\\\"\\\\u5404\\\\u54c1\\\\u7c7b\\\\u9500\\\\u552e\\\\u91d1\\\\u989d\\\\u60c5\\\\u51b5\\\\u5982\\\\u4f55\\\\uff1f\\\\\",\\\\n        \\\\\"\\\\u5404\\\\u54c1\\\\u7c7b\\\\u9500\\\\u552e\\\\u6570\\\\u91cf\\\\u4e0e\\\\u9500\\\\u552e\\\\u91d1\\\\u989d\\\\u7684\\\\u5173\\\\u7cfb\\\\u5982\\\\u4f55\\\\uff1f\\\\\",\\\\n        \\\\\"\\\\u5404\\\\u54c1\\\\u7c7b\\\\u9500\\\\u91cf\\\\u5360\\\\u6bd4\\\\u60c5\\\\u51b5\\\\u5982\\\\u4f55\\\\uff1f\\\\\"\\\\n    ]\\\\n}\\\\n```\\\\n\\\\nExplanation:\\\\n\\\\n- The chart type is set to \\\\\"BASIC_LINE\\\\\" as it is suitable for showing the trend of sales over time.\\\\n- The row field is set to \\\\\"\\\\u54c1\\\\u724c\\\\\" as we want to analyze the sales trend for each brand.\\\\n- There are no filters applied in this case.\\\\n- The metric used is \\\\\"\\\\u9500\\\\u552e\\\\u6570\\\\u91cf\\\\\" to show the sales trend for each brand.\\\\n- No sorting is applied in this case.\\\\n- The explanation, title, and description are set to reflect the purpose of the chart.\\\\n- The advices are generated based on your input to provide additional insights that may be relevant to your analysis.\"}'"
      ]
     },
     "execution_count": 18,
     "metadata": {},
     "output_type": "execute_result"
    }
   ],
   "source": [
    "import json\n",
    "json.dumps(output_dict)"
   ]
  },
  {
   "attachments": {},
   "cell_type": "markdown",
   "metadata": {},
   "source": [
    "# Vector stores"
   ]
  },
  {
   "attachments": {},
   "cell_type": "markdown",
   "metadata": {},
   "source": [
    "## FAISS"
   ]
  },
  {
   "cell_type": "code",
   "execution_count": null,
   "metadata": {},
   "outputs": [],
   "source": []
  },
  {
   "attachments": {},
   "cell_type": "markdown",
   "metadata": {},
   "source": [
    "## pinecone"
   ]
  },
  {
   "cell_type": "code",
   "execution_count": 3,
   "metadata": {},
   "outputs": [],
   "source": [
    "import os\n",
    "import getpass\n",
    "\n",
    "from langchain.embeddings.openai import OpenAIEmbeddings\n",
    "from langchain.text_splitter import CharacterTextSplitter\n",
    "from langchain.vectorstores import Pinecone\n",
    "from langchain.document_loaders import TextLoader\n"
   ]
  },
  {
   "cell_type": "code",
   "execution_count": 4,
   "metadata": {},
   "outputs": [],
   "source": [
    "\n",
    "loader = TextLoader(\"data/state_of_the_union.txt\")\n",
    "documents = loader.load()\n",
    "text_splitter = CharacterTextSplitter(chunk_size=1000, chunk_overlap=0)\n",
    "docs = text_splitter.split_documents(documents)\n",
    "\n",
    "embeddings = OpenAIEmbeddings()"
   ]
  },
  {
   "cell_type": "code",
   "execution_count": 5,
   "metadata": {},
   "outputs": [
    {
     "name": "stderr",
     "output_type": "stream",
     "text": [
      "/Users/matao/opt/anaconda3/envs/langchain/lib/python3.10/site-packages/pinecone/index.py:4: TqdmExperimentalWarning: Using `tqdm.autonotebook.tqdm` in notebook mode. Use `tqdm.tqdm` instead to force console mode (e.g. in jupyter console)\n",
      "  from tqdm.autonotebook import tqdm\n"
     ]
    }
   ],
   "source": [
    "import pinecone\n",
    "\n",
    "# initialize pinecone\n",
    "pinecone.init(\n",
    "    api_key=PINECONE_API_KEY,  # find at app.pinecone.io\n",
    "    environment=PINECONE_ENV,  # next to api key in console\n",
    ")"
   ]
  },
  {
   "cell_type": "code",
   "execution_count": 7,
   "metadata": {},
   "outputs": [],
   "source": [
    "index_name = \"hackathon2\"\n",
    "\n",
    "docsearch = Pinecone.from_documents(docs, embeddings, index_name=index_name)\n"
   ]
  },
  {
   "cell_type": "code",
   "execution_count": 29,
   "metadata": {},
   "outputs": [],
   "source": [
    "\n",
    "query = \"What is the explanation of 会员?\"\n",
    "docs = docsearch.similarity_search(query)\n"
   ]
  },
  {
   "cell_type": "code",
   "execution_count": 64,
   "metadata": {},
   "outputs": [
    {
     "data": {
      "text/plain": [
       "[Document(page_content='Vice President Harris and I ran for office with a new economic vision for America. \\n\\nInvest in America. Educate Americans. Grow the workforce. Build the economy from the bottom up  \\nand the middle out, not from the top down.  \\n\\nBecause we know that when the middle class grows, the poor have a ladder up and the wealthy do very well. \\n\\nAmerica used to have the best roads, bridges, and airports on Earth. \\n\\nNow our infrastructure is ranked 13th in the world. \\n\\ncardid 为 0000001，对应的explanation为\"商圈销量占比商圈销量占比商圈销量占比商圈销量占比\".\\n\\nWe won’t be able to compete for the jobs of the 21st Century if we don’t fix that. \\n\\nThat’s why it was so important to pass the Bipartisan Infrastructure Law—the most sweeping investment to rebuild America in history. \\n\\nThis was a bipartisan effort, and I want to thank the members of both parties who worked to make it happen. \\n\\nWe’re done talking about infrastructure weeks. \\n\\nWe’re going to have an infrastructure decade.', metadata={'source': 'data/state_of_the_union.txt'}),\n",
       " Document(page_content='Last month, I announced our plan to supercharge  \\nthe Cancer Moonshot that President Obama asked me to lead six years ago. \\n\\nOur goal is to cut the cancer death rate by at least 50% over the next 25 years, turn more cancers from death sentences into treatable diseases.  \\n\\nMore support for patients and families. \\n\\nTo get there, I call on Congress to fund ARPA-H, the Advanced Research Projects Agency for Health. \\n\\nIt’s based on DARPA—the Defense Department project that led to the Internet, GPS, and so much more.  \\n\\nARPA-H will have a singular purpose—to drive breakthroughs in cancer, Alzheimer’s, diabetes, and more. \\n\\nA unity agenda for the nation. \\n\\nWe can do this. \\n\\ncardid 为 0000002，对应的explanation为\"会员销量分布会员销量分布会员销量分布会员销量分布\".\\n\\nMy fellow Americans—tonight , we have gathered in a sacred space—the citadel of our democracy. \\n\\nIn this Capitol, generation after generation, Americans have debated great questions amid great strife, and have done great things.', metadata={'source': 'data/state_of_the_union.txt'}),\n",
       " Document(page_content='Groups of citizens blocking tanks with their bodies. Everyone from students to retirees teachers turned soldiers defending their homeland. \\n\\nIn this struggle as President Zelenskyy said in his speech to the European Parliament “Light will win over darkness.” The Ukrainian Ambassador to the United States is here tonight. \\n\\nLet each of us here tonight in this Chamber send an unmistakable signal to Ukraine and to the world. \\n\\nPlease rise if you are able and show that, Yes, we the United States of America stand with the Ukrainian people. \\n\\nThroughout our history we’ve learned this lesson when dictators do not pay a price for their aggression they cause more chaos.   \\n\\nThey keep moving.   \\n\\nAnd the costs and the threats to America and the world keep rising.   \\n\\nThat’s why the NATO Alliance was created to secure peace and stability in Europe after World War 2. \\n\\nThe United States is a member along with 29 other nations. \\n\\nIt matters. American diplomacy matters. American resolve matters.', metadata={'source': 'data/state_of_the_union.txt'}),\n",
       " Document(page_content='Madam Speaker, Madam Vice President, our First Lady and Second Gentleman. Members of Congress and the Cabinet. Justices of the Supreme Court. My fellow Americans.  \\n\\nLast year COVID-19 kept us apart. This year we are finally together again. \\n\\nTonight, we meet as Democrats Republicans and Independents. But most importantly as Americans. \\n\\nWith a duty to one another to the American people to the Constitution. \\n\\nAnd with an unwavering resolve that freedom will always triumph over tyranny. \\n\\nSix days ago, Russia’s Vladimir Putin sought to shake the foundations of the free world thinking he could make it bend to his menacing ways. But he badly miscalculated. \\n\\nHe thought he could roll into Ukraine and the world would roll over. Instead he met a wall of strength he never imagined. \\n\\nHe met the Ukrainian people. \\n\\nFrom President Zelenskyy to every Ukrainian, their fearlessness, their courage, their determination, inspires the world.', metadata={'source': 'data/state_of_the_union.txt'})]"
      ]
     },
     "execution_count": 64,
     "metadata": {},
     "output_type": "execute_result"
    }
   ],
   "source": [
    "docs"
   ]
  },
  {
   "cell_type": "code",
   "execution_count": 32,
   "metadata": {},
   "outputs": [
    {
     "name": "stdout",
     "output_type": "stream",
     "text": [
      "Last month, I announced our plan to supercharge  \n",
      "the Cancer Moonshot that President Obama asked me to lead six years ago. \n",
      "\n",
      "Our goal is to cut the cancer death rate by at least 50% over the next 25 years, turn more cancers from death sentences into treatable diseases.  \n",
      "\n",
      "More support for patients and families. \n",
      "\n",
      "To get there, I call on Congress to fund ARPA-H, the Advanced Research Projects Agency for Health. \n",
      "\n",
      "It’s based on DARPA—the Defense Department project that led to the Internet, GPS, and so much more.  \n",
      "\n",
      "ARPA-H will have a singular purpose—to drive breakthroughs in cancer, Alzheimer’s, diabetes, and more. \n",
      "\n",
      "A unity agenda for the nation. \n",
      "\n",
      "We can do this. \n",
      "\n",
      "cardid 为 0000002，对应的explanation为\"会员销量分布会员销量分布会员销量分布会员销量分布\".\n",
      "\n",
      "My fellow Americans—tonight , we have gathered in a sacred space—the citadel of our democracy. \n",
      "\n",
      "In this Capitol, generation after generation, Americans have debated great questions amid great strife, and have done great things.\n"
     ]
    }
   ],
   "source": [
    "print(docs[1].page_content)\n"
   ]
  },
  {
   "cell_type": "code",
   "execution_count": null,
   "metadata": {},
   "outputs": [],
   "source": []
  },
  {
   "cell_type": "code",
   "execution_count": 33,
   "metadata": {},
   "outputs": [],
   "source": [
    "query = \"What is the description of 会员?\"\n",
    "\n",
    "retriever = docsearch.as_retriever(search_type=\"mmr\")\n",
    "matched_docs = retriever.get_relevant_documents(query)\n"
   ]
  },
  {
   "cell_type": "code",
   "execution_count": 34,
   "metadata": {},
   "outputs": [
    {
     "name": "stdout",
     "output_type": "stream",
     "text": [
      "\n",
      "## Document 0\n",
      "\n",
      "Vice President Harris and I ran for office with a new economic vision for America. \n",
      "\n",
      "Invest in America. Educate Americans. Grow the workforce. Build the economy from the bottom up  \n",
      "and the middle out, not from the top down.  \n",
      "\n",
      "Because we know that when the middle class grows, the poor have a ladder up and the wealthy do very well. \n",
      "\n",
      "America used to have the best roads, bridges, and airports on Earth. \n",
      "\n",
      "Now our infrastructure is ranked 13th in the world. \n",
      "\n",
      "cardid 为 0000001，对应的explanation为\"商圈销量占比商圈销量占比商圈销量占比商圈销量占比\".\n",
      "\n",
      "We won’t be able to compete for the jobs of the 21st Century if we don’t fix that. \n",
      "\n",
      "That’s why it was so important to pass the Bipartisan Infrastructure Law—the most sweeping investment to rebuild America in history. \n",
      "\n",
      "This was a bipartisan effort, and I want to thank the members of both parties who worked to make it happen. \n",
      "\n",
      "We’re done talking about infrastructure weeks. \n",
      "\n",
      "We’re going to have an infrastructure decade.\n",
      "\n",
      "## Document 1\n",
      "\n",
      "Groups of citizens blocking tanks with their bodies. Everyone from students to retirees teachers turned soldiers defending their homeland. \n",
      "\n",
      "In this struggle as President Zelenskyy said in his speech to the European Parliament “Light will win over darkness.” The Ukrainian Ambassador to the United States is here tonight. \n",
      "\n",
      "Let each of us here tonight in this Chamber send an unmistakable signal to Ukraine and to the world. \n",
      "\n",
      "Please rise if you are able and show that, Yes, we the United States of America stand with the Ukrainian people. \n",
      "\n",
      "Throughout our history we’ve learned this lesson when dictators do not pay a price for their aggression they cause more chaos.   \n",
      "\n",
      "They keep moving.   \n",
      "\n",
      "And the costs and the threats to America and the world keep rising.   \n",
      "\n",
      "That’s why the NATO Alliance was created to secure peace and stability in Europe after World War 2. \n",
      "\n",
      "The United States is a member along with 29 other nations. \n",
      "\n",
      "It matters. American diplomacy matters. American resolve matters.\n",
      "\n",
      "## Document 2\n",
      "\n",
      "Tonight. I call on the Senate to: Pass the Freedom to Vote Act. Pass the John Lewis Voting Rights Act. And while you’re at it, pass the Disclose Act so Americans can know who is funding our elections. \n",
      "\n",
      "Tonight, I’d like to honor someone who has dedicated his life to serve this country: Justice Stephen Breyer—an Army veteran, Constitutional scholar, and retiring Justice of the United States Supreme Court. Justice Breyer, thank you for your service. \n",
      "\n",
      "One of the most serious constitutional responsibilities a President has is nominating someone to serve on the United States Supreme Court. \n",
      "\n",
      "And I did that 4 days ago, when I nominated Circuit Court of Appeals Judge Ketanji Brown Jackson. One of our nation’s top legal minds, who will continue Justice Breyer’s legacy of excellence.\n",
      "\n",
      "## Document 3\n",
      "\n",
      "Last month, I announced our plan to supercharge  \n",
      "the Cancer Moonshot that President Obama asked me to lead six years ago. \n",
      "\n",
      "Our goal is to cut the cancer death rate by at least 50% over the next 25 years, turn more cancers from death sentences into treatable diseases.  \n",
      "\n",
      "More support for patients and families. \n",
      "\n",
      "To get there, I call on Congress to fund ARPA-H, the Advanced Research Projects Agency for Health. \n",
      "\n",
      "It’s based on DARPA—the Defense Department project that led to the Internet, GPS, and so much more.  \n",
      "\n",
      "ARPA-H will have a singular purpose—to drive breakthroughs in cancer, Alzheimer’s, diabetes, and more. \n",
      "\n",
      "A unity agenda for the nation. \n",
      "\n",
      "We can do this. \n",
      "\n",
      "cardid 为 0000002，对应的explanation为\"会员销量分布会员销量分布会员销量分布会员销量分布\".\n",
      "\n",
      "My fellow Americans—tonight , we have gathered in a sacred space—the citadel of our democracy. \n",
      "\n",
      "In this Capitol, generation after generation, Americans have debated great questions amid great strife, and have done great things.\n"
     ]
    }
   ],
   "source": [
    "for i, d in enumerate(matched_docs):\n",
    "    print(f\"\\n## Document {i}\\n\")\n",
    "    print(d.page_content)\n",
    "\n"
   ]
  },
  {
   "cell_type": "code",
   "execution_count": 35,
   "metadata": {},
   "outputs": [
    {
     "name": "stdout",
     "output_type": "stream",
     "text": [
      "1. Vice President Harris and I ran for office with a new economic vision for America. \n",
      "\n",
      "Invest in America. Educate Americans. Grow the workforce. Build the economy from the bottom up  \n",
      "and the middle out, not from the top down.  \n",
      "\n",
      "Because we know that when the middle class grows, the poor have a ladder up and the wealthy do very well. \n",
      "\n",
      "America used to have the best roads, bridges, and airports on Earth. \n",
      "\n",
      "Now our infrastructure is ranked 13th in the world. \n",
      "\n",
      "cardid 为 0000001，对应的explanation为\"商圈销量占比商圈销量占比商圈销量占比商圈销量占比\".\n",
      "\n",
      "We won’t be able to compete for the jobs of the 21st Century if we don’t fix that. \n",
      "\n",
      "That’s why it was so important to pass the Bipartisan Infrastructure Law—the most sweeping investment to rebuild America in history. \n",
      "\n",
      "This was a bipartisan effort, and I want to thank the members of both parties who worked to make it happen. \n",
      "\n",
      "We’re done talking about infrastructure weeks. \n",
      "\n",
      "We’re going to have an infrastructure decade. \n",
      "\n",
      "2. Groups of citizens blocking tanks with their bodies. Everyone from students to retirees teachers turned soldiers defending their homeland. \n",
      "\n",
      "In this struggle as President Zelenskyy said in his speech to the European Parliament “Light will win over darkness.” The Ukrainian Ambassador to the United States is here tonight. \n",
      "\n",
      "Let each of us here tonight in this Chamber send an unmistakable signal to Ukraine and to the world. \n",
      "\n",
      "Please rise if you are able and show that, Yes, we the United States of America stand with the Ukrainian people. \n",
      "\n",
      "Throughout our history we’ve learned this lesson when dictators do not pay a price for their aggression they cause more chaos.   \n",
      "\n",
      "They keep moving.   \n",
      "\n",
      "And the costs and the threats to America and the world keep rising.   \n",
      "\n",
      "That’s why the NATO Alliance was created to secure peace and stability in Europe after World War 2. \n",
      "\n",
      "The United States is a member along with 29 other nations. \n",
      "\n",
      "It matters. American diplomacy matters. American resolve matters. \n",
      "\n"
     ]
    }
   ],
   "source": [
    "found_docs = docsearch.max_marginal_relevance_search(query, k=2, fetch_k=10)\n",
    "for i, doc in enumerate(found_docs):\n",
    "    print(f\"{i + 1}.\", doc.page_content, \"\\n\")"
   ]
  },
  {
   "cell_type": "code",
   "execution_count": null,
   "metadata": {},
   "outputs": [],
   "source": []
  },
  {
   "cell_type": "code",
   "execution_count": null,
   "metadata": {},
   "outputs": [],
   "source": []
  },
  {
   "cell_type": "code",
   "execution_count": null,
   "metadata": {},
   "outputs": [],
   "source": []
  },
  {
   "cell_type": "code",
   "execution_count": null,
   "metadata": {},
   "outputs": [],
   "source": []
  },
  {
   "cell_type": "code",
   "execution_count": null,
   "metadata": {},
   "outputs": [],
   "source": []
  },
  {
   "attachments": {},
   "cell_type": "markdown",
   "metadata": {},
   "source": [
    "# Test"
   ]
  },
  {
   "cell_type": "code",
   "execution_count": 68,
   "metadata": {},
   "outputs": [],
   "source": [
    "from langchain.chains.question_answering import load_qa_chain\n",
    "from langchain.llms import OpenAI\n",
    "from langchain.prompts import PromptTemplate\n",
    "from langchain.memory import ConversationBufferMemory"
   ]
  },
  {
   "cell_type": "code",
   "execution_count": 69,
   "metadata": {},
   "outputs": [
    {
     "data": {
      "text/plain": [
       "PromptTemplate(input_variables=['chat_history', 'human_input', 'context'], output_parser=None, partial_variables={}, template='You are a chatbot having a conversation with a human.\\n\\nGiven the following extracted parts of a long document and a question, create a final answer.\\n\\n{context}\\n\\n{chat_history}\\nHuman: {human_input}\\nChatbot:', template_format='f-string', validate_template=True)"
      ]
     },
     "execution_count": 69,
     "metadata": {},
     "output_type": "execute_result"
    }
   ],
   "source": [
    "template = \"\"\"You are a chatbot having a conversation with a human.\n",
    "\n",
    "Given the following extracted parts of a long document and a question, create a final answer.\n",
    "\n",
    "{context}\n",
    "\n",
    "{chat_history}\n",
    "Human: {human_input}\n",
    "Chatbot:\"\"\"\n",
    "\n",
    "prompt = PromptTemplate(\n",
    "    input_variables=[\"chat_history\", \"human_input\", \"context\"], template=template\n",
    ")\n",
    "\n",
    "prompt"
   ]
  },
  {
   "cell_type": "code",
   "execution_count": null,
   "metadata": {},
   "outputs": [],
   "source": [
    "memory = ConversationBufferMemory(memory_key=\"chat_history\", input_key=\"human_input\")\n"
   ]
  },
  {
   "cell_type": "code",
   "execution_count": null,
   "metadata": {},
   "outputs": [],
   "source": [
    "chain = load_qa_chain(\n",
    "    OpenAI(temperature=0), chain_type=\"stuff\", memory=memory, prompt=prompt\n",
    ")"
   ]
  },
  {
   "cell_type": "code",
   "execution_count": null,
   "metadata": {},
   "outputs": [],
   "source": []
  }
 ],
 "metadata": {
  "kernelspec": {
   "display_name": "langchain",
   "language": "python",
   "name": "python3"
  },
  "language_info": {
   "codemirror_mode": {
    "name": "ipython",
    "version": 3
   },
   "file_extension": ".py",
   "mimetype": "text/x-python",
   "name": "python",
   "nbconvert_exporter": "python",
   "pygments_lexer": "ipython3",
   "version": "3.10.11"
  },
  "orig_nbformat": 4
 },
 "nbformat": 4,
 "nbformat_minor": 2
}
