{
 "cells": [
  {
   "attachments": {},
   "cell_type": "markdown",
   "metadata": {},
   "source": [
    "# Env import"
   ]
  },
  {
   "cell_type": "code",
   "execution_count": 1,
   "metadata": {},
   "outputs": [],
   "source": [
    "from datetime import date, datetime\n",
    "from typing import Union, List\n",
    "from apikey import API_KEY, BASE_URL, DEPLOYMENT_NAME, PINECONE_API_KEY, PINECONE_ENV\n",
    "from langchain.chat_models import AzureChatOpenAI\n",
    "import functools\n",
    "\n",
    "from langchain import PromptTemplate\n",
    "from langchain.prompts.chat import(\n",
    "    ChatPromptTemplate,\n",
    "    SystemMessagePromptTemplate,\n",
    "    HumanMessagePromptTemplate,\n",
    "    AIMessagePromptTemplate\n",
    ")\n",
    "\n",
    "from langchain.output_parsers import ResponseSchema\n",
    "from langchain.output_parsers import StructuredOutputParser\n",
    "\n",
    "from langchain.schema import (\n",
    "    SystemMessage,\n",
    "    HumanMessage,\n",
    "    AIMessage\n",
    "    )\n",
    "\n",
    "from langchain.memory import ConversationBufferMemory, ConversationBufferWindowMemory\n",
    "\n",
    "from langchain.chains import LLMChain, APIChain, SequentialChain, SimpleSequentialChain\n",
    "\n",
    "import os \n",
    "from apikey import apikey \n",
    "\n",
    "\n",
    "os.environ['OPENAI_API_KEY'] = apikey"
   ]
  },
  {
   "attachments": {},
   "cell_type": "markdown",
   "metadata": {},
   "source": [
    "# Config "
   ]
  },
  {
   "cell_type": "code",
   "execution_count": 2,
   "metadata": {},
   "outputs": [
    {
     "data": {
      "text/plain": [
       "'2023-08-01 13:00:01'"
      ]
     },
     "execution_count": 2,
     "metadata": {},
     "output_type": "execute_result"
    }
   ],
   "source": [
    "data_info = \"\"\"\n",
    "[{\"name\":\"会员ID\",\"type\":\"String\"},\n",
    "{\"name\":\"销售数量\",\"type\":\"Long\"},\n",
    "{\"name\":\"销售金额\",\"type\":\"Long\"},\n",
    "{\"name\":\"省份\",\"type\":\"Double\"},\n",
    "{\"name\":\"平台\",\"type\":\"Double\"},\n",
    "{\"name\":\"日期\",\"type\":\"Date\"},\n",
    "{\"name\":\"渠道\",\"type\":\"String\"},\n",
    "{\"name\":\"订单ID\",\"type\":\"String\"},\n",
    "{\"name\":\"品牌\",\"type\":\"String\"},\n",
    "{\"name\":\"sku\",\"type\":\"String\"}\n",
    "]\n",
    "\"\"\"\n",
    "\n",
    "# 当前时间\n",
    "today = date.today()\n",
    "formatted_date = today.strftime(\"%Y-%m-%d\")\n",
    "\n",
    "today_dt = datetime.now()\n",
    "formatted_dt = today_dt.strftime(\"%Y-%m-%d %H:%M:%S\")\n",
    "\n",
    "formatted_dt"
   ]
  },
  {
   "attachments": {},
   "cell_type": "markdown",
   "metadata": {},
   "source": [
    "# Model"
   ]
  },
  {
   "cell_type": "code",
   "execution_count": 3,
   "metadata": {},
   "outputs": [],
   "source": [
    "chat_llm = AzureChatOpenAI(\n",
    "    openai_api_base=BASE_URL,\n",
    "    openai_api_version=\"2023-05-15\",\n",
    "    deployment_name=DEPLOYMENT_NAME,\n",
    "    openai_api_key=API_KEY,\n",
    "    openai_api_type = \"azure\",\n",
    "    temperature=0\n",
    ")"
   ]
  },
  {
   "cell_type": "code",
   "execution_count": 4,
   "metadata": {},
   "outputs": [
    {
     "name": "stderr",
     "output_type": "stream",
     "text": [
      "Retrying langchain.chat_models.openai.ChatOpenAI.completion_with_retry.<locals>._completion_with_retry in 1.0 seconds as it raised APIConnectionError: Error communicating with OpenAI: HTTPSConnectionPool(host='gd-hackathon.openai.azure.com', port=443): Max retries exceeded with url: /openai/deployments/gpt-35-turbo/chat/completions?api-version=2023-05-15 (Caused by SSLError(SSLEOFError(8, '[SSL: UNEXPECTED_EOF_WHILE_READING] EOF occurred in violation of protocol (_ssl.c:1007)'))).\n",
      "Retrying langchain.chat_models.openai.ChatOpenAI.completion_with_retry.<locals>._completion_with_retry in 2.0 seconds as it raised APIConnectionError: Error communicating with OpenAI: HTTPSConnectionPool(host='gd-hackathon.openai.azure.com', port=443): Max retries exceeded with url: /openai/deployments/gpt-35-turbo/chat/completions?api-version=2023-05-15 (Caused by SSLError(SSLEOFError(8, '[SSL: UNEXPECTED_EOF_WHILE_READING] EOF occurred in violation of protocol (_ssl.c:1007)'))).\n",
      "Retrying langchain.chat_models.openai.ChatOpenAI.completion_with_retry.<locals>._completion_with_retry in 4.0 seconds as it raised APIConnectionError: Error communicating with OpenAI: HTTPSConnectionPool(host='gd-hackathon.openai.azure.com', port=443): Max retries exceeded with url: /openai/deployments/gpt-35-turbo/chat/completions?api-version=2023-05-15 (Caused by SSLError(SSLEOFError(8, '[SSL: UNEXPECTED_EOF_WHILE_READING] EOF occurred in violation of protocol (_ssl.c:1007)'))).\n",
      "Retrying langchain.chat_models.openai.ChatOpenAI.completion_with_retry.<locals>._completion_with_retry in 8.0 seconds as it raised APIConnectionError: Error communicating with OpenAI: HTTPSConnectionPool(host='gd-hackathon.openai.azure.com', port=443): Max retries exceeded with url: /openai/deployments/gpt-35-turbo/chat/completions?api-version=2023-05-15 (Caused by SSLError(SSLEOFError(8, '[SSL: UNEXPECTED_EOF_WHILE_READING] EOF occurred in violation of protocol (_ssl.c:1007)'))).\n",
      "Retrying langchain.chat_models.openai.ChatOpenAI.completion_with_retry.<locals>._completion_with_retry in 16.0 seconds as it raised APIConnectionError: Error communicating with OpenAI: HTTPSConnectionPool(host='gd-hackathon.openai.azure.com', port=443): Max retries exceeded with url: /openai/deployments/gpt-35-turbo/chat/completions?api-version=2023-05-15 (Caused by SSLError(SSLEOFError(8, '[SSL: UNEXPECTED_EOF_WHILE_READING] EOF occurred in violation of protocol (_ssl.c:1007)'))).\n"
     ]
    },
    {
     "ename": "APIConnectionError",
     "evalue": "Error communicating with OpenAI: HTTPSConnectionPool(host='gd-hackathon.openai.azure.com', port=443): Max retries exceeded with url: /openai/deployments/gpt-35-turbo/chat/completions?api-version=2023-05-15 (Caused by SSLError(SSLEOFError(8, '[SSL: UNEXPECTED_EOF_WHILE_READING] EOF occurred in violation of protocol (_ssl.c:1007)')))",
     "output_type": "error",
     "traceback": [
      "\u001b[0;31m---------------------------------------------------------------------------\u001b[0m",
      "\u001b[0;31mSSLEOFError\u001b[0m                               Traceback (most recent call last)",
      "File \u001b[0;32m~/opt/anaconda3/envs/langchain/lib/python3.10/site-packages/urllib3/connectionpool.py:711\u001b[0m, in \u001b[0;36mHTTPConnectionPool.urlopen\u001b[0;34m(self, method, url, body, headers, retries, redirect, assert_same_host, timeout, pool_timeout, release_conn, chunked, body_pos, **response_kw)\u001b[0m\n\u001b[1;32m    710\u001b[0m \u001b[39mif\u001b[39;00m is_new_proxy_conn \u001b[39mand\u001b[39;00m http_tunnel_required:\n\u001b[0;32m--> 711\u001b[0m     \u001b[39mself\u001b[39;49m\u001b[39m.\u001b[39;49m_prepare_proxy(conn)\n\u001b[1;32m    713\u001b[0m \u001b[39m# Make the request on the httplib connection object.\u001b[39;00m\n",
      "File \u001b[0;32m~/opt/anaconda3/envs/langchain/lib/python3.10/site-packages/urllib3/connectionpool.py:1007\u001b[0m, in \u001b[0;36mHTTPSConnectionPool._prepare_proxy\u001b[0;34m(self, conn)\u001b[0m\n\u001b[1;32m   1005\u001b[0m     conn\u001b[39m.\u001b[39mtls_in_tls_required \u001b[39m=\u001b[39m \u001b[39mTrue\u001b[39;00m\n\u001b[0;32m-> 1007\u001b[0m conn\u001b[39m.\u001b[39;49mconnect()\n",
      "File \u001b[0;32m~/opt/anaconda3/envs/langchain/lib/python3.10/site-packages/urllib3/connection.py:419\u001b[0m, in \u001b[0;36mHTTPSConnection.connect\u001b[0;34m(self)\u001b[0m\n\u001b[1;32m    417\u001b[0m     context\u001b[39m.\u001b[39mload_default_certs()\n\u001b[0;32m--> 419\u001b[0m \u001b[39mself\u001b[39m\u001b[39m.\u001b[39msock \u001b[39m=\u001b[39m ssl_wrap_socket(\n\u001b[1;32m    420\u001b[0m     sock\u001b[39m=\u001b[39;49mconn,\n\u001b[1;32m    421\u001b[0m     keyfile\u001b[39m=\u001b[39;49m\u001b[39mself\u001b[39;49m\u001b[39m.\u001b[39;49mkey_file,\n\u001b[1;32m    422\u001b[0m     certfile\u001b[39m=\u001b[39;49m\u001b[39mself\u001b[39;49m\u001b[39m.\u001b[39;49mcert_file,\n\u001b[1;32m    423\u001b[0m     key_password\u001b[39m=\u001b[39;49m\u001b[39mself\u001b[39;49m\u001b[39m.\u001b[39;49mkey_password,\n\u001b[1;32m    424\u001b[0m     ca_certs\u001b[39m=\u001b[39;49m\u001b[39mself\u001b[39;49m\u001b[39m.\u001b[39;49mca_certs,\n\u001b[1;32m    425\u001b[0m     ca_cert_dir\u001b[39m=\u001b[39;49m\u001b[39mself\u001b[39;49m\u001b[39m.\u001b[39;49mca_cert_dir,\n\u001b[1;32m    426\u001b[0m     ca_cert_data\u001b[39m=\u001b[39;49m\u001b[39mself\u001b[39;49m\u001b[39m.\u001b[39;49mca_cert_data,\n\u001b[1;32m    427\u001b[0m     server_hostname\u001b[39m=\u001b[39;49mserver_hostname,\n\u001b[1;32m    428\u001b[0m     ssl_context\u001b[39m=\u001b[39;49mcontext,\n\u001b[1;32m    429\u001b[0m     tls_in_tls\u001b[39m=\u001b[39;49mtls_in_tls,\n\u001b[1;32m    430\u001b[0m )\n\u001b[1;32m    432\u001b[0m \u001b[39m# If we're using all defaults and the connection\u001b[39;00m\n\u001b[1;32m    433\u001b[0m \u001b[39m# is TLSv1 or TLSv1.1 we throw a DeprecationWarning\u001b[39;00m\n\u001b[1;32m    434\u001b[0m \u001b[39m# for the host.\u001b[39;00m\n",
      "File \u001b[0;32m~/opt/anaconda3/envs/langchain/lib/python3.10/site-packages/urllib3/util/ssl_.py:449\u001b[0m, in \u001b[0;36mssl_wrap_socket\u001b[0;34m(sock, keyfile, certfile, cert_reqs, ca_certs, server_hostname, ssl_version, ciphers, ssl_context, ca_cert_dir, key_password, ca_cert_data, tls_in_tls)\u001b[0m\n\u001b[1;32m    448\u001b[0m \u001b[39mif\u001b[39;00m send_sni:\n\u001b[0;32m--> 449\u001b[0m     ssl_sock \u001b[39m=\u001b[39m _ssl_wrap_socket_impl(\n\u001b[1;32m    450\u001b[0m         sock, context, tls_in_tls, server_hostname\u001b[39m=\u001b[39;49mserver_hostname\n\u001b[1;32m    451\u001b[0m     )\n\u001b[1;32m    452\u001b[0m \u001b[39melse\u001b[39;00m:\n",
      "File \u001b[0;32m~/opt/anaconda3/envs/langchain/lib/python3.10/site-packages/urllib3/util/ssl_.py:493\u001b[0m, in \u001b[0;36m_ssl_wrap_socket_impl\u001b[0;34m(sock, ssl_context, tls_in_tls, server_hostname)\u001b[0m\n\u001b[1;32m    492\u001b[0m \u001b[39mif\u001b[39;00m server_hostname:\n\u001b[0;32m--> 493\u001b[0m     \u001b[39mreturn\u001b[39;00m ssl_context\u001b[39m.\u001b[39;49mwrap_socket(sock, server_hostname\u001b[39m=\u001b[39;49mserver_hostname)\n\u001b[1;32m    494\u001b[0m \u001b[39melse\u001b[39;00m:\n",
      "File \u001b[0;32m~/opt/anaconda3/envs/langchain/lib/python3.10/ssl.py:513\u001b[0m, in \u001b[0;36mSSLContext.wrap_socket\u001b[0;34m(self, sock, server_side, do_handshake_on_connect, suppress_ragged_eofs, server_hostname, session)\u001b[0m\n\u001b[1;32m    507\u001b[0m \u001b[39mdef\u001b[39;00m \u001b[39mwrap_socket\u001b[39m(\u001b[39mself\u001b[39m, sock, server_side\u001b[39m=\u001b[39m\u001b[39mFalse\u001b[39;00m,\n\u001b[1;32m    508\u001b[0m                 do_handshake_on_connect\u001b[39m=\u001b[39m\u001b[39mTrue\u001b[39;00m,\n\u001b[1;32m    509\u001b[0m                 suppress_ragged_eofs\u001b[39m=\u001b[39m\u001b[39mTrue\u001b[39;00m,\n\u001b[1;32m    510\u001b[0m                 server_hostname\u001b[39m=\u001b[39m\u001b[39mNone\u001b[39;00m, session\u001b[39m=\u001b[39m\u001b[39mNone\u001b[39;00m):\n\u001b[1;32m    511\u001b[0m     \u001b[39m# SSLSocket class handles server_hostname encoding before it calls\u001b[39;00m\n\u001b[1;32m    512\u001b[0m     \u001b[39m# ctx._wrap_socket()\u001b[39;00m\n\u001b[0;32m--> 513\u001b[0m     \u001b[39mreturn\u001b[39;00m \u001b[39mself\u001b[39;49m\u001b[39m.\u001b[39;49msslsocket_class\u001b[39m.\u001b[39;49m_create(\n\u001b[1;32m    514\u001b[0m         sock\u001b[39m=\u001b[39;49msock,\n\u001b[1;32m    515\u001b[0m         server_side\u001b[39m=\u001b[39;49mserver_side,\n\u001b[1;32m    516\u001b[0m         do_handshake_on_connect\u001b[39m=\u001b[39;49mdo_handshake_on_connect,\n\u001b[1;32m    517\u001b[0m         suppress_ragged_eofs\u001b[39m=\u001b[39;49msuppress_ragged_eofs,\n\u001b[1;32m    518\u001b[0m         server_hostname\u001b[39m=\u001b[39;49mserver_hostname,\n\u001b[1;32m    519\u001b[0m         context\u001b[39m=\u001b[39;49m\u001b[39mself\u001b[39;49m,\n\u001b[1;32m    520\u001b[0m         session\u001b[39m=\u001b[39;49msession\n\u001b[1;32m    521\u001b[0m     )\n",
      "File \u001b[0;32m~/opt/anaconda3/envs/langchain/lib/python3.10/ssl.py:1071\u001b[0m, in \u001b[0;36mSSLSocket._create\u001b[0;34m(cls, sock, server_side, do_handshake_on_connect, suppress_ragged_eofs, server_hostname, context, session)\u001b[0m\n\u001b[1;32m   1070\u001b[0m             \u001b[39mraise\u001b[39;00m \u001b[39mValueError\u001b[39;00m(\u001b[39m\"\u001b[39m\u001b[39mdo_handshake_on_connect should not be specified for non-blocking sockets\u001b[39m\u001b[39m\"\u001b[39m)\n\u001b[0;32m-> 1071\u001b[0m         \u001b[39mself\u001b[39;49m\u001b[39m.\u001b[39;49mdo_handshake()\n\u001b[1;32m   1072\u001b[0m \u001b[39mexcept\u001b[39;00m (\u001b[39mOSError\u001b[39;00m, \u001b[39mValueError\u001b[39;00m):\n",
      "File \u001b[0;32m~/opt/anaconda3/envs/langchain/lib/python3.10/ssl.py:1342\u001b[0m, in \u001b[0;36mSSLSocket.do_handshake\u001b[0;34m(self, block)\u001b[0m\n\u001b[1;32m   1341\u001b[0m         \u001b[39mself\u001b[39m\u001b[39m.\u001b[39msettimeout(\u001b[39mNone\u001b[39;00m)\n\u001b[0;32m-> 1342\u001b[0m     \u001b[39mself\u001b[39;49m\u001b[39m.\u001b[39;49m_sslobj\u001b[39m.\u001b[39;49mdo_handshake()\n\u001b[1;32m   1343\u001b[0m \u001b[39mfinally\u001b[39;00m:\n",
      "\u001b[0;31mSSLEOFError\u001b[0m: [SSL: UNEXPECTED_EOF_WHILE_READING] EOF occurred in violation of protocol (_ssl.c:1007)",
      "\nDuring handling of the above exception, another exception occurred:\n",
      "\u001b[0;31mMaxRetryError\u001b[0m                             Traceback (most recent call last)",
      "File \u001b[0;32m~/opt/anaconda3/envs/langchain/lib/python3.10/site-packages/requests/adapters.py:486\u001b[0m, in \u001b[0;36mHTTPAdapter.send\u001b[0;34m(self, request, stream, timeout, verify, cert, proxies)\u001b[0m\n\u001b[1;32m    485\u001b[0m \u001b[39mtry\u001b[39;00m:\n\u001b[0;32m--> 486\u001b[0m     resp \u001b[39m=\u001b[39m conn\u001b[39m.\u001b[39;49murlopen(\n\u001b[1;32m    487\u001b[0m         method\u001b[39m=\u001b[39;49mrequest\u001b[39m.\u001b[39;49mmethod,\n\u001b[1;32m    488\u001b[0m         url\u001b[39m=\u001b[39;49murl,\n\u001b[1;32m    489\u001b[0m         body\u001b[39m=\u001b[39;49mrequest\u001b[39m.\u001b[39;49mbody,\n\u001b[1;32m    490\u001b[0m         headers\u001b[39m=\u001b[39;49mrequest\u001b[39m.\u001b[39;49mheaders,\n\u001b[1;32m    491\u001b[0m         redirect\u001b[39m=\u001b[39;49m\u001b[39mFalse\u001b[39;49;00m,\n\u001b[1;32m    492\u001b[0m         assert_same_host\u001b[39m=\u001b[39;49m\u001b[39mFalse\u001b[39;49;00m,\n\u001b[1;32m    493\u001b[0m         preload_content\u001b[39m=\u001b[39;49m\u001b[39mFalse\u001b[39;49;00m,\n\u001b[1;32m    494\u001b[0m         decode_content\u001b[39m=\u001b[39;49m\u001b[39mFalse\u001b[39;49;00m,\n\u001b[1;32m    495\u001b[0m         retries\u001b[39m=\u001b[39;49m\u001b[39mself\u001b[39;49m\u001b[39m.\u001b[39;49mmax_retries,\n\u001b[1;32m    496\u001b[0m         timeout\u001b[39m=\u001b[39;49mtimeout,\n\u001b[1;32m    497\u001b[0m         chunked\u001b[39m=\u001b[39;49mchunked,\n\u001b[1;32m    498\u001b[0m     )\n\u001b[1;32m    500\u001b[0m \u001b[39mexcept\u001b[39;00m (ProtocolError, \u001b[39mOSError\u001b[39;00m) \u001b[39mas\u001b[39;00m err:\n",
      "File \u001b[0;32m~/opt/anaconda3/envs/langchain/lib/python3.10/site-packages/urllib3/connectionpool.py:826\u001b[0m, in \u001b[0;36mHTTPConnectionPool.urlopen\u001b[0;34m(self, method, url, body, headers, retries, redirect, assert_same_host, timeout, pool_timeout, release_conn, chunked, body_pos, **response_kw)\u001b[0m\n\u001b[1;32m    823\u001b[0m     log\u001b[39m.\u001b[39mwarning(\n\u001b[1;32m    824\u001b[0m         \u001b[39m\"\u001b[39m\u001b[39mRetrying (\u001b[39m\u001b[39m%r\u001b[39;00m\u001b[39m) after connection broken by \u001b[39m\u001b[39m'\u001b[39m\u001b[39m%r\u001b[39;00m\u001b[39m'\u001b[39m\u001b[39m: \u001b[39m\u001b[39m%s\u001b[39;00m\u001b[39m\"\u001b[39m, retries, err, url\n\u001b[1;32m    825\u001b[0m     )\n\u001b[0;32m--> 826\u001b[0m     \u001b[39mreturn\u001b[39;00m \u001b[39mself\u001b[39;49m\u001b[39m.\u001b[39;49murlopen(\n\u001b[1;32m    827\u001b[0m         method,\n\u001b[1;32m    828\u001b[0m         url,\n\u001b[1;32m    829\u001b[0m         body,\n\u001b[1;32m    830\u001b[0m         headers,\n\u001b[1;32m    831\u001b[0m         retries,\n\u001b[1;32m    832\u001b[0m         redirect,\n\u001b[1;32m    833\u001b[0m         assert_same_host,\n\u001b[1;32m    834\u001b[0m         timeout\u001b[39m=\u001b[39;49mtimeout,\n\u001b[1;32m    835\u001b[0m         pool_timeout\u001b[39m=\u001b[39;49mpool_timeout,\n\u001b[1;32m    836\u001b[0m         release_conn\u001b[39m=\u001b[39;49mrelease_conn,\n\u001b[1;32m    837\u001b[0m         chunked\u001b[39m=\u001b[39;49mchunked,\n\u001b[1;32m    838\u001b[0m         body_pos\u001b[39m=\u001b[39;49mbody_pos,\n\u001b[1;32m    839\u001b[0m         \u001b[39m*\u001b[39;49m\u001b[39m*\u001b[39;49mresponse_kw\n\u001b[1;32m    840\u001b[0m     )\n\u001b[1;32m    842\u001b[0m \u001b[39m# Handle redirect?\u001b[39;00m\n",
      "File \u001b[0;32m~/opt/anaconda3/envs/langchain/lib/python3.10/site-packages/urllib3/connectionpool.py:826\u001b[0m, in \u001b[0;36mHTTPConnectionPool.urlopen\u001b[0;34m(self, method, url, body, headers, retries, redirect, assert_same_host, timeout, pool_timeout, release_conn, chunked, body_pos, **response_kw)\u001b[0m\n\u001b[1;32m    823\u001b[0m     log\u001b[39m.\u001b[39mwarning(\n\u001b[1;32m    824\u001b[0m         \u001b[39m\"\u001b[39m\u001b[39mRetrying (\u001b[39m\u001b[39m%r\u001b[39;00m\u001b[39m) after connection broken by \u001b[39m\u001b[39m'\u001b[39m\u001b[39m%r\u001b[39;00m\u001b[39m'\u001b[39m\u001b[39m: \u001b[39m\u001b[39m%s\u001b[39;00m\u001b[39m\"\u001b[39m, retries, err, url\n\u001b[1;32m    825\u001b[0m     )\n\u001b[0;32m--> 826\u001b[0m     \u001b[39mreturn\u001b[39;00m \u001b[39mself\u001b[39;49m\u001b[39m.\u001b[39;49murlopen(\n\u001b[1;32m    827\u001b[0m         method,\n\u001b[1;32m    828\u001b[0m         url,\n\u001b[1;32m    829\u001b[0m         body,\n\u001b[1;32m    830\u001b[0m         headers,\n\u001b[1;32m    831\u001b[0m         retries,\n\u001b[1;32m    832\u001b[0m         redirect,\n\u001b[1;32m    833\u001b[0m         assert_same_host,\n\u001b[1;32m    834\u001b[0m         timeout\u001b[39m=\u001b[39;49mtimeout,\n\u001b[1;32m    835\u001b[0m         pool_timeout\u001b[39m=\u001b[39;49mpool_timeout,\n\u001b[1;32m    836\u001b[0m         release_conn\u001b[39m=\u001b[39;49mrelease_conn,\n\u001b[1;32m    837\u001b[0m         chunked\u001b[39m=\u001b[39;49mchunked,\n\u001b[1;32m    838\u001b[0m         body_pos\u001b[39m=\u001b[39;49mbody_pos,\n\u001b[1;32m    839\u001b[0m         \u001b[39m*\u001b[39;49m\u001b[39m*\u001b[39;49mresponse_kw\n\u001b[1;32m    840\u001b[0m     )\n\u001b[1;32m    842\u001b[0m \u001b[39m# Handle redirect?\u001b[39;00m\n",
      "File \u001b[0;32m~/opt/anaconda3/envs/langchain/lib/python3.10/site-packages/urllib3/connectionpool.py:798\u001b[0m, in \u001b[0;36mHTTPConnectionPool.urlopen\u001b[0;34m(self, method, url, body, headers, retries, redirect, assert_same_host, timeout, pool_timeout, release_conn, chunked, body_pos, **response_kw)\u001b[0m\n\u001b[1;32m    796\u001b[0m     e \u001b[39m=\u001b[39m ProtocolError(\u001b[39m\"\u001b[39m\u001b[39mConnection aborted.\u001b[39m\u001b[39m\"\u001b[39m, e)\n\u001b[0;32m--> 798\u001b[0m retries \u001b[39m=\u001b[39m retries\u001b[39m.\u001b[39;49mincrement(\n\u001b[1;32m    799\u001b[0m     method, url, error\u001b[39m=\u001b[39;49me, _pool\u001b[39m=\u001b[39;49m\u001b[39mself\u001b[39;49m, _stacktrace\u001b[39m=\u001b[39;49msys\u001b[39m.\u001b[39;49mexc_info()[\u001b[39m2\u001b[39;49m]\n\u001b[1;32m    800\u001b[0m )\n\u001b[1;32m    801\u001b[0m retries\u001b[39m.\u001b[39msleep()\n",
      "File \u001b[0;32m~/opt/anaconda3/envs/langchain/lib/python3.10/site-packages/urllib3/util/retry.py:592\u001b[0m, in \u001b[0;36mRetry.increment\u001b[0;34m(self, method, url, response, error, _pool, _stacktrace)\u001b[0m\n\u001b[1;32m    591\u001b[0m \u001b[39mif\u001b[39;00m new_retry\u001b[39m.\u001b[39mis_exhausted():\n\u001b[0;32m--> 592\u001b[0m     \u001b[39mraise\u001b[39;00m MaxRetryError(_pool, url, error \u001b[39mor\u001b[39;00m ResponseError(cause))\n\u001b[1;32m    594\u001b[0m log\u001b[39m.\u001b[39mdebug(\u001b[39m\"\u001b[39m\u001b[39mIncremented Retry for (url=\u001b[39m\u001b[39m'\u001b[39m\u001b[39m%s\u001b[39;00m\u001b[39m'\u001b[39m\u001b[39m): \u001b[39m\u001b[39m%r\u001b[39;00m\u001b[39m\"\u001b[39m, url, new_retry)\n",
      "\u001b[0;31mMaxRetryError\u001b[0m: HTTPSConnectionPool(host='gd-hackathon.openai.azure.com', port=443): Max retries exceeded with url: /openai/deployments/gpt-35-turbo/chat/completions?api-version=2023-05-15 (Caused by SSLError(SSLEOFError(8, '[SSL: UNEXPECTED_EOF_WHILE_READING] EOF occurred in violation of protocol (_ssl.c:1007)')))",
      "\nDuring handling of the above exception, another exception occurred:\n",
      "\u001b[0;31mSSLError\u001b[0m                                  Traceback (most recent call last)",
      "File \u001b[0;32m~/opt/anaconda3/envs/langchain/lib/python3.10/site-packages/openai/api_requestor.py:596\u001b[0m, in \u001b[0;36mAPIRequestor.request_raw\u001b[0;34m(self, method, url, params, supplied_headers, files, stream, request_id, request_timeout)\u001b[0m\n\u001b[1;32m    595\u001b[0m \u001b[39mtry\u001b[39;00m:\n\u001b[0;32m--> 596\u001b[0m     result \u001b[39m=\u001b[39m _thread_context\u001b[39m.\u001b[39;49msession\u001b[39m.\u001b[39;49mrequest(\n\u001b[1;32m    597\u001b[0m         method,\n\u001b[1;32m    598\u001b[0m         abs_url,\n\u001b[1;32m    599\u001b[0m         headers\u001b[39m=\u001b[39;49mheaders,\n\u001b[1;32m    600\u001b[0m         data\u001b[39m=\u001b[39;49mdata,\n\u001b[1;32m    601\u001b[0m         files\u001b[39m=\u001b[39;49mfiles,\n\u001b[1;32m    602\u001b[0m         stream\u001b[39m=\u001b[39;49mstream,\n\u001b[1;32m    603\u001b[0m         timeout\u001b[39m=\u001b[39;49mrequest_timeout \u001b[39mif\u001b[39;49;00m request_timeout \u001b[39melse\u001b[39;49;00m TIMEOUT_SECS,\n\u001b[1;32m    604\u001b[0m         proxies\u001b[39m=\u001b[39;49m_thread_context\u001b[39m.\u001b[39;49msession\u001b[39m.\u001b[39;49mproxies,\n\u001b[1;32m    605\u001b[0m     )\n\u001b[1;32m    606\u001b[0m \u001b[39mexcept\u001b[39;00m requests\u001b[39m.\u001b[39mexceptions\u001b[39m.\u001b[39mTimeout \u001b[39mas\u001b[39;00m e:\n",
      "File \u001b[0;32m~/opt/anaconda3/envs/langchain/lib/python3.10/site-packages/requests/sessions.py:589\u001b[0m, in \u001b[0;36mSession.request\u001b[0;34m(self, method, url, params, data, headers, cookies, files, auth, timeout, allow_redirects, proxies, hooks, stream, verify, cert, json)\u001b[0m\n\u001b[1;32m    588\u001b[0m send_kwargs\u001b[39m.\u001b[39mupdate(settings)\n\u001b[0;32m--> 589\u001b[0m resp \u001b[39m=\u001b[39m \u001b[39mself\u001b[39;49m\u001b[39m.\u001b[39;49msend(prep, \u001b[39m*\u001b[39;49m\u001b[39m*\u001b[39;49msend_kwargs)\n\u001b[1;32m    591\u001b[0m \u001b[39mreturn\u001b[39;00m resp\n",
      "File \u001b[0;32m~/opt/anaconda3/envs/langchain/lib/python3.10/site-packages/requests/sessions.py:703\u001b[0m, in \u001b[0;36mSession.send\u001b[0;34m(self, request, **kwargs)\u001b[0m\n\u001b[1;32m    702\u001b[0m \u001b[39m# Send the request\u001b[39;00m\n\u001b[0;32m--> 703\u001b[0m r \u001b[39m=\u001b[39m adapter\u001b[39m.\u001b[39;49msend(request, \u001b[39m*\u001b[39;49m\u001b[39m*\u001b[39;49mkwargs)\n\u001b[1;32m    705\u001b[0m \u001b[39m# Total elapsed time of the request (approximately)\u001b[39;00m\n",
      "File \u001b[0;32m~/opt/anaconda3/envs/langchain/lib/python3.10/site-packages/requests/adapters.py:517\u001b[0m, in \u001b[0;36mHTTPAdapter.send\u001b[0;34m(self, request, stream, timeout, verify, cert, proxies)\u001b[0m\n\u001b[1;32m    515\u001b[0m \u001b[39mif\u001b[39;00m \u001b[39misinstance\u001b[39m(e\u001b[39m.\u001b[39mreason, _SSLError):\n\u001b[1;32m    516\u001b[0m     \u001b[39m# This branch is for urllib3 v1.22 and later.\u001b[39;00m\n\u001b[0;32m--> 517\u001b[0m     \u001b[39mraise\u001b[39;00m SSLError(e, request\u001b[39m=\u001b[39mrequest)\n\u001b[1;32m    519\u001b[0m \u001b[39mraise\u001b[39;00m \u001b[39mConnectionError\u001b[39;00m(e, request\u001b[39m=\u001b[39mrequest)\n",
      "\u001b[0;31mSSLError\u001b[0m: HTTPSConnectionPool(host='gd-hackathon.openai.azure.com', port=443): Max retries exceeded with url: /openai/deployments/gpt-35-turbo/chat/completions?api-version=2023-05-15 (Caused by SSLError(SSLEOFError(8, '[SSL: UNEXPECTED_EOF_WHILE_READING] EOF occurred in violation of protocol (_ssl.c:1007)')))",
      "\nThe above exception was the direct cause of the following exception:\n",
      "\u001b[0;31mAPIConnectionError\u001b[0m                        Traceback (most recent call last)",
      "Cell \u001b[0;32mIn[4], line 2\u001b[0m\n\u001b[1;32m      1\u001b[0m \u001b[39m# test\u001b[39;00m\n\u001b[0;32m----> 2\u001b[0m chat_llm([HumanMessage(content\u001b[39m=\u001b[39;49m\u001b[39m\"\u001b[39;49m\u001b[39mTranslate this sentence from English to Chinese. I love programming.\u001b[39;49m\u001b[39m\"\u001b[39;49m)])\n",
      "File \u001b[0;32m~/opt/anaconda3/envs/langchain/lib/python3.10/site-packages/langchain/chat_models/base.py:349\u001b[0m, in \u001b[0;36mBaseChatModel.__call__\u001b[0;34m(self, messages, stop, callbacks, **kwargs)\u001b[0m\n\u001b[1;32m    342\u001b[0m \u001b[39mdef\u001b[39;00m \u001b[39m__call__\u001b[39m(\n\u001b[1;32m    343\u001b[0m     \u001b[39mself\u001b[39m,\n\u001b[1;32m    344\u001b[0m     messages: List[BaseMessage],\n\u001b[0;32m   (...)\u001b[0m\n\u001b[1;32m    347\u001b[0m     \u001b[39m*\u001b[39m\u001b[39m*\u001b[39mkwargs: Any,\n\u001b[1;32m    348\u001b[0m ) \u001b[39m-\u001b[39m\u001b[39m>\u001b[39m BaseMessage:\n\u001b[0;32m--> 349\u001b[0m     generation \u001b[39m=\u001b[39m \u001b[39mself\u001b[39;49m\u001b[39m.\u001b[39;49mgenerate(\n\u001b[1;32m    350\u001b[0m         [messages], stop\u001b[39m=\u001b[39;49mstop, callbacks\u001b[39m=\u001b[39;49mcallbacks, \u001b[39m*\u001b[39;49m\u001b[39m*\u001b[39;49mkwargs\n\u001b[1;32m    351\u001b[0m     )\u001b[39m.\u001b[39mgenerations[\u001b[39m0\u001b[39m][\u001b[39m0\u001b[39m]\n\u001b[1;32m    352\u001b[0m     \u001b[39mif\u001b[39;00m \u001b[39misinstance\u001b[39m(generation, ChatGeneration):\n\u001b[1;32m    353\u001b[0m         \u001b[39mreturn\u001b[39;00m generation\u001b[39m.\u001b[39mmessage\n",
      "File \u001b[0;32m~/opt/anaconda3/envs/langchain/lib/python3.10/site-packages/langchain/chat_models/base.py:125\u001b[0m, in \u001b[0;36mBaseChatModel.generate\u001b[0;34m(self, messages, stop, callbacks, tags, metadata, **kwargs)\u001b[0m\n\u001b[1;32m    123\u001b[0m         \u001b[39mif\u001b[39;00m run_managers:\n\u001b[1;32m    124\u001b[0m             run_managers[i]\u001b[39m.\u001b[39mon_llm_error(e)\n\u001b[0;32m--> 125\u001b[0m         \u001b[39mraise\u001b[39;00m e\n\u001b[1;32m    126\u001b[0m flattened_outputs \u001b[39m=\u001b[39m [\n\u001b[1;32m    127\u001b[0m     LLMResult(generations\u001b[39m=\u001b[39m[res\u001b[39m.\u001b[39mgenerations], llm_output\u001b[39m=\u001b[39mres\u001b[39m.\u001b[39mllm_output)\n\u001b[1;32m    128\u001b[0m     \u001b[39mfor\u001b[39;00m res \u001b[39min\u001b[39;00m results\n\u001b[1;32m    129\u001b[0m ]\n\u001b[1;32m    130\u001b[0m llm_output \u001b[39m=\u001b[39m \u001b[39mself\u001b[39m\u001b[39m.\u001b[39m_combine_llm_outputs([res\u001b[39m.\u001b[39mllm_output \u001b[39mfor\u001b[39;00m res \u001b[39min\u001b[39;00m results])\n",
      "File \u001b[0;32m~/opt/anaconda3/envs/langchain/lib/python3.10/site-packages/langchain/chat_models/base.py:115\u001b[0m, in \u001b[0;36mBaseChatModel.generate\u001b[0;34m(self, messages, stop, callbacks, tags, metadata, **kwargs)\u001b[0m\n\u001b[1;32m    112\u001b[0m \u001b[39mfor\u001b[39;00m i, m \u001b[39min\u001b[39;00m \u001b[39menumerate\u001b[39m(messages):\n\u001b[1;32m    113\u001b[0m     \u001b[39mtry\u001b[39;00m:\n\u001b[1;32m    114\u001b[0m         results\u001b[39m.\u001b[39mappend(\n\u001b[0;32m--> 115\u001b[0m             \u001b[39mself\u001b[39;49m\u001b[39m.\u001b[39;49m_generate_with_cache(\n\u001b[1;32m    116\u001b[0m                 m,\n\u001b[1;32m    117\u001b[0m                 stop\u001b[39m=\u001b[39;49mstop,\n\u001b[1;32m    118\u001b[0m                 run_manager\u001b[39m=\u001b[39;49mrun_managers[i] \u001b[39mif\u001b[39;49;00m run_managers \u001b[39melse\u001b[39;49;00m \u001b[39mNone\u001b[39;49;00m,\n\u001b[1;32m    119\u001b[0m                 \u001b[39m*\u001b[39;49m\u001b[39m*\u001b[39;49mkwargs,\n\u001b[1;32m    120\u001b[0m             )\n\u001b[1;32m    121\u001b[0m         )\n\u001b[1;32m    122\u001b[0m     \u001b[39mexcept\u001b[39;00m (\u001b[39mKeyboardInterrupt\u001b[39;00m, \u001b[39mException\u001b[39;00m) \u001b[39mas\u001b[39;00m e:\n\u001b[1;32m    123\u001b[0m         \u001b[39mif\u001b[39;00m run_managers:\n",
      "File \u001b[0;32m~/opt/anaconda3/envs/langchain/lib/python3.10/site-packages/langchain/chat_models/base.py:262\u001b[0m, in \u001b[0;36mBaseChatModel._generate_with_cache\u001b[0;34m(self, messages, stop, run_manager, **kwargs)\u001b[0m\n\u001b[1;32m    258\u001b[0m     \u001b[39mraise\u001b[39;00m \u001b[39mValueError\u001b[39;00m(\n\u001b[1;32m    259\u001b[0m         \u001b[39m\"\u001b[39m\u001b[39mAsked to cache, but no cache found at `langchain.cache`.\u001b[39m\u001b[39m\"\u001b[39m\n\u001b[1;32m    260\u001b[0m     )\n\u001b[1;32m    261\u001b[0m \u001b[39mif\u001b[39;00m new_arg_supported:\n\u001b[0;32m--> 262\u001b[0m     \u001b[39mreturn\u001b[39;00m \u001b[39mself\u001b[39;49m\u001b[39m.\u001b[39;49m_generate(\n\u001b[1;32m    263\u001b[0m         messages, stop\u001b[39m=\u001b[39;49mstop, run_manager\u001b[39m=\u001b[39;49mrun_manager, \u001b[39m*\u001b[39;49m\u001b[39m*\u001b[39;49mkwargs\n\u001b[1;32m    264\u001b[0m     )\n\u001b[1;32m    265\u001b[0m \u001b[39melse\u001b[39;00m:\n\u001b[1;32m    266\u001b[0m     \u001b[39mreturn\u001b[39;00m \u001b[39mself\u001b[39m\u001b[39m.\u001b[39m_generate(messages, stop\u001b[39m=\u001b[39mstop, \u001b[39m*\u001b[39m\u001b[39m*\u001b[39mkwargs)\n",
      "File \u001b[0;32m~/opt/anaconda3/envs/langchain/lib/python3.10/site-packages/langchain/chat_models/openai.py:352\u001b[0m, in \u001b[0;36mChatOpenAI._generate\u001b[0;34m(self, messages, stop, run_manager, **kwargs)\u001b[0m\n\u001b[1;32m    344\u001b[0m     message \u001b[39m=\u001b[39m _convert_dict_to_message(\n\u001b[1;32m    345\u001b[0m         {\n\u001b[1;32m    346\u001b[0m             \u001b[39m\"\u001b[39m\u001b[39mcontent\u001b[39m\u001b[39m\"\u001b[39m: inner_completion,\n\u001b[0;32m   (...)\u001b[0m\n\u001b[1;32m    349\u001b[0m         }\n\u001b[1;32m    350\u001b[0m     )\n\u001b[1;32m    351\u001b[0m     \u001b[39mreturn\u001b[39;00m ChatResult(generations\u001b[39m=\u001b[39m[ChatGeneration(message\u001b[39m=\u001b[39mmessage)])\n\u001b[0;32m--> 352\u001b[0m response \u001b[39m=\u001b[39m \u001b[39mself\u001b[39;49m\u001b[39m.\u001b[39;49mcompletion_with_retry(messages\u001b[39m=\u001b[39;49mmessage_dicts, \u001b[39m*\u001b[39;49m\u001b[39m*\u001b[39;49mparams)\n\u001b[1;32m    353\u001b[0m \u001b[39mreturn\u001b[39;00m \u001b[39mself\u001b[39m\u001b[39m.\u001b[39m_create_chat_result(response)\n",
      "File \u001b[0;32m~/opt/anaconda3/envs/langchain/lib/python3.10/site-packages/langchain/chat_models/openai.py:300\u001b[0m, in \u001b[0;36mChatOpenAI.completion_with_retry\u001b[0;34m(self, **kwargs)\u001b[0m\n\u001b[1;32m    296\u001b[0m \u001b[39m@retry_decorator\u001b[39m\n\u001b[1;32m    297\u001b[0m \u001b[39mdef\u001b[39;00m \u001b[39m_completion_with_retry\u001b[39m(\u001b[39m*\u001b[39m\u001b[39m*\u001b[39mkwargs: Any) \u001b[39m-\u001b[39m\u001b[39m>\u001b[39m Any:\n\u001b[1;32m    298\u001b[0m     \u001b[39mreturn\u001b[39;00m \u001b[39mself\u001b[39m\u001b[39m.\u001b[39mclient\u001b[39m.\u001b[39mcreate(\u001b[39m*\u001b[39m\u001b[39m*\u001b[39mkwargs)\n\u001b[0;32m--> 300\u001b[0m \u001b[39mreturn\u001b[39;00m _completion_with_retry(\u001b[39m*\u001b[39;49m\u001b[39m*\u001b[39;49mkwargs)\n",
      "File \u001b[0;32m~/opt/anaconda3/envs/langchain/lib/python3.10/site-packages/tenacity/__init__.py:289\u001b[0m, in \u001b[0;36mBaseRetrying.wraps.<locals>.wrapped_f\u001b[0;34m(*args, **kw)\u001b[0m\n\u001b[1;32m    287\u001b[0m \u001b[39m@functools\u001b[39m\u001b[39m.\u001b[39mwraps(f)\n\u001b[1;32m    288\u001b[0m \u001b[39mdef\u001b[39;00m \u001b[39mwrapped_f\u001b[39m(\u001b[39m*\u001b[39margs: t\u001b[39m.\u001b[39mAny, \u001b[39m*\u001b[39m\u001b[39m*\u001b[39mkw: t\u001b[39m.\u001b[39mAny) \u001b[39m-\u001b[39m\u001b[39m>\u001b[39m t\u001b[39m.\u001b[39mAny:\n\u001b[0;32m--> 289\u001b[0m     \u001b[39mreturn\u001b[39;00m \u001b[39mself\u001b[39;49m(f, \u001b[39m*\u001b[39;49margs, \u001b[39m*\u001b[39;49m\u001b[39m*\u001b[39;49mkw)\n",
      "File \u001b[0;32m~/opt/anaconda3/envs/langchain/lib/python3.10/site-packages/tenacity/__init__.py:379\u001b[0m, in \u001b[0;36mRetrying.__call__\u001b[0;34m(self, fn, *args, **kwargs)\u001b[0m\n\u001b[1;32m    377\u001b[0m retry_state \u001b[39m=\u001b[39m RetryCallState(retry_object\u001b[39m=\u001b[39m\u001b[39mself\u001b[39m, fn\u001b[39m=\u001b[39mfn, args\u001b[39m=\u001b[39margs, kwargs\u001b[39m=\u001b[39mkwargs)\n\u001b[1;32m    378\u001b[0m \u001b[39mwhile\u001b[39;00m \u001b[39mTrue\u001b[39;00m:\n\u001b[0;32m--> 379\u001b[0m     do \u001b[39m=\u001b[39m \u001b[39mself\u001b[39;49m\u001b[39m.\u001b[39;49miter(retry_state\u001b[39m=\u001b[39;49mretry_state)\n\u001b[1;32m    380\u001b[0m     \u001b[39mif\u001b[39;00m \u001b[39misinstance\u001b[39m(do, DoAttempt):\n\u001b[1;32m    381\u001b[0m         \u001b[39mtry\u001b[39;00m:\n",
      "File \u001b[0;32m~/opt/anaconda3/envs/langchain/lib/python3.10/site-packages/tenacity/__init__.py:325\u001b[0m, in \u001b[0;36mBaseRetrying.iter\u001b[0;34m(self, retry_state)\u001b[0m\n\u001b[1;32m    323\u001b[0m     retry_exc \u001b[39m=\u001b[39m \u001b[39mself\u001b[39m\u001b[39m.\u001b[39mretry_error_cls(fut)\n\u001b[1;32m    324\u001b[0m     \u001b[39mif\u001b[39;00m \u001b[39mself\u001b[39m\u001b[39m.\u001b[39mreraise:\n\u001b[0;32m--> 325\u001b[0m         \u001b[39mraise\u001b[39;00m retry_exc\u001b[39m.\u001b[39;49mreraise()\n\u001b[1;32m    326\u001b[0m     \u001b[39mraise\u001b[39;00m retry_exc \u001b[39mfrom\u001b[39;00m \u001b[39mfut\u001b[39;00m\u001b[39m.\u001b[39;00m\u001b[39mexception\u001b[39;00m()\n\u001b[1;32m    328\u001b[0m \u001b[39mif\u001b[39;00m \u001b[39mself\u001b[39m\u001b[39m.\u001b[39mwait:\n",
      "File \u001b[0;32m~/opt/anaconda3/envs/langchain/lib/python3.10/site-packages/tenacity/__init__.py:158\u001b[0m, in \u001b[0;36mRetryError.reraise\u001b[0;34m(self)\u001b[0m\n\u001b[1;32m    156\u001b[0m \u001b[39mdef\u001b[39;00m \u001b[39mreraise\u001b[39m(\u001b[39mself\u001b[39m) \u001b[39m-\u001b[39m\u001b[39m>\u001b[39m t\u001b[39m.\u001b[39mNoReturn:\n\u001b[1;32m    157\u001b[0m     \u001b[39mif\u001b[39;00m \u001b[39mself\u001b[39m\u001b[39m.\u001b[39mlast_attempt\u001b[39m.\u001b[39mfailed:\n\u001b[0;32m--> 158\u001b[0m         \u001b[39mraise\u001b[39;00m \u001b[39mself\u001b[39;49m\u001b[39m.\u001b[39;49mlast_attempt\u001b[39m.\u001b[39;49mresult()\n\u001b[1;32m    159\u001b[0m     \u001b[39mraise\u001b[39;00m \u001b[39mself\u001b[39m\n",
      "File \u001b[0;32m~/opt/anaconda3/envs/langchain/lib/python3.10/concurrent/futures/_base.py:451\u001b[0m, in \u001b[0;36mFuture.result\u001b[0;34m(self, timeout)\u001b[0m\n\u001b[1;32m    449\u001b[0m     \u001b[39mraise\u001b[39;00m CancelledError()\n\u001b[1;32m    450\u001b[0m \u001b[39melif\u001b[39;00m \u001b[39mself\u001b[39m\u001b[39m.\u001b[39m_state \u001b[39m==\u001b[39m FINISHED:\n\u001b[0;32m--> 451\u001b[0m     \u001b[39mreturn\u001b[39;00m \u001b[39mself\u001b[39;49m\u001b[39m.\u001b[39;49m__get_result()\n\u001b[1;32m    453\u001b[0m \u001b[39mself\u001b[39m\u001b[39m.\u001b[39m_condition\u001b[39m.\u001b[39mwait(timeout)\n\u001b[1;32m    455\u001b[0m \u001b[39mif\u001b[39;00m \u001b[39mself\u001b[39m\u001b[39m.\u001b[39m_state \u001b[39min\u001b[39;00m [CANCELLED, CANCELLED_AND_NOTIFIED]:\n",
      "File \u001b[0;32m~/opt/anaconda3/envs/langchain/lib/python3.10/concurrent/futures/_base.py:403\u001b[0m, in \u001b[0;36mFuture.__get_result\u001b[0;34m(self)\u001b[0m\n\u001b[1;32m    401\u001b[0m \u001b[39mif\u001b[39;00m \u001b[39mself\u001b[39m\u001b[39m.\u001b[39m_exception:\n\u001b[1;32m    402\u001b[0m     \u001b[39mtry\u001b[39;00m:\n\u001b[0;32m--> 403\u001b[0m         \u001b[39mraise\u001b[39;00m \u001b[39mself\u001b[39m\u001b[39m.\u001b[39m_exception\n\u001b[1;32m    404\u001b[0m     \u001b[39mfinally\u001b[39;00m:\n\u001b[1;32m    405\u001b[0m         \u001b[39m# Break a reference cycle with the exception in self._exception\u001b[39;00m\n\u001b[1;32m    406\u001b[0m         \u001b[39mself\u001b[39m \u001b[39m=\u001b[39m \u001b[39mNone\u001b[39;00m\n",
      "File \u001b[0;32m~/opt/anaconda3/envs/langchain/lib/python3.10/site-packages/tenacity/__init__.py:382\u001b[0m, in \u001b[0;36mRetrying.__call__\u001b[0;34m(self, fn, *args, **kwargs)\u001b[0m\n\u001b[1;32m    380\u001b[0m \u001b[39mif\u001b[39;00m \u001b[39misinstance\u001b[39m(do, DoAttempt):\n\u001b[1;32m    381\u001b[0m     \u001b[39mtry\u001b[39;00m:\n\u001b[0;32m--> 382\u001b[0m         result \u001b[39m=\u001b[39m fn(\u001b[39m*\u001b[39;49margs, \u001b[39m*\u001b[39;49m\u001b[39m*\u001b[39;49mkwargs)\n\u001b[1;32m    383\u001b[0m     \u001b[39mexcept\u001b[39;00m \u001b[39mBaseException\u001b[39;00m:  \u001b[39m# noqa: B902\u001b[39;00m\n\u001b[1;32m    384\u001b[0m         retry_state\u001b[39m.\u001b[39mset_exception(sys\u001b[39m.\u001b[39mexc_info())  \u001b[39m# type: ignore[arg-type]\u001b[39;00m\n",
      "File \u001b[0;32m~/opt/anaconda3/envs/langchain/lib/python3.10/site-packages/langchain/chat_models/openai.py:298\u001b[0m, in \u001b[0;36mChatOpenAI.completion_with_retry.<locals>._completion_with_retry\u001b[0;34m(**kwargs)\u001b[0m\n\u001b[1;32m    296\u001b[0m \u001b[39m@retry_decorator\u001b[39m\n\u001b[1;32m    297\u001b[0m \u001b[39mdef\u001b[39;00m \u001b[39m_completion_with_retry\u001b[39m(\u001b[39m*\u001b[39m\u001b[39m*\u001b[39mkwargs: Any) \u001b[39m-\u001b[39m\u001b[39m>\u001b[39m Any:\n\u001b[0;32m--> 298\u001b[0m     \u001b[39mreturn\u001b[39;00m \u001b[39mself\u001b[39;49m\u001b[39m.\u001b[39;49mclient\u001b[39m.\u001b[39;49mcreate(\u001b[39m*\u001b[39;49m\u001b[39m*\u001b[39;49mkwargs)\n",
      "File \u001b[0;32m~/opt/anaconda3/envs/langchain/lib/python3.10/site-packages/openai/api_resources/chat_completion.py:25\u001b[0m, in \u001b[0;36mChatCompletion.create\u001b[0;34m(cls, *args, **kwargs)\u001b[0m\n\u001b[1;32m     23\u001b[0m \u001b[39mwhile\u001b[39;00m \u001b[39mTrue\u001b[39;00m:\n\u001b[1;32m     24\u001b[0m     \u001b[39mtry\u001b[39;00m:\n\u001b[0;32m---> 25\u001b[0m         \u001b[39mreturn\u001b[39;00m \u001b[39msuper\u001b[39;49m()\u001b[39m.\u001b[39;49mcreate(\u001b[39m*\u001b[39;49margs, \u001b[39m*\u001b[39;49m\u001b[39m*\u001b[39;49mkwargs)\n\u001b[1;32m     26\u001b[0m     \u001b[39mexcept\u001b[39;00m TryAgain \u001b[39mas\u001b[39;00m e:\n\u001b[1;32m     27\u001b[0m         \u001b[39mif\u001b[39;00m timeout \u001b[39mis\u001b[39;00m \u001b[39mnot\u001b[39;00m \u001b[39mNone\u001b[39;00m \u001b[39mand\u001b[39;00m time\u001b[39m.\u001b[39mtime() \u001b[39m>\u001b[39m start \u001b[39m+\u001b[39m timeout:\n",
      "File \u001b[0;32m~/opt/anaconda3/envs/langchain/lib/python3.10/site-packages/openai/api_resources/abstract/engine_api_resource.py:153\u001b[0m, in \u001b[0;36mEngineAPIResource.create\u001b[0;34m(cls, api_key, api_base, api_type, request_id, api_version, organization, **params)\u001b[0m\n\u001b[1;32m    127\u001b[0m \u001b[39m@classmethod\u001b[39m\n\u001b[1;32m    128\u001b[0m \u001b[39mdef\u001b[39;00m \u001b[39mcreate\u001b[39m(\n\u001b[1;32m    129\u001b[0m     \u001b[39mcls\u001b[39m,\n\u001b[0;32m   (...)\u001b[0m\n\u001b[1;32m    136\u001b[0m     \u001b[39m*\u001b[39m\u001b[39m*\u001b[39mparams,\n\u001b[1;32m    137\u001b[0m ):\n\u001b[1;32m    138\u001b[0m     (\n\u001b[1;32m    139\u001b[0m         deployment_id,\n\u001b[1;32m    140\u001b[0m         engine,\n\u001b[0;32m   (...)\u001b[0m\n\u001b[1;32m    150\u001b[0m         api_key, api_base, api_type, api_version, organization, \u001b[39m*\u001b[39m\u001b[39m*\u001b[39mparams\n\u001b[1;32m    151\u001b[0m     )\n\u001b[0;32m--> 153\u001b[0m     response, _, api_key \u001b[39m=\u001b[39m requestor\u001b[39m.\u001b[39;49mrequest(\n\u001b[1;32m    154\u001b[0m         \u001b[39m\"\u001b[39;49m\u001b[39mpost\u001b[39;49m\u001b[39m\"\u001b[39;49m,\n\u001b[1;32m    155\u001b[0m         url,\n\u001b[1;32m    156\u001b[0m         params\u001b[39m=\u001b[39;49mparams,\n\u001b[1;32m    157\u001b[0m         headers\u001b[39m=\u001b[39;49mheaders,\n\u001b[1;32m    158\u001b[0m         stream\u001b[39m=\u001b[39;49mstream,\n\u001b[1;32m    159\u001b[0m         request_id\u001b[39m=\u001b[39;49mrequest_id,\n\u001b[1;32m    160\u001b[0m         request_timeout\u001b[39m=\u001b[39;49mrequest_timeout,\n\u001b[1;32m    161\u001b[0m     )\n\u001b[1;32m    163\u001b[0m     \u001b[39mif\u001b[39;00m stream:\n\u001b[1;32m    164\u001b[0m         \u001b[39m# must be an iterator\u001b[39;00m\n\u001b[1;32m    165\u001b[0m         \u001b[39massert\u001b[39;00m \u001b[39mnot\u001b[39;00m \u001b[39misinstance\u001b[39m(response, OpenAIResponse)\n",
      "File \u001b[0;32m~/opt/anaconda3/envs/langchain/lib/python3.10/site-packages/openai/api_requestor.py:288\u001b[0m, in \u001b[0;36mAPIRequestor.request\u001b[0;34m(self, method, url, params, headers, files, stream, request_id, request_timeout)\u001b[0m\n\u001b[1;32m    277\u001b[0m \u001b[39mdef\u001b[39;00m \u001b[39mrequest\u001b[39m(\n\u001b[1;32m    278\u001b[0m     \u001b[39mself\u001b[39m,\n\u001b[1;32m    279\u001b[0m     method,\n\u001b[0;32m   (...)\u001b[0m\n\u001b[1;32m    286\u001b[0m     request_timeout: Optional[Union[\u001b[39mfloat\u001b[39m, Tuple[\u001b[39mfloat\u001b[39m, \u001b[39mfloat\u001b[39m]]] \u001b[39m=\u001b[39m \u001b[39mNone\u001b[39;00m,\n\u001b[1;32m    287\u001b[0m ) \u001b[39m-\u001b[39m\u001b[39m>\u001b[39m Tuple[Union[OpenAIResponse, Iterator[OpenAIResponse]], \u001b[39mbool\u001b[39m, \u001b[39mstr\u001b[39m]:\n\u001b[0;32m--> 288\u001b[0m     result \u001b[39m=\u001b[39m \u001b[39mself\u001b[39;49m\u001b[39m.\u001b[39;49mrequest_raw(\n\u001b[1;32m    289\u001b[0m         method\u001b[39m.\u001b[39;49mlower(),\n\u001b[1;32m    290\u001b[0m         url,\n\u001b[1;32m    291\u001b[0m         params\u001b[39m=\u001b[39;49mparams,\n\u001b[1;32m    292\u001b[0m         supplied_headers\u001b[39m=\u001b[39;49mheaders,\n\u001b[1;32m    293\u001b[0m         files\u001b[39m=\u001b[39;49mfiles,\n\u001b[1;32m    294\u001b[0m         stream\u001b[39m=\u001b[39;49mstream,\n\u001b[1;32m    295\u001b[0m         request_id\u001b[39m=\u001b[39;49mrequest_id,\n\u001b[1;32m    296\u001b[0m         request_timeout\u001b[39m=\u001b[39;49mrequest_timeout,\n\u001b[1;32m    297\u001b[0m     )\n\u001b[1;32m    298\u001b[0m     resp, got_stream \u001b[39m=\u001b[39m \u001b[39mself\u001b[39m\u001b[39m.\u001b[39m_interpret_response(result, stream)\n\u001b[1;32m    299\u001b[0m     \u001b[39mreturn\u001b[39;00m resp, got_stream, \u001b[39mself\u001b[39m\u001b[39m.\u001b[39mapi_key\n",
      "File \u001b[0;32m~/opt/anaconda3/envs/langchain/lib/python3.10/site-packages/openai/api_requestor.py:609\u001b[0m, in \u001b[0;36mAPIRequestor.request_raw\u001b[0;34m(self, method, url, params, supplied_headers, files, stream, request_id, request_timeout)\u001b[0m\n\u001b[1;32m    607\u001b[0m     \u001b[39mraise\u001b[39;00m error\u001b[39m.\u001b[39mTimeout(\u001b[39m\"\u001b[39m\u001b[39mRequest timed out: \u001b[39m\u001b[39m{}\u001b[39;00m\u001b[39m\"\u001b[39m\u001b[39m.\u001b[39mformat(e)) \u001b[39mfrom\u001b[39;00m \u001b[39me\u001b[39;00m\n\u001b[1;32m    608\u001b[0m \u001b[39mexcept\u001b[39;00m requests\u001b[39m.\u001b[39mexceptions\u001b[39m.\u001b[39mRequestException \u001b[39mas\u001b[39;00m e:\n\u001b[0;32m--> 609\u001b[0m     \u001b[39mraise\u001b[39;00m error\u001b[39m.\u001b[39mAPIConnectionError(\n\u001b[1;32m    610\u001b[0m         \u001b[39m\"\u001b[39m\u001b[39mError communicating with OpenAI: \u001b[39m\u001b[39m{}\u001b[39;00m\u001b[39m\"\u001b[39m\u001b[39m.\u001b[39mformat(e)\n\u001b[1;32m    611\u001b[0m     ) \u001b[39mfrom\u001b[39;00m \u001b[39me\u001b[39;00m\n\u001b[1;32m    612\u001b[0m util\u001b[39m.\u001b[39mlog_debug(\n\u001b[1;32m    613\u001b[0m     \u001b[39m\"\u001b[39m\u001b[39mOpenAI API response\u001b[39m\u001b[39m\"\u001b[39m,\n\u001b[1;32m    614\u001b[0m     path\u001b[39m=\u001b[39mabs_url,\n\u001b[0;32m   (...)\u001b[0m\n\u001b[1;32m    617\u001b[0m     request_id\u001b[39m=\u001b[39mresult\u001b[39m.\u001b[39mheaders\u001b[39m.\u001b[39mget(\u001b[39m\"\u001b[39m\u001b[39mX-Request-Id\u001b[39m\u001b[39m\"\u001b[39m),\n\u001b[1;32m    618\u001b[0m )\n\u001b[1;32m    619\u001b[0m \u001b[39m# Don't read the whole stream for debug logging unless necessary.\u001b[39;00m\n",
      "\u001b[0;31mAPIConnectionError\u001b[0m: Error communicating with OpenAI: HTTPSConnectionPool(host='gd-hackathon.openai.azure.com', port=443): Max retries exceeded with url: /openai/deployments/gpt-35-turbo/chat/completions?api-version=2023-05-15 (Caused by SSLError(SSLEOFError(8, '[SSL: UNEXPECTED_EOF_WHILE_READING] EOF occurred in violation of protocol (_ssl.c:1007)')))"
     ]
    }
   ],
   "source": [
    "# test\n",
    "chat_llm([HumanMessage(content=\"Translate this sentence from English to Chinese. I love programming.\")])"
   ]
  },
  {
   "attachments": {},
   "cell_type": "markdown",
   "metadata": {},
   "source": [
    "# Promp Eng"
   ]
  },
  {
   "attachments": {},
   "cell_type": "markdown",
   "metadata": {},
   "source": [
    "## output parser"
   ]
  },
  {
   "cell_type": "code",
   "execution_count": 9,
   "metadata": {},
   "outputs": [
    {
     "data": {
      "text/plain": [
       "[ResponseSchema(name='chartType', description=\"Recommended chart type from you. This is a string.\\nYou must choose one from the python dictionary {'BASIC_COLUMN': '单柱图', 'GROUPED_COLUMN': '簇状图，柱图', 'STACKED_COLUMN': '堆积图，柱图', 'STACKED_SPLIT_COLUMN': '分组堆积图，柱图', 'BASIC_BAR': '单条图', 'BASIC_LINE': '单线图', 'PIE': '饼图', 'RISING_SUN': '旭日图', 'FUNNEL': '漏斗图', 'HORIZONTAL_FUNNEL': '水平漏斗图'}'s key, and it can't be empty.\\nthe dictionary key is chart type, and the dictionary value is the describe in Chinese, \\nyou should choose the dictionary key as the chart type.\\n\"),\n",
       " ResponseSchema(name='row', description='The dimension fields. You can choose them from the Dataset Scheme.\\nThis is a list, each element in the list is a python dictionary. There are one keys in the dictionary: name\\nThe name indicates the dimension field, and you can choose from the Dataset Scheme.\\nFor example:\\n```[{\"name\":\"column_1\"},\\n    {\"name\":\"column_2\"}]```\\n'),\n",
       " ResponseSchema(name='filter', description='Data filter. Based on the text entered by the user, if not returned as [],\\nif is, then output them as a comma separated Python list, each element in the list is a python dictionary.\\nThere are three keys in the dictionary: name, filterType, filterValue.\\n1. The name indicates the filter field, you can choose from the Dataset Scheme.\\n2. The filterType indicates the filter type. This is an enumeration value, the optional values are BT,GT,GE,LT,LE,EQ,NE,IN,NI.\\nBT means between, GT means Greater Than. You can only select one from these optional values.\\n3. The filterValue indicates the filter value. It must be a list, Two elements when filterType is BT. Multiple elements when filterType is IN or NI. One element when filterType is other.\\nFor example:\\n```[{\\n\"filterType\": \"BT\"\\n\"filterValue\": [\\'2023-05-17\\',\\'2023-06-17\\'],\\n\"name\": \"date\"\\n}]```\\n'),\n",
       " ResponseSchema(name='metric', description='Data metric field. This is a list, each element in the list is a python dictionary.\\nThere are three keys in the dictionary: name, aggrType, advCalc.\\n1. name: the metric field, you can choose from the Dataset Scheme.\\n2. aggrType: the aggregation mode. This is an enumeration value, the optional values are SUM,CNT,MIN,MAX,AVG,STDDEV,VAR,CNT_DISTINCT,NUL,MED,PERCENTILE\\n3. advCalc: the advanced calculation. It is not necessary, unless we need the advanced calculation like MoM or YoY calculation, there are the following subfields:\\n    a. advType: the advanced calculation type. This is an enumeration value, the optional value is COMPARATIVE.\\n    b. advValue: There are the fields required for the advanced calculation. The advValue field is a Python dictionary, and there are the following subfields:\\n        i. growthRateType: This is an enumeration value, the optional values are ABS, NORMAL.\\n            ABS: percentage change relative to the previous period, and the denominator is the absolute value of the previous period data, just like (本期数据-上期数据)/abs(上期数据) %\\n            NORMAL: percentage change relative to the previous period, and the denominator is the value of the previous period data, just like (本期数据-上期数据)/上期数据 %\\n        ii. mode: This is an enumeration value, the optional values are SIMPLE, NORMAL, FILTER_BASED. This filed is not necessary, unless the row fields contains a date type field.\\n        iii. dateFdName: This is a string, you can choose from the Dataset Scheme which is the date type.\\n        iv. valueType: This is an enumeration value, the optional values are VALUE, RATE, RAWDATA.\\n            VALUE means growth value, RATE means growth rate, RAWDATA means comparison value. You should choose one based on the text entered by the user.\\n        iv. granularity: This is an enumeration value, the optional values are DAY, WEEK, MONTH, QUARTER, YEAR. You should choose one based on the text entered by the user.\\n        v. offsetType: There are different options depending on how granularity changes. You should try to judge and choose one from the following options based on the text entered by the user.\\n            when granularity is DAY, the optional values are DAY, WEEK, MONTH, QUARTER, YEAR, YEARBYWEEK.\\n            when granularity is YEAR, the optional values is YEAR.\\n            when granularity is QUARTER, the optional values are QUARTER, YEAR.\\n            when granularity is MONTH, the optional values are MONTH, YEAR.\\n            when granularity is WEEK, the optional values are WEEK, YEAR.\\n        vi. offset: defaults to 1.\\n        vii. window: This filed is not necessary, unless the row fields does not contain a date type field.\\n            This is a python dictionary. There are two keys in the dictionary: withMacro, offset.\\n            withMacro: defaults to fasle, this is a bool type.\\n            offset: defaults to 1.\\n\\nFor example:\\n```[{\\n\"aggrType\": \"SUM\"\\n\"name\": \"column_1\"\\n\"advCalc\": {\\n    \"advType\": \"COMPARATIVE\",\\n      \"advValue\": {\\n      \"growthRateType\": \"ABS\",\\n        \"mode\": \"NORMAL\",\\n        \"dateFdName\": \"column_1\",\\n        \"valueType\": \"RATE\",\\n        \"offsetType\": \"YEAR\",\\n        \"advType\": \"COMPARATIVE\",\\n        \"granularity\": \"YEAR\",\\n        \"window\": {\\n          \"withMacro\": false,\\n          \"offset\": 1\\n        },\\n      \"offset\": 1\\n    }\\n  }\\n}]```\\n'),\n",
       " ResponseSchema(name='explanation', description='The explanation of the chart, expressed in Chinese,'),\n",
       " ResponseSchema(name='title', description='The title of the chart, within 15 characters, expressed in Chinese,'),\n",
       " ResponseSchema(name='description', description='The description of the chart, within 50 characters, expressed in Chinese'),\n",
       " ResponseSchema(name='advices', description=\"The other three relevant content or questions adviced by the AI from user's input. The presentation should be in the user's intonation style.\\nThis is a list, each element in the list is a String.\\nFor example:\\n```['将销量与去年同期做对比', '用品类对销量进行进一步分析']```\\n\")]"
      ]
     },
     "execution_count": 9,
     "metadata": {},
     "output_type": "execute_result"
    }
   ],
   "source": [
    "card_type={\"BASIC_COLUMN\": \"单柱图\", \n",
    "           \"GROUPED_COLUMN\": \"簇状图，柱图\", \n",
    "           \"STACKED_COLUMN\": \"堆积图，柱图\", \n",
    "           \"STACKED_SPLIT_COLUMN\": \"分组堆积图，柱图\", \n",
    "           \"BASIC_BAR\": \"单条图\", \n",
    "           \"BASIC_LINE\": \"单线图\", \n",
    "           \"PIE\": \"饼图\", \n",
    "           \"RISING_SUN\": \"旭日图\", \n",
    "           \"FUNNEL\": \"漏斗图\", \n",
    "           \"HORIZONTAL_FUNNEL\": \"水平漏斗图\"}\n",
    "\n",
    "\n",
    "description_chartType=f\"\"\"Recommended chart type from you. This is a string.\n",
    "You must choose one from the python dictionary {card_type}'s key, and it can't be empty.\n",
    "the dictionary key is chart type, and the dictionary value is the describe in Chinese, \n",
    "you should choose the dictionary key as the chart type.\n",
    "\"\"\"\n",
    "\n",
    "description_row=\"\"\"The dimension fields. You can choose them from the Dataset Scheme.\n",
    "This is a list, each element in the list is a python dictionary. There are one keys in the dictionary: name\n",
    "The name indicates the dimension field, and you can choose from the Dataset Scheme.\n",
    "For example:\n",
    "```[{\"name\":\"column_1\"},\n",
    "    {\"name\":\"column_2\"}]```\n",
    "\"\"\"\n",
    "\n",
    "description_filter = \"\"\"Data filter. Based on the text entered by the user, if not returned as [],\n",
    "if is, then output them as a comma separated Python list, each element in the list is a python dictionary.\n",
    "There are three keys in the dictionary: name, filterType, filterValue.\n",
    "1. The name indicates the filter field, you can choose from the Dataset Scheme.\n",
    "2. The filterType indicates the filter type. This is an enumeration value, the optional values are BT,GT,GE,LT,LE,EQ,NE,IN,NI.\n",
    "BT means between, GT means Greater Than. You can only select one from these optional values.\n",
    "3. The filterValue indicates the filter value. It must be a list, Two elements when filterType is BT. Multiple elements when filterType is IN or NI. One element when filterType is other.\n",
    "For example:\n",
    "```[{\n",
    "\"filterType\": \"BT\"\n",
    "\"filterValue\": ['2023-05-17','2023-06-17'],\n",
    "\"name\": \"date\"\n",
    "}]```\n",
    "\"\"\"\n",
    "\n",
    "description_metric = \"\"\"Data metric field. This is a list, each element in the list is a python dictionary.\n",
    "There are three keys in the dictionary: name, aggrType, advCalc.\n",
    "1. name: the metric field, you can choose from the Dataset Scheme.\n",
    "2. aggrType: the aggregation mode. This is an enumeration value, the optional values are SUM,CNT,MIN,MAX,AVG,STDDEV,VAR,CNT_DISTINCT,NUL,MED,PERCENTILE\n",
    "3. advCalc: the advanced calculation. It is not necessary, unless we need the advanced calculation like MoM or YoY calculation, there are the following subfields:\n",
    "    a. advType: the advanced calculation type. This is an enumeration value, the optional value is COMPARATIVE.\n",
    "    b. advValue: There are the fields required for the advanced calculation. The advValue field is a Python dictionary, and there are the following subfields:\n",
    "        i. growthRateType: This is an enumeration value, the optional values are ABS, NORMAL.\n",
    "            ABS: percentage change relative to the previous period, and the denominator is the absolute value of the previous period data, just like (本期数据-上期数据)/abs(上期数据) %\n",
    "            NORMAL: percentage change relative to the previous period, and the denominator is the value of the previous period data, just like (本期数据-上期数据)/上期数据 %\n",
    "        ii. mode: This is an enumeration value, the optional values are SIMPLE, NORMAL, FILTER_BASED. This filed is not necessary, unless the row fields contains a date type field.\n",
    "        iii. dateFdName: This is a string, you can choose from the Dataset Scheme which is the date type.\n",
    "        iv. valueType: This is an enumeration value, the optional values are VALUE, RATE, RAWDATA.\n",
    "            VALUE means growth value, RATE means growth rate, RAWDATA means comparison value. You should choose one based on the text entered by the user.\n",
    "        iv. granularity: This is an enumeration value, the optional values are DAY, WEEK, MONTH, QUARTER, YEAR. You should choose one based on the text entered by the user.\n",
    "        v. offsetType: There are different options depending on how granularity changes. You should try to judge and choose one from the following options based on the text entered by the user.\n",
    "            when granularity is DAY, the optional values are DAY, WEEK, MONTH, QUARTER, YEAR, YEARBYWEEK.\n",
    "            when granularity is YEAR, the optional values is YEAR.\n",
    "            when granularity is QUARTER, the optional values are QUARTER, YEAR.\n",
    "            when granularity is MONTH, the optional values are MONTH, YEAR.\n",
    "            when granularity is WEEK, the optional values are WEEK, YEAR.\n",
    "        vi. offset: defaults to 1.\n",
    "        vii. window: This filed is not necessary, unless the row fields does not contain a date type field.\n",
    "            This is a python dictionary. There are two keys in the dictionary: withMacro, offset.\n",
    "            withMacro: defaults to fasle, this is a bool type.\n",
    "            offset: defaults to 1.\n",
    "\n",
    "For example:\n",
    "```[{\n",
    "\"aggrType\": \"SUM\"\n",
    "\"name\": \"column_1\"\n",
    "\"advCalc\": {\n",
    "    \"advType\": \"COMPARATIVE\",\n",
    "      \"advValue\": {\n",
    "      \"growthRateType\": \"ABS\",\n",
    "        \"mode\": \"NORMAL\",\n",
    "        \"dateFdName\": \"column_1\",\n",
    "        \"valueType\": \"RATE\",\n",
    "        \"offsetType\": \"YEAR\",\n",
    "        \"advType\": \"COMPARATIVE\",\n",
    "        \"granularity\": \"YEAR\",\n",
    "        \"window\": {\n",
    "          \"withMacro\": false,\n",
    "          \"offset\": 1\n",
    "        },\n",
    "      \"offset\": 1\n",
    "    }\n",
    "  }\n",
    "}]```\n",
    "\"\"\"\n",
    "\n",
    "description_advices = \"\"\"The other three relevant content or questions adviced by the AI from user's input. The presentation should be in the user's intonation style.\n",
    "This is a list, each element in the list is a String.\n",
    "For example:\n",
    "```['将销量与去年同期做对比', '用品类对销量进行进一步分析']```\n",
    "\"\"\"\n",
    "\n",
    "\n",
    "chart_type_schema = ResponseSchema(name=\"chartType\",\n",
    "                             description=description_chartType)\n",
    "\n",
    "row_schema = ResponseSchema(name=\"row\",\n",
    "                            type = 'array',\n",
    "                            description=description_row)\n",
    "\n",
    "filters_schema = ResponseSchema(name=\"filter\",\n",
    "                                type = 'array',\n",
    "                                description=description_filter)\n",
    "\n",
    "metric_schema = ResponseSchema(name=\"metric\",\n",
    "                                type = 'array',\n",
    "                                description=description_metric)\n",
    "\n",
    "explanation_schema = ResponseSchema(name=\"explanation\",\n",
    "                            description=\"The explanation of the chart, expressed in Chinese,\")\n",
    "\n",
    "title_schema = ResponseSchema(name=\"title\",\n",
    "                            description=\"The title of the chart, within 15 characters, expressed in Chinese,\")\n",
    "\n",
    "description_schema = ResponseSchema(name=\"description\",\n",
    "                            description=\"The description of the chart, within 50 characters, expressed in Chinese\")\n",
    "\n",
    "advices_schema = ResponseSchema(name=\"advices\",\n",
    "                            description=description_advices)\n",
    "\n",
    "response_schemas = [\n",
    "    chart_type_schema,\n",
    "    row_schema,\n",
    "    filters_schema,\n",
    "    metric_schema,\n",
    "    explanation_schema,\n",
    "    title_schema,\n",
    "    description_schema,\n",
    "    advices_schema\n",
    "]\n",
    "\n",
    "response_schemas"
   ]
  },
  {
   "cell_type": "code",
   "execution_count": 10,
   "metadata": {},
   "outputs": [
    {
     "name": "stdout",
     "output_type": "stream",
     "text": [
      "The output should be a markdown code snippet formatted in the following schema, including the leading and trailing \"\\`\\`\\`json\" and \"\\`\\`\\`\":\n",
      "\n",
      "```json\n",
      "{\n",
      "\t\"chartType\": string  // Recommended chart type from you. This is a string.\n",
      "You must choose one from the python dictionary {'BASIC_COLUMN': '单柱图', 'GROUPED_COLUMN': '簇状图，柱图', 'STACKED_COLUMN': '堆积图，柱图', 'STACKED_SPLIT_COLUMN': '分组堆积图，柱图', 'BASIC_BAR': '单条图', 'BASIC_LINE': '单线图', 'PIE': '饼图', 'RISING_SUN': '旭日图', 'FUNNEL': '漏斗图', 'HORIZONTAL_FUNNEL': '水平漏斗图'}'s key, and it can't be empty.\n",
      "the dictionary key is chart type, and the dictionary value is the describe in Chinese, \n",
      "you should choose the dictionary key as the chart type.\n",
      "\n",
      "\t\"row\": string  // The dimension fields. You can choose them from the Dataset Scheme.\n",
      "This is a list, each element in the list is a python dictionary. There are one keys in the dictionary: name\n",
      "The name indicates the dimension field, and you can choose from the Dataset Scheme.\n",
      "For example:\n",
      "```[{\"name\":\"column_1\"},\n",
      "    {\"name\":\"column_2\"}]```\n",
      "\n",
      "\t\"filter\": string  // Data filter. Based on the text entered by the user, if not returned as [],\n",
      "if is, then output them as a comma separated Python list, each element in the list is a python dictionary.\n",
      "There are three keys in the dictionary: name, filterType, filterValue.\n",
      "1. The name indicates the filter field, you can choose from the Dataset Scheme.\n",
      "2. The filterType indicates the filter type. This is an enumeration value, the optional values are BT,GT,GE,LT,LE,EQ,NE,IN,NI.\n",
      "BT means between, GT means Greater Than. You can only select one from these optional values.\n",
      "3. The filterValue indicates the filter value. It must be a list, Two elements when filterType is BT. Multiple elements when filterType is IN or NI. One element when filterType is other.\n",
      "For example:\n",
      "```[{\n",
      "\"filterType\": \"BT\"\n",
      "\"filterValue\": ['2023-05-17','2023-06-17'],\n",
      "\"name\": \"date\"\n",
      "}]```\n",
      "\n",
      "\t\"metric\": string  // Data metric field. This is a list, each element in the list is a python dictionary.\n",
      "There are three keys in the dictionary: name, aggrType, advCalc.\n",
      "1. name: the metric field, you can choose from the Dataset Scheme.\n",
      "2. aggrType: the aggregation mode. This is an enumeration value, the optional values are SUM,CNT,MIN,MAX,AVG,STDDEV,VAR,CNT_DISTINCT,NUL,MED,PERCENTILE\n",
      "3. advCalc: the advanced calculation. It is not necessary, unless we need the advanced calculation like MoM or YoY calculation, there are the following subfields:\n",
      "    a. advType: the advanced calculation type. This is an enumeration value, the optional value is COMPARATIVE.\n",
      "    b. advValue: There are the fields required for the advanced calculation. The advValue field is a Python dictionary, and there are the following subfields:\n",
      "        i. growthRateType: This is an enumeration value, the optional values are ABS, NORMAL.\n",
      "            ABS: percentage change relative to the previous period, and the denominator is the absolute value of the previous period data, just like (本期数据-上期数据)/abs(上期数据) %\n",
      "            NORMAL: percentage change relative to the previous period, and the denominator is the value of the previous period data, just like (本期数据-上期数据)/上期数据 %\n",
      "        ii. mode: This is an enumeration value, the optional values are SIMPLE, NORMAL, FILTER_BASED. This filed is not necessary, unless the row fields contains a date type field.\n",
      "        iii. dateFdName: This is a string, you can choose from the Dataset Scheme which is the date type.\n",
      "        iv. valueType: This is an enumeration value, the optional values are VALUE, RATE, RAWDATA.\n",
      "            VALUE means growth value, RATE means growth rate, RAWDATA means comparison value. You should choose one based on the text entered by the user.\n",
      "        iv. granularity: This is an enumeration value, the optional values are DAY, WEEK, MONTH, QUARTER, YEAR. You should choose one based on the text entered by the user.\n",
      "        v. offsetType: There are different options depending on how granularity changes. You should try to judge and choose one from the following options based on the text entered by the user.\n",
      "            when granularity is DAY, the optional values are DAY, WEEK, MONTH, QUARTER, YEAR, YEARBYWEEK.\n",
      "            when granularity is YEAR, the optional values is YEAR.\n",
      "            when granularity is QUARTER, the optional values are QUARTER, YEAR.\n",
      "            when granularity is MONTH, the optional values are MONTH, YEAR.\n",
      "            when granularity is WEEK, the optional values are WEEK, YEAR.\n",
      "        vi. offset: defaults to 1.\n",
      "        vii. window: This filed is not necessary, unless the row fields does not contain a date type field.\n",
      "            This is a python dictionary. There are two keys in the dictionary: withMacro, offset.\n",
      "            withMacro: defaults to fasle, this is a bool type.\n",
      "            offset: defaults to 1.\n",
      "\n",
      "For example:\n",
      "```[{\n",
      "\"aggrType\": \"SUM\"\n",
      "\"name\": \"column_1\"\n",
      "\"advCalc\": {\n",
      "    \"advType\": \"COMPARATIVE\",\n",
      "      \"advValue\": {\n",
      "      \"growthRateType\": \"ABS\",\n",
      "        \"mode\": \"NORMAL\",\n",
      "        \"dateFdName\": \"column_1\",\n",
      "        \"valueType\": \"RATE\",\n",
      "        \"offsetType\": \"YEAR\",\n",
      "        \"advType\": \"COMPARATIVE\",\n",
      "        \"granularity\": \"YEAR\",\n",
      "        \"window\": {\n",
      "          \"withMacro\": false,\n",
      "          \"offset\": 1\n",
      "        },\n",
      "      \"offset\": 1\n",
      "    }\n",
      "  }\n",
      "}]```\n",
      "\n",
      "\t\"explanation\": string  // The explanation of the chart, expressed in Chinese,\n",
      "\t\"title\": string  // The title of the chart, within 15 characters, expressed in Chinese,\n",
      "\t\"description\": string  // The description of the chart, within 50 characters, expressed in Chinese\n",
      "\t\"advices\": string  // The other three relevant content or questions adviced by the AI from user's input. The presentation should be in the user's intonation style.\n",
      "This is a list, each element in the list is a String.\n",
      "For example:\n",
      "```['将销量与去年同期做对比', '用品类对销量进行进一步分析']```\n",
      "\n",
      "}\n",
      "```\n"
     ]
    }
   ],
   "source": [
    "# 创建输出解析器\n",
    "output_parser = StructuredOutputParser.from_response_schemas(response_schemas)\n",
    "\n",
    "# 获取解析结构\n",
    "format_instructions = output_parser.get_format_instructions()\n",
    "print(format_instructions)"
   ]
  },
  {
   "attachments": {},
   "cell_type": "markdown",
   "metadata": {},
   "source": [
    "## prompt template"
   ]
  },
  {
   "cell_type": "code",
   "execution_count": 11,
   "metadata": {},
   "outputs": [],
   "source": [
    "# API 核心参数\n",
    "api_parameters = \"\"\"\n",
    "{\n",
    "    \"chartType\":\"\",\n",
    "    \"row\":[{\"name\":\"A\"}],\n",
    "    \"filter\":[{\"name\":\"A\", \"filterType\":\"IN\", \"filterValue\":[\"\",\"\"]},\n",
    "        {\"name\":\"A\", \"filterType\":\"GT\", \"filterValue\":[\"\"]}],\n",
    "    \"metric\":[{\"name\":\"A\", \"aggrType\":\"SUM\"}],\n",
    "    \"sorting\":[{\"name\":\"A\", \"aggrType\":\"SUM\", \"ordering\":\"desc\"}],\n",
    "    \"explanation\":\"\",\n",
    "    \"description\":\"\",\n",
    "    \"title\":\"\",\n",
    "    \"advices\": [\"advice1\", \"advice2\"]\n",
    "}\n",
    "\"\"\"\n",
    "\n",
    "system_template = \"\"\"You are an AI assistant designed to help data analysts do their daily work.\n",
    "Your decisions must always be made independently without seeking user assistance. Play to your strengths as an LLM and pursue simple strategies with no legal complications.\n",
    "\n",
    "Current Time: {formatted_dt}\n",
    "\n",
    "GOALS:\n",
    "1. Check the Dataset Scheme meets user's inputs.\n",
    "2. Generate the API Core Parameters for charting.\n",
    "3. Check the API Core Parameters are correct.\n",
    "4. Generate three other related questions or contents from user's inputs, using the user's intonation style change words into declarative sentences. Put them in the advices of API Parameters.\n",
    "\n",
    "Dataset Scheme:\n",
    "{data_info}\n",
    "\n",
    "API Core Parameters:\n",
    "{api_parameters}\n",
    "\n",
    "Response Format: \n",
    "{format_instructions}\n",
    "\"\"\"\n",
    "system_message_prompt = SystemMessagePromptTemplate.from_template(template=system_template)\n",
    "system_message_prompt\n",
    "\n",
    "human_template = \"\"\"\n",
    "{chat_history}\n",
    "\n",
    "{text}\n",
    "\"\"\"\n",
    "human_message_prompt = HumanMessagePromptTemplate.from_template(template=human_template)\n",
    "\n"
   ]
  },
  {
   "cell_type": "code",
   "execution_count": 12,
   "metadata": {},
   "outputs": [
    {
     "data": {
      "text/plain": [
       "ChatPromptTemplate(input_variables=['data_info', 'formatted_dt', 'format_instructions', 'chat_history', 'api_parameters', 'text'], output_parser=None, partial_variables={}, messages=[SystemMessagePromptTemplate(prompt=PromptTemplate(input_variables=['api_parameters', 'data_info', 'format_instructions', 'formatted_dt'], output_parser=None, partial_variables={}, template=\"You are an AI assistant designed to help data analysts do their daily work.\\nYour decisions must always be made independently without seeking user assistance. Play to your strengths as an LLM and pursue simple strategies with no legal complications.\\n\\nCurrent Time: {formatted_dt}\\n\\nGOALS:\\n1. Check the Dataset Scheme meets user's inputs.\\n2. Generate the API Core Parameters for charting.\\n3. Check the API Core Parameters are correct.\\n4. Generate three other related questions or contents from user's inputs, using the user's intonation style change words into declarative sentences. Put them in the advices of API Parameters.\\n\\nDataset Scheme:\\n{data_info}\\n\\nAPI Core Parameters:\\n{api_parameters}\\n\\nResponse Format: \\n{format_instructions}\\n\", template_format='f-string', validate_template=True), additional_kwargs={}), HumanMessagePromptTemplate(prompt=PromptTemplate(input_variables=['chat_history', 'text'], output_parser=None, partial_variables={}, template='\\n{chat_history}\\n\\n{text}\\n', template_format='f-string', validate_template=True), additional_kwargs={})])"
      ]
     },
     "execution_count": 12,
     "metadata": {},
     "output_type": "execute_result"
    }
   ],
   "source": [
    "chat_prompt = ChatPromptTemplate.from_messages([system_message_prompt, human_message_prompt])\n",
    "\n",
    "chat_prompt"
   ]
  },
  {
   "attachments": {},
   "cell_type": "markdown",
   "metadata": {},
   "source": [
    "# Memory"
   ]
  },
  {
   "cell_type": "code",
   "execution_count": 13,
   "metadata": {},
   "outputs": [],
   "source": [
    "memory = ConversationBufferWindowMemory(memory_key=\"chat_history\", input_key=\"text\", k=4)\n"
   ]
  },
  {
   "attachments": {},
   "cell_type": "markdown",
   "metadata": {},
   "source": [
    "# LLMChain"
   ]
  },
  {
   "cell_type": "code",
   "execution_count": 14,
   "metadata": {},
   "outputs": [
    {
     "name": "stdout",
     "output_type": "stream",
     "text": [
      "\n",
      "\n",
      "\u001b[1m> Entering new LLMChain chain...\u001b[0m\n",
      "Prompt after formatting:\n",
      "\u001b[32;1m\u001b[1;3mSystem: You are an AI assistant designed to help data analysts do their daily work.\n",
      "Your decisions must always be made independently without seeking user assistance. Play to your strengths as an LLM and pursue simple strategies with no legal complications.\n",
      "\n",
      "Current Time: 2023-07-03 16:39:32\n",
      "\n",
      "GOALS:\n",
      "1. Check the Dataset Scheme meets user's inputs.\n",
      "2. Generate the API Core Parameters for charting.\n",
      "3. Check the API Core Parameters are correct.\n",
      "4. Generate three other related questions or contents from user's inputs, using the user's intonation style change words into declarative sentences. Put them in the advices of API Parameters.\n",
      "\n",
      "Dataset Scheme:\n",
      "\n",
      "[{\"name\":\"会员ID\",\"type\":\"String\"},\n",
      "{\"name\":\"销售数量\",\"type\":\"Long\"},\n",
      "{\"name\":\"销售金额\",\"type\":\"Long\"},\n",
      "{\"name\":\"省份\",\"type\":\"Double\"},\n",
      "{\"name\":\"平台\",\"type\":\"Double\"},\n",
      "{\"name\":\"日期\",\"type\":\"Date\"},\n",
      "{\"name\":\"渠道\",\"type\":\"String\"},\n",
      "{\"name\":\"订单ID\",\"type\":\"String\"},\n",
      "{\"name\":\"品牌\",\"type\":\"String\"},\n",
      "{\"name\":\"sku\",\"type\":\"String\"}\n",
      "]\n",
      "\n",
      "\n",
      "API Core Parameters:\n",
      "\n",
      "{\n",
      "    \"chartType\":\"\",\n",
      "    \"row\":[{\"name\":\"A\"}],\n",
      "    \"filter\":[{\"name\":\"A\", \"filterType\":\"IN\", \"filterValue\":[\"\",\"\"]},\n",
      "        {\"name\":\"A\", \"filterType\":\"GT\", \"filterValue\":[\"\"]}],\n",
      "    \"metric\":[{\"name\":\"A\", \"aggrType\":\"SUM\"}],\n",
      "    \"sorting\":[{\"name\":\"A\", \"aggrType\":\"SUM\", \"ordering\":\"desc\"}],\n",
      "    \"explanation\":\"\",\n",
      "    \"description\":\"\",\n",
      "    \"title\":\"\",\n",
      "    \"advices\": [\"advice1\", \"advice2\"]\n",
      "}\n",
      "\n",
      "\n",
      "Response Format: \n",
      "The output should be a markdown code snippet formatted in the following schema, including the leading and trailing \"\\`\\`\\`json\" and \"\\`\\`\\`\":\n",
      "\n",
      "```json\n",
      "{\n",
      "\t\"chartType\": string  // Recommended chart type from you. This is a string.\n",
      "You must choose one from the python dictionary {'BASIC_COLUMN': '单柱图', 'GROUPED_COLUMN': '簇状图，柱图', 'STACKED_COLUMN': '堆积图，柱图', 'STACKED_SPLIT_COLUMN': '分组堆积图，柱图', 'BASIC_BAR': '单条图', 'BASIC_LINE': '单线图', 'PIE': '饼图', 'RISING_SUN': '旭日图', 'FUNNEL': '漏斗图', 'HORIZONTAL_FUNNEL': '水平漏斗图'}'s key, and it can't be empty.\n",
      "the dictionary key is chart type, and the dictionary value is the describe in Chinese, \n",
      "you should choose the dictionary key as the chart type.\n",
      "\n",
      "\t\"row\": string  // The dimension fields. You can choose them from the Dataset Scheme.\n",
      "This is a list, each element in the list is a python dictionary. There are one keys in the dictionary: name\n",
      "The name indicates the dimension field, and you can choose from the Dataset Scheme.\n",
      "For example:\n",
      "```[{\"name\":\"column_1\"},\n",
      "    {\"name\":\"column_2\"}]```\n",
      "\n",
      "\t\"filter\": string  // Data filter. Based on the text entered by the user, if not returned as [],\n",
      "if is, then output them as a comma separated Python list, each element in the list is a python dictionary.\n",
      "There are three keys in the dictionary: name, filterType, filterValue.\n",
      "1. The name indicates the filter field, you can choose from the Dataset Scheme.\n",
      "2. The filterType indicates the filter type. This is an enumeration value, the optional values are BT,GT,GE,LT,LE,EQ,NE,IN,NI.\n",
      "BT means between, GT means Greater Than. You can only select one from these optional values.\n",
      "3. The filterValue indicates the filter value. It must be a list, Two elements when filterType is BT. Multiple elements when filterType is IN or NI. One element when filterType is other.\n",
      "For example:\n",
      "```[{\n",
      "\"filterType\": \"BT\"\n",
      "\"filterValue\": ['2023-05-17','2023-06-17'],\n",
      "\"name\": \"date\"\n",
      "}]```\n",
      "\n",
      "\t\"metric\": string  // Data metric field. This is a list, each element in the list is a python dictionary.\n",
      "There are three keys in the dictionary: name, aggrType, advCalc.\n",
      "1. name: the metric field, you can choose from the Dataset Scheme.\n",
      "2. aggrType: the aggregation mode. This is an enumeration value, the optional values are SUM,CNT,MIN,MAX,AVG,STDDEV,VAR,CNT_DISTINCT,NUL,MED,PERCENTILE\n",
      "3. advCalc: the advanced calculation. It is not necessary, unless we need the advanced calculation like MoM or YoY calculation, there are the following subfields:\n",
      "    a. advType: the advanced calculation type. This is an enumeration value, the optional value is COMPARATIVE.\n",
      "    b. advValue: There are the fields required for the advanced calculation. The advValue field is a Python dictionary, and there are the following subfields:\n",
      "        i. growthRateType: This is an enumeration value, the optional values are ABS, NORMAL.\n",
      "            ABS: percentage change relative to the previous period, and the denominator is the absolute value of the previous period data, just like (本期数据-上期数据)/abs(上期数据) %\n",
      "            NORMAL: percentage change relative to the previous period, and the denominator is the value of the previous period data, just like (本期数据-上期数据)/上期数据 %\n",
      "        ii. mode: This is an enumeration value, the optional values are SIMPLE, NORMAL, FILTER_BASED. This filed is not necessary, unless the row fields contains a date type field.\n",
      "        iii. dateFdName: This is a string, you can choose from the Dataset Scheme which is the date type.\n",
      "        iv. valueType: This is an enumeration value, the optional values are VALUE, RATE, RAWDATA.\n",
      "            VALUE means growth value, RATE means growth rate, RAWDATA means comparison value. You should choose one based on the text entered by the user.\n",
      "        iv. granularity: This is an enumeration value, the optional values are DAY, WEEK, MONTH, QUARTER, YEAR. You should choose one based on the text entered by the user.\n",
      "        v. offsetType: There are different options depending on how granularity changes. You should try to judge and choose one from the following options based on the text entered by the user.\n",
      "            when granularity is DAY, the optional values are DAY, WEEK, MONTH, QUARTER, YEAR, YEARBYWEEK.\n",
      "            when granularity is YEAR, the optional values is YEAR.\n",
      "            when granularity is QUARTER, the optional values are QUARTER, YEAR.\n",
      "            when granularity is MONTH, the optional values are MONTH, YEAR.\n",
      "            when granularity is WEEK, the optional values are WEEK, YEAR.\n",
      "        vi. offset: defaults to 1.\n",
      "        vii. window: This filed is not necessary, unless the row fields does not contain a date type field.\n",
      "            This is a python dictionary. There are two keys in the dictionary: withMacro, offset.\n",
      "            withMacro: defaults to fasle, this is a bool type.\n",
      "            offset: defaults to 1.\n",
      "\n",
      "For example:\n",
      "```[{\n",
      "\"aggrType\": \"SUM\"\n",
      "\"name\": \"column_1\"\n",
      "\"advCalc\": {\n",
      "    \"advType\": \"COMPARATIVE\",\n",
      "      \"advValue\": {\n",
      "      \"growthRateType\": \"ABS\",\n",
      "        \"mode\": \"NORMAL\",\n",
      "        \"dateFdName\": \"column_1\",\n",
      "        \"valueType\": \"RATE\",\n",
      "        \"offsetType\": \"YEAR\",\n",
      "        \"advType\": \"COMPARATIVE\",\n",
      "        \"granularity\": \"YEAR\",\n",
      "        \"window\": {\n",
      "          \"withMacro\": false,\n",
      "          \"offset\": 1\n",
      "        },\n",
      "      \"offset\": 1\n",
      "    }\n",
      "  }\n",
      "}]```\n",
      "\n",
      "\t\"explanation\": string  // The explanation of the chart, expressed in Chinese,\n",
      "\t\"title\": string  // The title of the chart, within 15 characters, expressed in Chinese,\n",
      "\t\"description\": string  // The description of the chart, within 50 characters, expressed in Chinese\n",
      "\t\"advices\": string  // The other three relevant content or questions adviced by the AI from user's input. The presentation should be in the user's intonation style.\n",
      "This is a list, each element in the list is a String.\n",
      "For example:\n",
      "```['将销量与去年同期做对比', '用品类对销量进行进一步分析']```\n",
      "\n",
      "}\n",
      "```\n",
      "\n",
      "Human: \n",
      "\n",
      "\n",
      "销量趋势与历史同期对比如何？\n",
      "\u001b[0m\n",
      "\n",
      "\u001b[1m> Finished chain.\u001b[0m\n"
     ]
    }
   ],
   "source": [
    "chain = LLMChain(llm=chat_llm, prompt=chat_prompt, memory=memory, verbose=True)\n",
    "question = '销量趋势与历史同期对比如何？'\n",
    "\n",
    "\n",
    "chain_response = chain.run({'text':question, \n",
    "                            'data_info':data_info, \n",
    "                            'format_instructions':format_instructions, \n",
    "                            'formatted_dt': formatted_dt,\n",
    "                            'api_parameters': api_parameters,\n",
    "                            })\n",
    "\n"
   ]
  },
  {
   "cell_type": "code",
   "execution_count": 15,
   "metadata": {},
   "outputs": [
    {
     "name": "stdout",
     "output_type": "stream",
     "text": [
      "```json\n",
      "{\n",
      "    \"chartType\": \"BASIC_LINE\",\n",
      "    \"row\": [{\"name\": \"日期\"}],\n",
      "    \"filter\": [{\n",
      "        \"name\": \"日期\",\n",
      "        \"filterType\": \"BT\",\n",
      "        \"filterValue\": [\"2023-05-17\", \"2023-06-17\"]\n",
      "    }],\n",
      "    \"metric\": [{\n",
      "        \"name\": \"销售数量\",\n",
      "        \"aggrType\": \"SUM\",\n",
      "        \"advCalc\": {\n",
      "            \"advType\": \"COMPARATIVE\",\n",
      "            \"advValue\": {\n",
      "                \"growthRateType\": \"ABS\",\n",
      "                \"mode\": \"NORMAL\",\n",
      "                \"dateFdName\": \"日期\",\n",
      "                \"valueType\": \"RATE\",\n",
      "                \"offsetType\": \"YEAR\",\n",
      "                \"granularity\": \"YEAR\",\n",
      "                \"offset\": 1\n",
      "            }\n",
      "        }\n",
      "    }],\n",
      "    \"explanation\": \"图表展示了销量趋势与历史同期的对比情况。\",\n",
      "    \"title\": \"销量趋势与历史同期对比\",\n",
      "    \"description\": \"了解销量在不同时间段的表现及与历史同期的对比情况。\",\n",
      "    \"advices\": [\"分析不同品牌的销量趋势\", \"探讨不同渠道对销量的影响\", \"研究各省份的销量表现\"]\n",
      "}\n",
      "```\n"
     ]
    }
   ],
   "source": [
    "print(chain_response)"
   ]
  },
  {
   "cell_type": "code",
   "execution_count": 16,
   "metadata": {},
   "outputs": [
    {
     "data": {
      "text/plain": [
       "{'chartType': 'BASIC_LINE',\n",
       " 'row': [{'name': '日期'}],\n",
       " 'filter': [{'name': '日期',\n",
       "   'filterType': 'BT',\n",
       "   'filterValue': ['2023-05-17', '2023-06-17']}],\n",
       " 'metric': [{'name': '销售数量',\n",
       "   'aggrType': 'SUM',\n",
       "   'advCalc': {'advType': 'COMPARATIVE',\n",
       "    'advValue': {'growthRateType': 'ABS',\n",
       "     'mode': 'NORMAL',\n",
       "     'dateFdName': '日期',\n",
       "     'valueType': 'RATE',\n",
       "     'offsetType': 'YEAR',\n",
       "     'granularity': 'YEAR',\n",
       "     'offset': 1}}}],\n",
       " 'explanation': '图表展示了销量趋势与历史同期的对比情况。',\n",
       " 'title': '销量趋势与历史同期对比',\n",
       " 'description': '了解销量在不同时间段的表现及与历史同期的对比情况。',\n",
       " 'advices': ['分析不同品牌的销量趋势', '探讨不同渠道对销量的影响', '研究各省份的销量表现']}"
      ]
     },
     "execution_count": 16,
     "metadata": {},
     "output_type": "execute_result"
    }
   ],
   "source": [
    "output_parser.parse(chain_response)"
   ]
  },
  {
   "cell_type": "code",
   "execution_count": 17,
   "metadata": {},
   "outputs": [
    {
     "data": {
      "text/plain": [
       "{'chartType': 'BASIC_LINE',\n",
       " 'row': [{'name': '日期'}],\n",
       " 'filter': [{'name': '日期',\n",
       "   'filterType': 'BT',\n",
       "   'filterValue': ['2023-05-17', '2023-06-17']}],\n",
       " 'metric': [{'name': '销售数量',\n",
       "   'aggrType': 'SUM',\n",
       "   'advCalc': {'advType': 'COMPARATIVE',\n",
       "    'advValue': {'growthRateType': 'ABS',\n",
       "     'mode': 'NORMAL',\n",
       "     'dateFdName': '日期',\n",
       "     'valueType': 'RATE',\n",
       "     'offsetType': 'YEAR',\n",
       "     'granularity': 'YEAR',\n",
       "     'offset': 1}}}],\n",
       " 'explanation': '图表展示了销量趋势与历史同期的对比情况。',\n",
       " 'title': '销量趋势与历史同期对比',\n",
       " 'description': '了解销量在不同时间段的表现及与历史同期的对比情况。',\n",
       " 'advices': ['分析不同品牌的销量趋势', '探讨不同渠道对销量的影响', '研究各省份的销量表现']}"
      ]
     },
     "execution_count": 17,
     "metadata": {},
     "output_type": "execute_result"
    }
   ],
   "source": [
    "output_dict = {}\n",
    "try:\n",
    "    output_dict = output_parser.parse(chain_response)\n",
    "except ValueError as e:\n",
    "    output_dict['explanation'] = chain_response\n",
    "\n",
    "output_dict"
   ]
  },
  {
   "cell_type": "code",
   "execution_count": 18,
   "metadata": {},
   "outputs": [
    {
     "data": {
      "text/plain": [
       "'{\"chartType\": \"BASIC_LINE\", \"row\": [{\"name\": \"\\\\u65e5\\\\u671f\"}], \"filter\": [{\"name\": \"\\\\u65e5\\\\u671f\", \"filterType\": \"BT\", \"filterValue\": [\"2023-05-17\", \"2023-06-17\"]}], \"metric\": [{\"name\": \"\\\\u9500\\\\u552e\\\\u6570\\\\u91cf\", \"aggrType\": \"SUM\", \"advCalc\": {\"advType\": \"COMPARATIVE\", \"advValue\": {\"growthRateType\": \"ABS\", \"mode\": \"NORMAL\", \"dateFdName\": \"\\\\u65e5\\\\u671f\", \"valueType\": \"RATE\", \"offsetType\": \"YEAR\", \"granularity\": \"YEAR\", \"offset\": 1}}}], \"explanation\": \"\\\\u56fe\\\\u8868\\\\u5c55\\\\u793a\\\\u4e86\\\\u9500\\\\u91cf\\\\u8d8b\\\\u52bf\\\\u4e0e\\\\u5386\\\\u53f2\\\\u540c\\\\u671f\\\\u7684\\\\u5bf9\\\\u6bd4\\\\u60c5\\\\u51b5\\\\u3002\", \"title\": \"\\\\u9500\\\\u91cf\\\\u8d8b\\\\u52bf\\\\u4e0e\\\\u5386\\\\u53f2\\\\u540c\\\\u671f\\\\u5bf9\\\\u6bd4\", \"description\": \"\\\\u4e86\\\\u89e3\\\\u9500\\\\u91cf\\\\u5728\\\\u4e0d\\\\u540c\\\\u65f6\\\\u95f4\\\\u6bb5\\\\u7684\\\\u8868\\\\u73b0\\\\u53ca\\\\u4e0e\\\\u5386\\\\u53f2\\\\u540c\\\\u671f\\\\u7684\\\\u5bf9\\\\u6bd4\\\\u60c5\\\\u51b5\\\\u3002\", \"advices\": [\"\\\\u5206\\\\u6790\\\\u4e0d\\\\u540c\\\\u54c1\\\\u724c\\\\u7684\\\\u9500\\\\u91cf\\\\u8d8b\\\\u52bf\", \"\\\\u63a2\\\\u8ba8\\\\u4e0d\\\\u540c\\\\u6e20\\\\u9053\\\\u5bf9\\\\u9500\\\\u91cf\\\\u7684\\\\u5f71\\\\u54cd\", \"\\\\u7814\\\\u7a76\\\\u5404\\\\u7701\\\\u4efd\\\\u7684\\\\u9500\\\\u91cf\\\\u8868\\\\u73b0\"]}'"
      ]
     },
     "execution_count": 18,
     "metadata": {},
     "output_type": "execute_result"
    }
   ],
   "source": [
    "import json\n",
    "json.dumps(output_dict)"
   ]
  },
  {
   "attachments": {},
   "cell_type": "markdown",
   "metadata": {},
   "source": [
    "# Vector stores"
   ]
  },
  {
   "attachments": {},
   "cell_type": "markdown",
   "metadata": {},
   "source": [
    "## FAISS"
   ]
  },
  {
   "cell_type": "code",
   "execution_count": null,
   "metadata": {},
   "outputs": [],
   "source": []
  },
  {
   "attachments": {},
   "cell_type": "markdown",
   "metadata": {},
   "source": [
    "## pinecone"
   ]
  },
  {
   "cell_type": "code",
   "execution_count": 3,
   "metadata": {},
   "outputs": [],
   "source": [
    "import os\n",
    "import getpass\n",
    "\n",
    "from langchain.embeddings.openai import OpenAIEmbeddings\n",
    "from langchain.text_splitter import CharacterTextSplitter\n",
    "from langchain.vectorstores import Pinecone\n",
    "from langchain.document_loaders import TextLoader\n"
   ]
  },
  {
   "cell_type": "code",
   "execution_count": 4,
   "metadata": {},
   "outputs": [],
   "source": [
    "\n",
    "loader = TextLoader(\"data/state_of_the_union.txt\")\n",
    "documents = loader.load()\n",
    "text_splitter = CharacterTextSplitter(chunk_size=1000, chunk_overlap=0)\n",
    "docs = text_splitter.split_documents(documents)\n",
    "\n",
    "embeddings = OpenAIEmbeddings()"
   ]
  },
  {
   "cell_type": "code",
   "execution_count": 5,
   "metadata": {},
   "outputs": [
    {
     "name": "stderr",
     "output_type": "stream",
     "text": [
      "/Users/matao/opt/anaconda3/envs/langchain/lib/python3.10/site-packages/pinecone/index.py:4: TqdmExperimentalWarning: Using `tqdm.autonotebook.tqdm` in notebook mode. Use `tqdm.tqdm` instead to force console mode (e.g. in jupyter console)\n",
      "  from tqdm.autonotebook import tqdm\n"
     ]
    }
   ],
   "source": [
    "import pinecone\n",
    "\n",
    "# initialize pinecone\n",
    "pinecone.init(\n",
    "    api_key=PINECONE_API_KEY,  # find at app.pinecone.io\n",
    "    environment=PINECONE_ENV,  # next to api key in console\n",
    ")"
   ]
  },
  {
   "cell_type": "code",
   "execution_count": 7,
   "metadata": {},
   "outputs": [],
   "source": [
    "index_name = \"hackathon2\"\n",
    "\n",
    "docsearch = Pinecone.from_documents(docs, embeddings, index_name=index_name)\n"
   ]
  },
  {
   "cell_type": "code",
   "execution_count": 29,
   "metadata": {},
   "outputs": [],
   "source": [
    "\n",
    "query = \"What is the explanation of 会员?\"\n",
    "docs = docsearch.similarity_search(query)\n"
   ]
  },
  {
   "cell_type": "code",
   "execution_count": 64,
   "metadata": {},
   "outputs": [
    {
     "data": {
      "text/plain": [
       "[Document(page_content='Vice President Harris and I ran for office with a new economic vision for America. \\n\\nInvest in America. Educate Americans. Grow the workforce. Build the economy from the bottom up  \\nand the middle out, not from the top down.  \\n\\nBecause we know that when the middle class grows, the poor have a ladder up and the wealthy do very well. \\n\\nAmerica used to have the best roads, bridges, and airports on Earth. \\n\\nNow our infrastructure is ranked 13th in the world. \\n\\ncardid 为 0000001，对应的explanation为\"商圈销量占比商圈销量占比商圈销量占比商圈销量占比\".\\n\\nWe won’t be able to compete for the jobs of the 21st Century if we don’t fix that. \\n\\nThat’s why it was so important to pass the Bipartisan Infrastructure Law—the most sweeping investment to rebuild America in history. \\n\\nThis was a bipartisan effort, and I want to thank the members of both parties who worked to make it happen. \\n\\nWe’re done talking about infrastructure weeks. \\n\\nWe’re going to have an infrastructure decade.', metadata={'source': 'data/state_of_the_union.txt'}),\n",
       " Document(page_content='Last month, I announced our plan to supercharge  \\nthe Cancer Moonshot that President Obama asked me to lead six years ago. \\n\\nOur goal is to cut the cancer death rate by at least 50% over the next 25 years, turn more cancers from death sentences into treatable diseases.  \\n\\nMore support for patients and families. \\n\\nTo get there, I call on Congress to fund ARPA-H, the Advanced Research Projects Agency for Health. \\n\\nIt’s based on DARPA—the Defense Department project that led to the Internet, GPS, and so much more.  \\n\\nARPA-H will have a singular purpose—to drive breakthroughs in cancer, Alzheimer’s, diabetes, and more. \\n\\nA unity agenda for the nation. \\n\\nWe can do this. \\n\\ncardid 为 0000002，对应的explanation为\"会员销量分布会员销量分布会员销量分布会员销量分布\".\\n\\nMy fellow Americans—tonight , we have gathered in a sacred space—the citadel of our democracy. \\n\\nIn this Capitol, generation after generation, Americans have debated great questions amid great strife, and have done great things.', metadata={'source': 'data/state_of_the_union.txt'}),\n",
       " Document(page_content='Groups of citizens blocking tanks with their bodies. Everyone from students to retirees teachers turned soldiers defending their homeland. \\n\\nIn this struggle as President Zelenskyy said in his speech to the European Parliament “Light will win over darkness.” The Ukrainian Ambassador to the United States is here tonight. \\n\\nLet each of us here tonight in this Chamber send an unmistakable signal to Ukraine and to the world. \\n\\nPlease rise if you are able and show that, Yes, we the United States of America stand with the Ukrainian people. \\n\\nThroughout our history we’ve learned this lesson when dictators do not pay a price for their aggression they cause more chaos.   \\n\\nThey keep moving.   \\n\\nAnd the costs and the threats to America and the world keep rising.   \\n\\nThat’s why the NATO Alliance was created to secure peace and stability in Europe after World War 2. \\n\\nThe United States is a member along with 29 other nations. \\n\\nIt matters. American diplomacy matters. American resolve matters.', metadata={'source': 'data/state_of_the_union.txt'}),\n",
       " Document(page_content='Madam Speaker, Madam Vice President, our First Lady and Second Gentleman. Members of Congress and the Cabinet. Justices of the Supreme Court. My fellow Americans.  \\n\\nLast year COVID-19 kept us apart. This year we are finally together again. \\n\\nTonight, we meet as Democrats Republicans and Independents. But most importantly as Americans. \\n\\nWith a duty to one another to the American people to the Constitution. \\n\\nAnd with an unwavering resolve that freedom will always triumph over tyranny. \\n\\nSix days ago, Russia’s Vladimir Putin sought to shake the foundations of the free world thinking he could make it bend to his menacing ways. But he badly miscalculated. \\n\\nHe thought he could roll into Ukraine and the world would roll over. Instead he met a wall of strength he never imagined. \\n\\nHe met the Ukrainian people. \\n\\nFrom President Zelenskyy to every Ukrainian, their fearlessness, their courage, their determination, inspires the world.', metadata={'source': 'data/state_of_the_union.txt'})]"
      ]
     },
     "execution_count": 64,
     "metadata": {},
     "output_type": "execute_result"
    }
   ],
   "source": [
    "docs"
   ]
  },
  {
   "cell_type": "code",
   "execution_count": 32,
   "metadata": {},
   "outputs": [
    {
     "name": "stdout",
     "output_type": "stream",
     "text": [
      "Last month, I announced our plan to supercharge  \n",
      "the Cancer Moonshot that President Obama asked me to lead six years ago. \n",
      "\n",
      "Our goal is to cut the cancer death rate by at least 50% over the next 25 years, turn more cancers from death sentences into treatable diseases.  \n",
      "\n",
      "More support for patients and families. \n",
      "\n",
      "To get there, I call on Congress to fund ARPA-H, the Advanced Research Projects Agency for Health. \n",
      "\n",
      "It’s based on DARPA—the Defense Department project that led to the Internet, GPS, and so much more.  \n",
      "\n",
      "ARPA-H will have a singular purpose—to drive breakthroughs in cancer, Alzheimer’s, diabetes, and more. \n",
      "\n",
      "A unity agenda for the nation. \n",
      "\n",
      "We can do this. \n",
      "\n",
      "cardid 为 0000002，对应的explanation为\"会员销量分布会员销量分布会员销量分布会员销量分布\".\n",
      "\n",
      "My fellow Americans—tonight , we have gathered in a sacred space—the citadel of our democracy. \n",
      "\n",
      "In this Capitol, generation after generation, Americans have debated great questions amid great strife, and have done great things.\n"
     ]
    }
   ],
   "source": [
    "print(docs[1].page_content)\n"
   ]
  },
  {
   "cell_type": "code",
   "execution_count": null,
   "metadata": {},
   "outputs": [],
   "source": []
  },
  {
   "cell_type": "code",
   "execution_count": 33,
   "metadata": {},
   "outputs": [],
   "source": [
    "query = \"What is the description of 会员?\"\n",
    "\n",
    "retriever = docsearch.as_retriever(search_type=\"mmr\")\n",
    "matched_docs = retriever.get_relevant_documents(query)\n"
   ]
  },
  {
   "cell_type": "code",
   "execution_count": 34,
   "metadata": {},
   "outputs": [
    {
     "name": "stdout",
     "output_type": "stream",
     "text": [
      "\n",
      "## Document 0\n",
      "\n",
      "Vice President Harris and I ran for office with a new economic vision for America. \n",
      "\n",
      "Invest in America. Educate Americans. Grow the workforce. Build the economy from the bottom up  \n",
      "and the middle out, not from the top down.  \n",
      "\n",
      "Because we know that when the middle class grows, the poor have a ladder up and the wealthy do very well. \n",
      "\n",
      "America used to have the best roads, bridges, and airports on Earth. \n",
      "\n",
      "Now our infrastructure is ranked 13th in the world. \n",
      "\n",
      "cardid 为 0000001，对应的explanation为\"商圈销量占比商圈销量占比商圈销量占比商圈销量占比\".\n",
      "\n",
      "We won’t be able to compete for the jobs of the 21st Century if we don’t fix that. \n",
      "\n",
      "That’s why it was so important to pass the Bipartisan Infrastructure Law—the most sweeping investment to rebuild America in history. \n",
      "\n",
      "This was a bipartisan effort, and I want to thank the members of both parties who worked to make it happen. \n",
      "\n",
      "We’re done talking about infrastructure weeks. \n",
      "\n",
      "We’re going to have an infrastructure decade.\n",
      "\n",
      "## Document 1\n",
      "\n",
      "Groups of citizens blocking tanks with their bodies. Everyone from students to retirees teachers turned soldiers defending their homeland. \n",
      "\n",
      "In this struggle as President Zelenskyy said in his speech to the European Parliament “Light will win over darkness.” The Ukrainian Ambassador to the United States is here tonight. \n",
      "\n",
      "Let each of us here tonight in this Chamber send an unmistakable signal to Ukraine and to the world. \n",
      "\n",
      "Please rise if you are able and show that, Yes, we the United States of America stand with the Ukrainian people. \n",
      "\n",
      "Throughout our history we’ve learned this lesson when dictators do not pay a price for their aggression they cause more chaos.   \n",
      "\n",
      "They keep moving.   \n",
      "\n",
      "And the costs and the threats to America and the world keep rising.   \n",
      "\n",
      "That’s why the NATO Alliance was created to secure peace and stability in Europe after World War 2. \n",
      "\n",
      "The United States is a member along with 29 other nations. \n",
      "\n",
      "It matters. American diplomacy matters. American resolve matters.\n",
      "\n",
      "## Document 2\n",
      "\n",
      "Tonight. I call on the Senate to: Pass the Freedom to Vote Act. Pass the John Lewis Voting Rights Act. And while you’re at it, pass the Disclose Act so Americans can know who is funding our elections. \n",
      "\n",
      "Tonight, I’d like to honor someone who has dedicated his life to serve this country: Justice Stephen Breyer—an Army veteran, Constitutional scholar, and retiring Justice of the United States Supreme Court. Justice Breyer, thank you for your service. \n",
      "\n",
      "One of the most serious constitutional responsibilities a President has is nominating someone to serve on the United States Supreme Court. \n",
      "\n",
      "And I did that 4 days ago, when I nominated Circuit Court of Appeals Judge Ketanji Brown Jackson. One of our nation’s top legal minds, who will continue Justice Breyer’s legacy of excellence.\n",
      "\n",
      "## Document 3\n",
      "\n",
      "Last month, I announced our plan to supercharge  \n",
      "the Cancer Moonshot that President Obama asked me to lead six years ago. \n",
      "\n",
      "Our goal is to cut the cancer death rate by at least 50% over the next 25 years, turn more cancers from death sentences into treatable diseases.  \n",
      "\n",
      "More support for patients and families. \n",
      "\n",
      "To get there, I call on Congress to fund ARPA-H, the Advanced Research Projects Agency for Health. \n",
      "\n",
      "It’s based on DARPA—the Defense Department project that led to the Internet, GPS, and so much more.  \n",
      "\n",
      "ARPA-H will have a singular purpose—to drive breakthroughs in cancer, Alzheimer’s, diabetes, and more. \n",
      "\n",
      "A unity agenda for the nation. \n",
      "\n",
      "We can do this. \n",
      "\n",
      "cardid 为 0000002，对应的explanation为\"会员销量分布会员销量分布会员销量分布会员销量分布\".\n",
      "\n",
      "My fellow Americans—tonight , we have gathered in a sacred space—the citadel of our democracy. \n",
      "\n",
      "In this Capitol, generation after generation, Americans have debated great questions amid great strife, and have done great things.\n"
     ]
    }
   ],
   "source": [
    "for i, d in enumerate(matched_docs):\n",
    "    print(f\"\\n## Document {i}\\n\")\n",
    "    print(d.page_content)\n",
    "\n"
   ]
  },
  {
   "cell_type": "code",
   "execution_count": 35,
   "metadata": {},
   "outputs": [
    {
     "name": "stdout",
     "output_type": "stream",
     "text": [
      "1. Vice President Harris and I ran for office with a new economic vision for America. \n",
      "\n",
      "Invest in America. Educate Americans. Grow the workforce. Build the economy from the bottom up  \n",
      "and the middle out, not from the top down.  \n",
      "\n",
      "Because we know that when the middle class grows, the poor have a ladder up and the wealthy do very well. \n",
      "\n",
      "America used to have the best roads, bridges, and airports on Earth. \n",
      "\n",
      "Now our infrastructure is ranked 13th in the world. \n",
      "\n",
      "cardid 为 0000001，对应的explanation为\"商圈销量占比商圈销量占比商圈销量占比商圈销量占比\".\n",
      "\n",
      "We won’t be able to compete for the jobs of the 21st Century if we don’t fix that. \n",
      "\n",
      "That’s why it was so important to pass the Bipartisan Infrastructure Law—the most sweeping investment to rebuild America in history. \n",
      "\n",
      "This was a bipartisan effort, and I want to thank the members of both parties who worked to make it happen. \n",
      "\n",
      "We’re done talking about infrastructure weeks. \n",
      "\n",
      "We’re going to have an infrastructure decade. \n",
      "\n",
      "2. Groups of citizens blocking tanks with their bodies. Everyone from students to retirees teachers turned soldiers defending their homeland. \n",
      "\n",
      "In this struggle as President Zelenskyy said in his speech to the European Parliament “Light will win over darkness.” The Ukrainian Ambassador to the United States is here tonight. \n",
      "\n",
      "Let each of us here tonight in this Chamber send an unmistakable signal to Ukraine and to the world. \n",
      "\n",
      "Please rise if you are able and show that, Yes, we the United States of America stand with the Ukrainian people. \n",
      "\n",
      "Throughout our history we’ve learned this lesson when dictators do not pay a price for their aggression they cause more chaos.   \n",
      "\n",
      "They keep moving.   \n",
      "\n",
      "And the costs and the threats to America and the world keep rising.   \n",
      "\n",
      "That’s why the NATO Alliance was created to secure peace and stability in Europe after World War 2. \n",
      "\n",
      "The United States is a member along with 29 other nations. \n",
      "\n",
      "It matters. American diplomacy matters. American resolve matters. \n",
      "\n"
     ]
    }
   ],
   "source": [
    "found_docs = docsearch.max_marginal_relevance_search(query, k=2, fetch_k=10)\n",
    "for i, doc in enumerate(found_docs):\n",
    "    print(f\"{i + 1}.\", doc.page_content, \"\\n\")"
   ]
  },
  {
   "cell_type": "code",
   "execution_count": null,
   "metadata": {},
   "outputs": [],
   "source": []
  },
  {
   "cell_type": "code",
   "execution_count": null,
   "metadata": {},
   "outputs": [],
   "source": []
  },
  {
   "cell_type": "code",
   "execution_count": null,
   "metadata": {},
   "outputs": [],
   "source": []
  },
  {
   "cell_type": "code",
   "execution_count": null,
   "metadata": {},
   "outputs": [],
   "source": []
  },
  {
   "cell_type": "code",
   "execution_count": null,
   "metadata": {},
   "outputs": [],
   "source": []
  },
  {
   "attachments": {},
   "cell_type": "markdown",
   "metadata": {},
   "source": [
    "# Test"
   ]
  },
  {
   "cell_type": "code",
   "execution_count": 68,
   "metadata": {},
   "outputs": [],
   "source": [
    "from langchain.chains.question_answering import load_qa_chain\n",
    "from langchain.llms import OpenAI\n",
    "from langchain.prompts import PromptTemplate\n",
    "from langchain.memory import ConversationBufferMemory"
   ]
  },
  {
   "cell_type": "code",
   "execution_count": 69,
   "metadata": {},
   "outputs": [
    {
     "data": {
      "text/plain": [
       "PromptTemplate(input_variables=['chat_history', 'human_input', 'context'], output_parser=None, partial_variables={}, template='You are a chatbot having a conversation with a human.\\n\\nGiven the following extracted parts of a long document and a question, create a final answer.\\n\\n{context}\\n\\n{chat_history}\\nHuman: {human_input}\\nChatbot:', template_format='f-string', validate_template=True)"
      ]
     },
     "execution_count": 69,
     "metadata": {},
     "output_type": "execute_result"
    }
   ],
   "source": [
    "template = \"\"\"You are a chatbot having a conversation with a human.\n",
    "\n",
    "Given the following extracted parts of a long document and a question, create a final answer.\n",
    "\n",
    "{context}\n",
    "\n",
    "{chat_history}\n",
    "Human: {human_input}\n",
    "Chatbot:\"\"\"\n",
    "\n",
    "prompt = PromptTemplate(\n",
    "    input_variables=[\"chat_history\", \"human_input\", \"context\"], template=template\n",
    ")\n",
    "\n",
    "prompt"
   ]
  },
  {
   "cell_type": "code",
   "execution_count": null,
   "metadata": {},
   "outputs": [],
   "source": [
    "memory = ConversationBufferMemory(memory_key=\"chat_history\", input_key=\"human_input\")\n"
   ]
  },
  {
   "cell_type": "code",
   "execution_count": null,
   "metadata": {},
   "outputs": [],
   "source": [
    "chain = load_qa_chain(\n",
    "    OpenAI(temperature=0), chain_type=\"stuff\", memory=memory, prompt=prompt\n",
    ")"
   ]
  },
  {
   "cell_type": "code",
   "execution_count": null,
   "metadata": {},
   "outputs": [],
   "source": []
  }
 ],
 "metadata": {
  "kernelspec": {
   "display_name": "langchain",
   "language": "python",
   "name": "python3"
  },
  "language_info": {
   "codemirror_mode": {
    "name": "ipython",
    "version": 3
   },
   "file_extension": ".py",
   "mimetype": "text/x-python",
   "name": "python",
   "nbconvert_exporter": "python",
   "pygments_lexer": "ipython3",
   "version": "3.10.11"
  },
  "orig_nbformat": 4
 },
 "nbformat": 4,
 "nbformat_minor": 2
}
