{
 "cells": [
  {
   "cell_type": "code",
   "execution_count": 4,
   "metadata": {},
   "outputs": [
    {
     "ename": "ModuleNotFoundError",
     "evalue": "No module named 'lchain'",
     "output_type": "error",
     "traceback": [
      "\u001b[0;31m---------------------------------------------------------------------------\u001b[0m",
      "\u001b[0;31mModuleNotFoundError\u001b[0m                       Traceback (most recent call last)",
      "Cell \u001b[0;32mIn[4], line 3\u001b[0m\n\u001b[1;32m      1\u001b[0m \u001b[39m# Bring in deps\u001b[39;00m\n\u001b[1;32m      2\u001b[0m \u001b[39mimport\u001b[39;00m \u001b[39mos\u001b[39;00m \n\u001b[0;32m----> 3\u001b[0m \u001b[39mfrom\u001b[39;00m \u001b[39mlchain\u001b[39;00m\u001b[39m.\u001b[39;00m\u001b[39mapikey\u001b[39;00m \u001b[39mimport\u001b[39;00m apikey\n",
      "\u001b[0;31mModuleNotFoundError\u001b[0m: No module named 'lchain'"
     ]
    }
   ],
   "source": [
    "# Bring in deps\n",
    "import os \n",
    "from lchain.apikey import apikey \n",
    "\n"
   ]
  },
  {
   "cell_type": "code",
   "execution_count": null,
   "metadata": {},
   "outputs": [],
   "source": [
    "import streamlit as st \n",
    "from langchain.llms import OpenAI\n",
    "from langchain.prompts import PromptTemplate\n",
    "from langchain.chains import LLMChain, SequentialChain, SimpleSequentialChain\n",
    "from langchain.memory import ConversationBufferMemory\n",
    "from langchain.utilities import WikipediaAPIWrapper \n",
    "\n",
    "os.environ['OPENAI_API_KEY'] = apikey"
   ]
  },
  {
   "cell_type": "code",
   "execution_count": 31,
   "metadata": {},
   "outputs": [],
   "source": [
    "# App framework\n",
    "prompt = '目前销量最好的品类是哪个？'\n",
    "\n",
    "data_info = f\"\"\"\n",
    "dataset name: 行业市场变化_市场大盘分析_行业市场大盘_魔镜\n",
    "\n",
    "dataset description:\n",
    "primary keys:[月份, 类目编码]\n",
    "3540 rows\n",
    "| field | type | uniques | nan_percentage | max | min |\n",
    "| --- | --- | --- | --- | --- | --- |\n",
    "| 月份 | DateTime | 59 | 0.0 | nan | nan |\n",
    "| 平台编码 | String | 2 | 0.0 | nan | nan |\n",
    "| 一级类目 | String | 4 | 0.0 | nan | nan |\n",
    "| 二级类目 | String | 8 | 6.666666666666667 | nan | nan |\n",
    "| 三级类目 | String | 16 | 20.0 | nan | nan |\n",
    "| 四级类目 | String | 32 | 46.666666666666664 | nan | nan |\n",
    "| 类目名称 | String | 60 | 0.0 | nan | nan |\n",
    "| 类目编码 | Numeric | 60 | 0.0 | 39264.0 | 10209.0 |\n",
    "| 销售额 | Numeric | 3540 | 0.0 | 99989.30547 | 1.8873 |\n",
    "| 销量 | Numeric | 974 | 0.0 | 999.0 | 0.0 |\n",
    "| 店铺数 | Numeric | 181 | 0.0 | 200.0 | 20.0 |\n",
    "| 商品数 | Numeric | 451 | 0.0 | 500.0 | 50.0 |\n",
    "| 收藏次数 | Numeric | 1 | 0.0 | 0.0 | 0.0 |\n",
    "\"\"\"\n"
   ]
  },
  {
   "cell_type": "code",
   "execution_count": 55,
   "metadata": {},
   "outputs": [],
   "source": [
    "\n",
    "template = \"\"\"\n",
    "    Question：{prompt}\n",
    "    你是一个数据分析机器人，用户会向你咨询关于数据的问题，请按照以下步骤进行处理。\n",
    "        1. 需要判断用户的问题是否为这两类【常规数据咨询，BA看板】，对于这两个问题之外的，请礼貌的回答无法满足要求。\n",
    "            想知道具体单一数值或简单问题的，为数据咨询；若用户想知道多个数据的占比或趋势或涉及多个数据维度之间的关系，属于BA看板。\n",
    "        2A. 如果为数据咨询，假设dataframe的变量名为df, 写一段可运行的<python代码>，运行后可以打印出回答此问题的信息。\n",
    "        2B. 如果为BA看板，假设dataframe的变量名为df, 写一段可运行的<python代码>，运行后可以绘制对应需求。\n",
    "        3. 以JSON格式返回信息。Ensure the response can be parsed by Python json.loads。Json外不能有任何字符\n",
    "        \"message\":<所有需要沟通的内容>, \"task\":<问题分类>, \"python_code\":<python code>\n",
    "    \n",
    "    要求：写python代码时需假设df已经读取在内存中，你不需要写读取数据的代码。\n",
    "\n",
    "    你掌握的数据情况如下：{data_info}\n",
    "        \n",
    "\"\"\"\n"
   ]
  },
  {
   "cell_type": "code",
   "execution_count": 56,
   "metadata": {},
   "outputs": [],
   "source": [
    "Task_splitting_template = PromptTemplate(\n",
    "    input_variables =['data_info', 'prompt'],\n",
    "    template = template\n",
    ") "
   ]
  },
  {
   "cell_type": "code",
   "execution_count": null,
   "metadata": {},
   "outputs": [],
   "source": [
    "template2 = PromptTemplate(\n",
    "    input_variables =['python_code'],\n",
    "    template = '基于生成的代码结果，'\n",
    ") "
   ]
  },
  {
   "cell_type": "code",
   "execution_count": 45,
   "metadata": {},
   "outputs": [],
   "source": [
    "llm = OpenAI(temperature=0.9)\n",
    "title_chain = LLMChain(llm=llm, prompt=title_template, verbose=True)"
   ]
  },
  {
   "cell_type": "code",
   "execution_count": 46,
   "metadata": {},
   "outputs": [
    {
     "name": "stdout",
     "output_type": "stream",
     "text": [
      "\n",
      "\n",
      "\u001b[1m> Entering new LLMChain chain...\u001b[0m\n",
      "Prompt after formatting:\n",
      "\u001b[32;1m\u001b[1;3m\n",
      "    你是一个数据分析机器人，用户会向你咨询关于数据的问题，请按照以下步骤进行处理。\n",
      "        1. 需要判断用户的问题是否为这两类【常规数据咨询，BA看板】，对于这两个问题之外的，请礼貌的回答无法满足要求。\n",
      "            想知道具体单一数值或简单问题的，为数据咨询；若用户想知道多个数据的占比或趋势或涉及多个数据维度之间的关系，属于BA看板。\n",
      "        2A. 如果为数据咨询，假设dataframe的变量名为df, 写一段可运行的<python代码>，运行后可以打印出回答此问题的信息。\n",
      "        2B. 如果为BA看板，假设dataframe的变量名为df, 写一段可运行的<python代码>，运行后可以绘制对应需求。\n",
      "        3. 以JSON格式返回信息。Ensure the response can be parsed by Python json.loads。Json外不能有任何字符\n",
      "        \"message\":<所有需要沟通的内容>, \"task\":<问题分类>, \"python_code\":<python code>\n",
      "    这是具体问题：目前销量最好的品类是哪个？\n",
      "\n",
      "    要求：写python代码时需假设df已经读取在内存中，你不需要写读取数据的代码。\n",
      "\n",
      "    你掌握的数据情况如下：\n",
      "dataset name: 行业市场变化_市场大盘分析_行业市场大盘_魔镜\n",
      "\n",
      "dataset description:\n",
      "primary keys:[月份, 类目编码]\n",
      "3540 rows\n",
      "| field | type | uniques | nan_percentage | max | min |\n",
      "| --- | --- | --- | --- | --- | --- |\n",
      "| 月份 | DateTime | 59 | 0.0 | nan | nan |\n",
      "| 平台编码 | String | 2 | 0.0 | nan | nan |\n",
      "| 一级类目 | String | 4 | 0.0 | nan | nan |\n",
      "| 二级类目 | String | 8 | 6.666666666666667 | nan | nan |\n",
      "| 三级类目 | String | 16 | 20.0 | nan | nan |\n",
      "| 四级类目 | String | 32 | 46.666666666666664 | nan | nan |\n",
      "| 类目名称 | String | 60 | 0.0 | nan | nan |\n",
      "| 类目编码 | Numeric | 60 | 0.0 | 39264.0 | 10209.0 |\n",
      "| 销售额 | Numeric | 3540 | 0.0 | 99989.30547 | 1.8873 |\n",
      "| 销量 | Numeric | 974 | 0.0 | 999.0 | 0.0 |\n",
      "| 店铺数 | Numeric | 181 | 0.0 | 200.0 | 20.0 |\n",
      "| 商品数 | Numeric | 451 | 0.0 | 500.0 | 50.0 |\n",
      "| 收藏次数 | Numeric | 1 | 0.0 | 0.0 | 0.0 |\n",
      ",\n",
      "        \n",
      "\u001b[0m\n",
      "\n",
      "\u001b[1m> Finished chain.\u001b[0m\n"
     ]
    }
   ],
   "source": [
    "response = title_chain.run({'prompt':prompt, 'data_info':data_info})"
   ]
  },
  {
   "cell_type": "code",
   "execution_count": 47,
   "metadata": {},
   "outputs": [
    {
     "name": "stdout",
     "output_type": "stream",
     "text": [
      "    答案：\n",
      "\"message\": \"目前销量最高的品类是：\", \"task\": \"数据咨询\", \"python_code\": \"print(df.sort_values('销量', ascending=False).head(1)['类目名称'].iloc[0])\"\n"
     ]
    }
   ],
   "source": [
    "print(response)"
   ]
  },
  {
   "cell_type": "code",
   "execution_count": 48,
   "metadata": {},
   "outputs": [
    {
     "data": {
      "text/plain": [
       "'    答案：\\n\"message\": \"目前销量最高的品类是：\", \"task\": \"数据咨询\", \"python_code\": \"print(df.sort_values(\\'销量\\', ascending=False).head(1)[\\'类目名称\\'].iloc[0])\"'"
      ]
     },
     "execution_count": 48,
     "metadata": {},
     "output_type": "execute_result"
    }
   ],
   "source": [
    "response"
   ]
  },
  {
   "cell_type": "code",
   "execution_count": 49,
   "metadata": {},
   "outputs": [
    {
     "ename": "TypeError",
     "evalue": "string indices must be integers",
     "output_type": "error",
     "traceback": [
      "\u001b[0;31m---------------------------------------------------------------------------\u001b[0m",
      "\u001b[0;31mTypeError\u001b[0m                                 Traceback (most recent call last)",
      "Cell \u001b[0;32mIn[49], line 1\u001b[0m\n\u001b[0;32m----> 1\u001b[0m response[\u001b[39m'\u001b[39;49m\u001b[39mchoices\u001b[39;49m\u001b[39m'\u001b[39;49m]\n",
      "\u001b[0;31mTypeError\u001b[0m: string indices must be integers"
     ]
    }
   ],
   "source": [
    "response['choices']"
   ]
  },
  {
   "cell_type": "code",
   "execution_count": null,
   "metadata": {},
   "outputs": [],
   "source": []
  }
 ],
 "metadata": {
  "kernelspec": {
   "display_name": "langchain",
   "language": "python",
   "name": "python3"
  },
  "language_info": {
   "codemirror_mode": {
    "name": "ipython",
    "version": 3
   },
   "file_extension": ".py",
   "mimetype": "text/x-python",
   "name": "python",
   "nbconvert_exporter": "python",
   "pygments_lexer": "ipython3",
   "version": "3.10.11"
  },
  "orig_nbformat": 4
 },
 "nbformat": 4,
 "nbformat_minor": 2
}
