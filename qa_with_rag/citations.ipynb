{
 "cells": [
  {
   "cell_type": "code",
   "execution_count": 1,
   "metadata": {},
   "outputs": [],
   "source": [
    "import os\n",
    "import sys\n",
    "\n",
    "current_dir = os.path.dirname(os.path.realpath('__file__'))\n",
    "parent_dir = os.path.abspath(os.path.join(current_dir, os.pardir))\n",
    "sys.path.append(parent_dir)\n",
    "\n",
    "from apikey import apikey, langchain_apikey\n",
    "\n",
    "os.environ['OPENAI_API_KEY'] = apikey\n",
    "os.environ['LANGCHAIN_API_KEY'] = langchain_apikey\n",
    "os.environ[\"LANGCHAIN_TRACING_V2\"] = \"true\"\n"
   ]
  },
  {
   "cell_type": "code",
   "execution_count": 3,
   "metadata": {},
   "outputs": [
    {
     "name": "stdout",
     "output_type": "stream",
     "text": [
      "================================\u001b[1m System Message \u001b[0m================================\n",
      "\n",
      "You're a helpful AI assistant. Given a user question and some Wikipedia article snippets, answer the user question. If none of the articles answer the question, just say you don't know.\n",
      "\n",
      "Here are the Wikipedia articles:\u001b[33;1m\u001b[1;3m{context}\u001b[0m\n",
      "\n",
      "================================\u001b[1m Human Message \u001b[0m=================================\n",
      "\n",
      "\u001b[33;1m\u001b[1;3m{question}\u001b[0m\n"
     ]
    }
   ],
   "source": [
    "from langchain_community.retrievers import WikipediaRetriever\n",
    "from langchain_core.prompts import ChatPromptTemplate\n",
    "from langchain_openai import ChatOpenAI\n",
    "\n",
    "llm = ChatOpenAI(model=\"gpt-3.5-turbo\", temperature=0)\n",
    "wiki = WikipediaRetriever(top_k_results=6, doc_content_chars_max=2000)\n",
    "prompt = ChatPromptTemplate.from_messages(\n",
    "    [\n",
    "        (\n",
    "            \"system\",\n",
    "            \"You're a helpful AI assistant. Given a user question and some Wikipedia article snippets, answer the user question. If none of the articles answer the question, just say you don't know.\\n\\nHere are the Wikipedia articles:{context}\",\n",
    "        ),\n",
    "        (\"human\", \"{question}\"),\n",
    "    ]\n",
    ")\n",
    "prompt.pretty_print()"
   ]
  },
  {
   "cell_type": "code",
   "execution_count": 4,
   "metadata": {},
   "outputs": [],
   "source": [
    "from operator import itemgetter\n",
    "from typing import List\n",
    "\n",
    "from langchain_core.documents import Document\n",
    "from langchain_core.output_parsers import StrOutputParser\n",
    "from langchain_core.runnables import (\n",
    "    RunnableLambda,\n",
    "    RunnableParallel,\n",
    "    RunnablePassthrough,\n",
    ")\n"
   ]
  },
  {
   "cell_type": "code",
   "execution_count": 5,
   "metadata": {},
   "outputs": [],
   "source": [
    "def format_docs(docs: List[Document]) -> str:\n",
    "    \"\"\"Convert Documents to a single string.:\"\"\"\n",
    "    formatted = [\n",
    "        f\"Article Title: {doc.metadata['title']}\\nArticle Snippet: {doc.page_content}\"\n",
    "        for doc in docs\n",
    "    ]\n",
    "    return \"\\n\\n\" + \"\\n\\n\".join(formatted)\n",
    "\n",
    "\n",
    "format = itemgetter(\"docs\") | RunnableLambda(format_docs)\n",
    "# subchain for generating an answer once we've done retrieval\n",
    "answer = prompt | llm | StrOutputParser()\n",
    "# complete chain that calls wiki -> formats docs to string -> runs answer subchain -> returns just the answer and retrieved docs.\n",
    "chain = (\n",
    "    RunnableParallel(question=RunnablePassthrough(), docs=wiki)\n",
    "    .assign(context=format)\n",
    "    .assign(answer=answer)\n",
    "    .pick([\"answer\", \"docs\"])\n",
    ")\n",
    "\n"
   ]
  },
  {
   "cell_type": "code",
   "execution_count": 6,
   "metadata": {},
   "outputs": [
    {
     "data": {
      "text/plain": [
       "{'answer': 'Cheetahs are capable of running at speeds between 93 to 104 km/h (58 to 65 mph). They have evolved specialized adaptations for speed, such as a light build, long thin legs, and a long tail, making them the fastest land animals.',\n",
       " 'docs': [Document(page_content='The cheetah (Acinonyx jubatus) is a large cat and the fastest land animal. It has a tawny to creamy white or pale buff fur that is marked with evenly spaced, solid black spots. The head is small and rounded, with a short snout and black tear-like facial streaks. It reaches 67–94 cm (26–37 in) at the shoulder, and the head-and-body length is between 1.1 and 1.5 m (3 ft 7 in and 4 ft 11 in). Adults weigh between 21 and 72 kg (46 and 159 lb). The cheetah is capable of running at 93 to 104 km/h (58 to 65 mph); it has evolved specialized adaptations for speed, including a light build, long thin legs and a long tail.\\nThe cheetah was first described in the late 18th century. Four subspecies are recognised today that are native to Africa and central Iran. An African subspecies was introduced to India in 2022. It is now distributed mainly in small, fragmented populations in northwestern, eastern and southern Africa and central Iran. It lives in a variety of habitats such as savannahs in the Serengeti, arid mountain ranges in the Sahara, and hilly desert terrain.\\nThe cheetah lives in three main social groups: females and their cubs, male \"coalitions\", and solitary males. While females lead a nomadic life searching for prey in large home ranges, males are more sedentary and instead establish much smaller territories in areas with plentiful prey and access to females. The cheetah is active during the day, with peaks during dawn and dusk. It feeds on small- to medium-sized prey, mostly weighing under 40 kg (88 lb), and prefers medium-sized ungulates such as impala, springbok and Thomson\\'s gazelles. The cheetah typically stalks its prey within 60–100 m (200–330 ft) before charging towards it, trips it during the chase and bites its throat to suffocate it to death. It breeds throughout the year. After a gestation of nearly three months, females give birth to a litter of three or four cubs. Cheetah cubs are highly vulnerable to predation by other large carnivores. They are weaned a', metadata={'title': 'Cheetah', 'summary': 'The cheetah (Acinonyx jubatus) is a large cat and the fastest land animal. It has a tawny to creamy white or pale buff fur that is marked with evenly spaced, solid black spots. The head is small and rounded, with a short snout and black tear-like facial streaks. It reaches 67–94 cm (26–37 in) at the shoulder, and the head-and-body length is between 1.1 and 1.5 m (3 ft 7 in and 4 ft 11 in). Adults weigh between 21 and 72 kg (46 and 159 lb). The cheetah is capable of running at 93 to 104 km/h (58 to 65 mph); it has evolved specialized adaptations for speed, including a light build, long thin legs and a long tail.\\nThe cheetah was first described in the late 18th century. Four subspecies are recognised today that are native to Africa and central Iran. An African subspecies was introduced to India in 2022. It is now distributed mainly in small, fragmented populations in northwestern, eastern and southern Africa and central Iran. It lives in a variety of habitats such as savannahs in the Serengeti, arid mountain ranges in the Sahara, and hilly desert terrain.\\nThe cheetah lives in three main social groups: females and their cubs, male \"coalitions\", and solitary males. While females lead a nomadic life searching for prey in large home ranges, males are more sedentary and instead establish much smaller territories in areas with plentiful prey and access to females. The cheetah is active during the day, with peaks during dawn and dusk. It feeds on small- to medium-sized prey, mostly weighing under 40 kg (88 lb), and prefers medium-sized ungulates such as impala, springbok and Thomson\\'s gazelles. The cheetah typically stalks its prey within 60–100 m (200–330 ft) before charging towards it, trips it during the chase and bites its throat to suffocate it to death. It breeds throughout the year. After a gestation of nearly three months, females give birth to a litter of three or four cubs. Cheetah cubs are highly vulnerable to predation by other large carnivores. They are weaned at around four months and are independent by around 20 months of age.\\nThe cheetah is threatened by habitat loss, conflict with humans, poaching and high susceptibility to diseases. In 2016, the global cheetah population was estimated at 7,100 individuals in the wild; it is listed as Vulnerable on the IUCN Red List. It has been widely depicted in art, literature, advertising, and animation. It was tamed in ancient Egypt and trained for hunting ungulates in the Arabian Peninsula and India. It has been kept in zoos since the early 19th century.', 'source': 'https://en.wikipedia.org/wiki/Cheetah'}),\n",
       "  Document(page_content='More than 70 years after India\\'s native subspecies of the cheetah—the Asiatic cheetah (Acinonyx jubatus venaticus)—became extinct there, small numbers of Southeast African cheetah (Acinonyx jubatus jubatus) have been flown in from Namibia and South Africa to a national park in India.  The experiment has been permitted by India\\'s supreme court on a short-term basis to test long-term adaptation. The Asiatic subspecies is now found only in Iran in critically endangered numbers.The Asiatic cheetah whose long history on the Indian subcontinent gave the Sanskrit-derived vernacular name \"cheetah\", or \"spotted\", to the entire species,  Acinonyx jubatus, also had a gradual history of habitat loss there. In Punjab, before the thorn forests were cleared for agriculture and human settlement,  they were intermixed with open grasslands grazed by large herds of blackbuck; these co-existed with their main natural predator, the Asiatic cheetah.  The blackbuck is no longer extant in Punjab. Later, more habitat loss, prey depletion, and trophy hunting were to lead to the extinction of the Asiatic cheetah in other regions of India.\\nDiscussions on cheetah reintroduction in India began soon after extinction was confirmed, in the mid-1950s. Proposals were made to the governments of Iran from the 1970s, but fell through chiefly for reasons of political instability there. Offers from Kenya for introducing African cheetahs were made as early as the 1980s. Proposals for the introduction of African cheetahs were made by the Indian government in 2009, but disallowed by India\\'s supreme court. The court reversed its decision in early 2020, allowing the import of a small number, on an experimental basis for testing long-term adaptation. On 17 September 2022, five female and three male southeast African cheetahs, between the ages of four and six (a gift from the government of Namibia), were released in a small quarantined enclosure within the Kuno National Park in the state of Madhya Pradesh. The c', metadata={'title': 'Cheetah reintroduction in India', 'summary': 'More than 70 years after India\\'s native subspecies of the cheetah—the Asiatic cheetah (Acinonyx jubatus venaticus)—became extinct there, small numbers of Southeast African cheetah (Acinonyx jubatus jubatus) have been flown in from Namibia and South Africa to a national park in India.  The experiment has been permitted by India\\'s supreme court on a short-term basis to test long-term adaptation. The Asiatic subspecies is now found only in Iran in critically endangered numbers.The Asiatic cheetah whose long history on the Indian subcontinent gave the Sanskrit-derived vernacular name \"cheetah\", or \"spotted\", to the entire species,  Acinonyx jubatus, also had a gradual history of habitat loss there. In Punjab, before the thorn forests were cleared for agriculture and human settlement,  they were intermixed with open grasslands grazed by large herds of blackbuck; these co-existed with their main natural predator, the Asiatic cheetah.  The blackbuck is no longer extant in Punjab. Later, more habitat loss, prey depletion, and trophy hunting were to lead to the extinction of the Asiatic cheetah in other regions of India.\\nDiscussions on cheetah reintroduction in India began soon after extinction was confirmed, in the mid-1950s. Proposals were made to the governments of Iran from the 1970s, but fell through chiefly for reasons of political instability there. Offers from Kenya for introducing African cheetahs were made as early as the 1980s. Proposals for the introduction of African cheetahs were made by the Indian government in 2009, but disallowed by India\\'s supreme court. The court reversed its decision in early 2020, allowing the import of a small number, on an experimental basis for testing long-term adaptation. On 17 September 2022, five female and three male southeast African cheetahs, between the ages of four and six (a gift from the government of Namibia), were released in a small quarantined enclosure within the Kuno National Park in the state of Madhya Pradesh. The cheetahs, all fitted with radio collars, will remain in the quarantined enclosure for a month; initially, the males (and later the females) will be released into the 748.76 km2 (289.10 sq mi) park. The relocation has been supervised by Yadvendradev V. Jhala of the Wildlife Institute of India and zoologist Laurie Marker, of the Namibia-based Cheetah Conservation Fund. Subsequently, 12 cheetahs from South Africa will be released in Kuno;   eventually, the total number of African cheetahs in Kuno will be brought up to 40 individuals.  As of Jan 16, 2024, seven adult cheetahs from Africa and three cubs (of four born in Kuno two months earlier) had died in Kuno National Park.\\nThe scientific reaction to the translocation has been mixed. Adrian Tordiffe (a wildlife veterinary pharmacologist at the University of Pretoria who will be supervising the release of the cheetahs) is an enthusiast,  who views India as providing \"protected space\" for the fragmented and threatened population of the world\\'s cheetahs.  K. Ullas Karanth, one of India\\'s tiger experts, has been critical of the effort, considering it to be a \"PR exercise.\" India\\'s \"realities\", he says, such as human overpopulation, and the presence of larger feline predators and packs of feral dogs, could all cause potentially \"high mortalities,\" and require a continual import of African cheetahs. Kuno National Park is a relatively new national park, having received that status in 2018. It had been founded previously as a wildlife sanctuary to implement the Asiatic Lion Reintroduction Project, which aimed to establish a second Asiatic lion population in India. The goal was to protect the isolated lions of the Gir National Park (in Gujarat) from a potential mass mortality event, set off by the outbreak of an epizootic. Although the state government of Gujarat was ordered by India\\'s Supreme Court in April 2013 to transfer a small population of lions from Gujarat to Kuno, and was given six months to complete the transfer, they ultimately  resisted implementing the order.\\n\\n', 'source': 'https://en.wikipedia.org/wiki/Cheetah_reintroduction_in_India'}),\n",
       "  Document(page_content='The Southeast African cheetah (Acinonyx jubatus jubatus) is the nominate cheetah subspecies native to East and Southern Africa. The Southern African cheetah lives mainly in the lowland areas and deserts of the Kalahari, the savannahs of Okavango Delta, and the grasslands of the Transvaal region in South Africa. In Namibia, cheetahs are mostly found in farmlands. In India, four cheetahs of the subspecies are living in Kuno National Park in Madhya Pradesh after having been introduced there.\\n\\n\\n== Taxonomy ==\\nThe Southern African cheetah was first described by German naturalist Johann Christian Daniel von Schreber in his book Die Säugethiere in Abbildungen nach der Natur mit Beschreibungen (The Mammals illustrated as in Nature with Descriptions), published in 1775. Schreber described the species on basis of a specimen from the Cape of Good Hope. It is therefore the nominate subspecies. Subpopulations have been called \"South African cheetah\" and \"Namibian cheetah.\"Following Schreber\\'s description, other naturalists and zoologists also described cheetah specimens from many parts of Southern and East Africa that today are all considered synonyms of A. j. jubatus:\\nFelis guttata proposed in 1804 by Johann Hermann;\\nFelis fearonii proposed in 1834 by Andrew Smith;\\nFelis lanea proposed in 1877 by Philip Sclater;\\nAcinonyx jubatus obergi proposed in 1913 by Max Hilzheimer;\\nAcinonyx jubatus ngorongorensis proposed in 1913 by Hilzheimer on basis of a specimen from Ngorongoro, German East Africa;\\nAcinonyx jubatus velox proposed in 1913 by Edmund Heller on basis of a cheetah that was shot by Kermit Roosevelt in June 1909 in the Kenyan highlands.\\nAcinonyx rex proposed in 1927 by Reginald Innes Pocock on basis of a specimen from the Umvukwe Range in Rhodesia.In 2005, the authors of Mammal Species of the World grouped A. j. guttata, A. j. lanea, A. j. obergi, and A. j. rex under A j. jubatus, whilst recognizing A. j. raineyi and A. j. velox as valid taxa and considering P. l. ngorongore', metadata={'title': 'Southeast African cheetah', 'summary': 'The Southeast African cheetah (Acinonyx jubatus jubatus) is the nominate cheetah subspecies native to East and Southern Africa. The Southern African cheetah lives mainly in the lowland areas and deserts of the Kalahari, the savannahs of Okavango Delta, and the grasslands of the Transvaal region in South Africa. In Namibia, cheetahs are mostly found in farmlands. In India, four cheetahs of the subspecies are living in Kuno National Park in Madhya Pradesh after having been introduced there.', 'source': 'https://en.wikipedia.org/wiki/Southeast_African_cheetah'}),\n",
       "  Document(page_content='Footspeed, or sprint speed, is the maximum speed at which a human can run. It is affected by many factors, varies greatly throughout the population, and is important in athletics and many sports, such as association football, rugby football, American football,  track and field, field hockey, tennis, baseball, and basketball.\\n\\n\\n== Factors in speed ==\\nThe key determinant of footspeed in sprinting is the predominance of one distinct type of muscle fibre over another, specifically the ratio of fast-twitch muscles to slow-twitch muscles in a sprinter\\'s physical makeup.  Though fast-twitch muscles produce no more energy than slow-twitch muscles when they contract, they do so more rapidly through a process of anaerobic metabolism, though at the cost of inferior efficiency over longer periods of firing.  The average human has an almost-equal ratio of fast-twitch to slow-twitch fibers, but top sprinters may have as much as 80% fast-twitch fibers, while top long-distance runners may have only 20%. This ratio is believed to have genetic origins, though some assert that it can be adjusted by muscle training.  \"Speed camps\" and \"Speed Training Manuals\", which purport to provide fractional increases in maximum footspeed, are popular among budding professional athletes, and some sources estimate that 17–19% of speed can be trained.Though good running form is useful in increasing speed, fast and slow runners have been shown to move their legs at nearly the same rate – it is the force exerted by the leg on the ground that separates fast sprinters from slow.  Top short-distance runners exert as much as four times their body weight in pressure on the running surface. For this reason, muscle mass in the legs, relative to total body weight, is a key factor in maximizing footspeed.\\n\\n\\n== Limits of speed ==\\nThe record is 44.72 km/h (27.78 mph), measured between meter 60 and meter 80 of the 100 meters sprint at the 2009 World Championships in Athletics by Usain Bolt. (Bolt\\'s average speed o', metadata={'title': 'Footspeed', 'summary': 'Footspeed, or sprint speed, is the maximum speed at which a human can run. It is affected by many factors, varies greatly throughout the population, and is important in athletics and many sports, such as association football, rugby football, American football,  track and field, field hockey, tennis, baseball, and basketball.\\n\\n', 'source': 'https://en.wikipedia.org/wiki/Footspeed'}),\n",
       "  Document(page_content=\"Cheetah Mobile Inc (猎豹移动公司) is a Chinese mobile internet company headquartered in Beijing. As of January 2017, it has more than 634 million monthly active users.\\n\\n\\n== History ==\\n\\n\\n=== Formation ===\\nChen Rui (zh:陳睿 current CEO of Bilibili) founded Cheetah Mobile. The company was established in 2010 as a merger of Kingsoft Security (Chen served as General Manager) and Conew Image, and grew to be the second-largest internet security software provider in China, according to iResearch.  The company is located at 1st Yaojiayuan South Rd, Chaoyang District, Beijing, China.\\n\\n\\n=== Initial public offering ===\\nIn 2014, Cheetah Mobile launched an IPO selling 13 million American depositary shares at US$14 per share, and thereby raised US$168 million. The IPO was managed by Morgan Stanley, JP Morgan Chase & Co., and Credit Suisse Group. Kingsoft and Tencent are major investors in Cheetah Mobile, holding 54% and 18% respectively.\\n\\n\\n=== Post IPO ===\\nIn the late 2015, Cheetah Mobile announced that it had entered into a global strategic partnership with Yahoo. The company incorporated Yahoo's search and native advertising platforms within its own apps. As a result of this, Cheetah Mobile stated that its revenue generated from Yahoo increased by 30 percent daily within the first two weeks.In February 2016, Cheetah Mobile and Cubot launched the CheetahPhone, an Android 6.0 Marshmallow based smartphone, at MWC in Barcelona, Spain.\\n\\n\\n=== Acquisition ===\\nOn April 1, 2015 Cheetah Mobile successfully acquired acquisition of French mobile advertising firm MobPartner, Values at $58 Million. On August 2, 2016, Cheetah Mobile announced its acquisition of a French startup News Republic for $57 million. News Republic is a news aggregator.\\n\\n\\n=== Ad fraud accusation ===\\nIn March 2020, Cheetah Mobile was banned from Google Play due to their scheme of ad fraud, resulting in all of their games being removed as part of a 600 app deletion.\\n\\n\\n=== Insider trading charges ===\\nIn September 2022, the U.S. Se\", metadata={'title': 'Cheetah Mobile', 'summary': 'Cheetah Mobile Inc (猎豹移动公司) is a Chinese mobile internet company headquartered in Beijing. As of January 2017, it has more than 634 million monthly active users.', 'source': 'https://en.wikipedia.org/wiki/Cheetah_Mobile'}),\n",
       "  Document(page_content=\"This is a list of the fastest animals in the world, by types of animal.\\n\\n\\n== Fastest organism ==\\nThe peregrine falcon is the fastest bird, and the fastest member of the animal kingdom, with a diving speed of over 300 km/h (190 mph). The fastest land animal is the cheetah. Among the fastest animals in the sea is the black marlin, with uncertain and conflicting reports of recorded speeds.When drawing comparisons between different classes of animals, an alternative unit is sometimes used for organisms: body length per second. On this basis the 'fastest' organism on earth, relative to its body length, is the Southern Californian mite, Paratarsotomus macropalpis, which has a speed of 322 body lengths per second. The equivalent speed for a human, running as fast as this mite, would be 1,300 mph (2,092 km/h), or approximately Mach 1.7. The speed of the P. macropalpis is far in excess of the previous record holder, the Australian tiger beetle Cicindela eburneola, which is the fastest insect in the world relative to body size, with a recorded speed of 1.86 metres per second (6.7 km/h; 4.2 mph), or 171 body lengths per second. The cheetah, the fastest land mammal, scores at only 16 body lengths per second, while Anna's hummingbird has the highest known length-specific velocity attained by any vertebrate.\\n\\n\\n== Invertebrates ==\\n\\n\\n== Fish ==\\nDue to physical constraints, fish may be incapable of exceeding swim speeds of 36 km/h (22 mph). The larger reported figures below are therefore highly questionable:\\n\\n\\n== Amphibians ==\\n\\n\\n== Reptiles ==\\n\\n\\n== Birds ==\\n\\n\\n== Mammals ==\\n\\n\\n== See also ==\\nSpeed records\\n\\n\\n== Notes ==\\n\\n\\n== References ==\", metadata={'title': 'Fastest animals', 'summary': 'This is a list of the fastest animals in the world, by types of animal.', 'source': 'https://en.wikipedia.org/wiki/Fastest_animals'})]}"
      ]
     },
     "execution_count": 6,
     "metadata": {},
     "output_type": "execute_result"
    }
   ],
   "source": [
    "chain.invoke(\"How fast are cheetahs?\")\n",
    "\n"
   ]
  },
  {
   "cell_type": "code",
   "execution_count": 9,
   "metadata": {},
   "outputs": [],
   "source": [
    "# 引用文档\n",
    "from langchain_core.pydantic_v1 import BaseModel, Field\n",
    "\n",
    "\n",
    "class cited_answer(BaseModel):\n",
    "    \"\"\"Answer the user question based only on the given sources, and cite the sources used.\"\"\"\n",
    "\n",
    "    answer: str = Field(\n",
    "        ...,\n",
    "        description=\"The answer to the user question, which is based only on the given sources.\",\n",
    "    )\n",
    "    citations: List[int] = Field(\n",
    "        ...,\n",
    "        description=\"The integer IDs of the SPECIFIC sources which justify the answer.\",\n",
    "    )"
   ]
  },
  {
   "cell_type": "code",
   "execution_count": 11,
   "metadata": {},
   "outputs": [
    {
     "data": {
      "text/plain": [
       "AIMessage(content='', additional_kwargs={'tool_calls': [{'id': 'call_vVHRCIwnfvBYZ3WFAB5qeMyO', 'function': {'arguments': '{\"answer\":\"Brian is 6\\' - 3\\\\\" tall.\",\"citations\":[1,3]}', 'name': 'cited_answer'}, 'type': 'function'}]}, response_metadata={'finish_reason': 'stop', 'logprobs': None})"
      ]
     },
     "execution_count": 11,
     "metadata": {},
     "output_type": "execute_result"
    }
   ],
   "source": [
    "llm_with_tool = llm.bind_tools(\n",
    "    [cited_answer],\n",
    "    tool_choice=\"cited_answer\",\n",
    ")\n",
    "example_q = \"\"\"What Brian's height?\n",
    "\n",
    "Source: 1\n",
    "Information: Suzy is 6'2\"\n",
    "\n",
    "Source: 2\n",
    "Information: Jeremiah is blonde\n",
    "\n",
    "Source: 3\n",
    "Information: Brian is 3 inches shorted than Suzy\"\"\"\n",
    "llm_with_tool.invoke(example_q)\n"
   ]
  },
  {
   "cell_type": "code",
   "execution_count": 12,
   "metadata": {},
   "outputs": [
    {
     "data": {
      "text/plain": [
       "[{'answer': 'Brian is 6\\' - 3\" tall.', 'citations': [1, 3]}]"
      ]
     },
     "execution_count": 12,
     "metadata": {},
     "output_type": "execute_result"
    }
   ],
   "source": [
    "from langchain.output_parsers.openai_tools import JsonOutputKeyToolsParser\n",
    "\n",
    "output_parser = JsonOutputKeyToolsParser(key_name=\"cited_answer\", return_single=True)\n",
    "(llm_with_tool | output_parser).invoke(example_q)\n",
    "\n"
   ]
  },
  {
   "cell_type": "code",
   "execution_count": 13,
   "metadata": {},
   "outputs": [],
   "source": [
    "def format_docs_with_id(docs: List[Document]) -> str:\n",
    "    formatted = [\n",
    "        f\"Source ID: {i}\\nArticle Title: {doc.metadata['title']}\\nArticle Snippet: {doc.page_content}\"\n",
    "        for i, doc in enumerate(docs)\n",
    "    ]\n",
    "    return \"\\n\\n\" + \"\\n\\n\".join(formatted)\n",
    "\n",
    "\n",
    "format_1 = itemgetter(\"docs\") | RunnableLambda(format_docs_with_id)\n",
    "answer_1 = prompt | llm_with_tool | output_parser\n",
    "chain_1 = (\n",
    "    RunnableParallel(question=RunnablePassthrough(), docs=wiki)\n",
    "    .assign(context=format_1)\n",
    "    .assign(cited_answer=answer_1)\n",
    "    .pick([\"cited_answer\", \"docs\"])\n",
    ")"
   ]
  },
  {
   "cell_type": "code",
   "execution_count": 14,
   "metadata": {},
   "outputs": [
    {
     "data": {
      "text/plain": [
       "{'cited_answer': [{'answer': 'Cheetahs can run at speeds of 93 to 104 km/h (58 to 65 mph).',\n",
       "   'citations': [0]}],\n",
       " 'docs': [Document(page_content='The cheetah (Acinonyx jubatus) is a large cat and the fastest land animal. It has a tawny to creamy white or pale buff fur that is marked with evenly spaced, solid black spots. The head is small and rounded, with a short snout and black tear-like facial streaks. It reaches 67–94 cm (26–37 in) at the shoulder, and the head-and-body length is between 1.1 and 1.5 m (3 ft 7 in and 4 ft 11 in). Adults weigh between 21 and 72 kg (46 and 159 lb). The cheetah is capable of running at 93 to 104 km/h (58 to 65 mph); it has evolved specialized adaptations for speed, including a light build, long thin legs and a long tail.\\nThe cheetah was first described in the late 18th century. Four subspecies are recognised today that are native to Africa and central Iran. An African subspecies was introduced to India in 2022. It is now distributed mainly in small, fragmented populations in northwestern, eastern and southern Africa and central Iran. It lives in a variety of habitats such as savannahs in the Serengeti, arid mountain ranges in the Sahara, and hilly desert terrain.\\nThe cheetah lives in three main social groups: females and their cubs, male \"coalitions\", and solitary males. While females lead a nomadic life searching for prey in large home ranges, males are more sedentary and instead establish much smaller territories in areas with plentiful prey and access to females. The cheetah is active during the day, with peaks during dawn and dusk. It feeds on small- to medium-sized prey, mostly weighing under 40 kg (88 lb), and prefers medium-sized ungulates such as impala, springbok and Thomson\\'s gazelles. The cheetah typically stalks its prey within 60–100 m (200–330 ft) before charging towards it, trips it during the chase and bites its throat to suffocate it to death. It breeds throughout the year. After a gestation of nearly three months, females give birth to a litter of three or four cubs. Cheetah cubs are highly vulnerable to predation by other large carnivores. They are weaned a', metadata={'title': 'Cheetah', 'summary': 'The cheetah (Acinonyx jubatus) is a large cat and the fastest land animal. It has a tawny to creamy white or pale buff fur that is marked with evenly spaced, solid black spots. The head is small and rounded, with a short snout and black tear-like facial streaks. It reaches 67–94 cm (26–37 in) at the shoulder, and the head-and-body length is between 1.1 and 1.5 m (3 ft 7 in and 4 ft 11 in). Adults weigh between 21 and 72 kg (46 and 159 lb). The cheetah is capable of running at 93 to 104 km/h (58 to 65 mph); it has evolved specialized adaptations for speed, including a light build, long thin legs and a long tail.\\nThe cheetah was first described in the late 18th century. Four subspecies are recognised today that are native to Africa and central Iran. An African subspecies was introduced to India in 2022. It is now distributed mainly in small, fragmented populations in northwestern, eastern and southern Africa and central Iran. It lives in a variety of habitats such as savannahs in the Serengeti, arid mountain ranges in the Sahara, and hilly desert terrain.\\nThe cheetah lives in three main social groups: females and their cubs, male \"coalitions\", and solitary males. While females lead a nomadic life searching for prey in large home ranges, males are more sedentary and instead establish much smaller territories in areas with plentiful prey and access to females. The cheetah is active during the day, with peaks during dawn and dusk. It feeds on small- to medium-sized prey, mostly weighing under 40 kg (88 lb), and prefers medium-sized ungulates such as impala, springbok and Thomson\\'s gazelles. The cheetah typically stalks its prey within 60–100 m (200–330 ft) before charging towards it, trips it during the chase and bites its throat to suffocate it to death. It breeds throughout the year. After a gestation of nearly three months, females give birth to a litter of three or four cubs. Cheetah cubs are highly vulnerable to predation by other large carnivores. They are weaned at around four months and are independent by around 20 months of age.\\nThe cheetah is threatened by habitat loss, conflict with humans, poaching and high susceptibility to diseases. In 2016, the global cheetah population was estimated at 7,100 individuals in the wild; it is listed as Vulnerable on the IUCN Red List. It has been widely depicted in art, literature, advertising, and animation. It was tamed in ancient Egypt and trained for hunting ungulates in the Arabian Peninsula and India. It has been kept in zoos since the early 19th century.', 'source': 'https://en.wikipedia.org/wiki/Cheetah'}),\n",
       "  Document(page_content='More than 70 years after India\\'s native subspecies of the cheetah—the Asiatic cheetah (Acinonyx jubatus venaticus)—became extinct there, small numbers of Southeast African cheetah (Acinonyx jubatus jubatus) have been flown in from Namibia and South Africa to a national park in India.  The experiment has been permitted by India\\'s supreme court on a short-term basis to test long-term adaptation. The Asiatic subspecies is now found only in Iran in critically endangered numbers.The Asiatic cheetah whose long history on the Indian subcontinent gave the Sanskrit-derived vernacular name \"cheetah\", or \"spotted\", to the entire species,  Acinonyx jubatus, also had a gradual history of habitat loss there. In Punjab, before the thorn forests were cleared for agriculture and human settlement,  they were intermixed with open grasslands grazed by large herds of blackbuck; these co-existed with their main natural predator, the Asiatic cheetah.  The blackbuck is no longer extant in Punjab. Later, more habitat loss, prey depletion, and trophy hunting were to lead to the extinction of the Asiatic cheetah in other regions of India.\\nDiscussions on cheetah reintroduction in India began soon after extinction was confirmed, in the mid-1950s. Proposals were made to the governments of Iran from the 1970s, but fell through chiefly for reasons of political instability there. Offers from Kenya for introducing African cheetahs were made as early as the 1980s. Proposals for the introduction of African cheetahs were made by the Indian government in 2009, but disallowed by India\\'s supreme court. The court reversed its decision in early 2020, allowing the import of a small number, on an experimental basis for testing long-term adaptation. On 17 September 2022, five female and three male southeast African cheetahs, between the ages of four and six (a gift from the government of Namibia), were released in a small quarantined enclosure within the Kuno National Park in the state of Madhya Pradesh. The c', metadata={'title': 'Cheetah reintroduction in India', 'summary': 'More than 70 years after India\\'s native subspecies of the cheetah—the Asiatic cheetah (Acinonyx jubatus venaticus)—became extinct there, small numbers of Southeast African cheetah (Acinonyx jubatus jubatus) have been flown in from Namibia and South Africa to a national park in India.  The experiment has been permitted by India\\'s supreme court on a short-term basis to test long-term adaptation. The Asiatic subspecies is now found only in Iran in critically endangered numbers.The Asiatic cheetah whose long history on the Indian subcontinent gave the Sanskrit-derived vernacular name \"cheetah\", or \"spotted\", to the entire species,  Acinonyx jubatus, also had a gradual history of habitat loss there. In Punjab, before the thorn forests were cleared for agriculture and human settlement,  they were intermixed with open grasslands grazed by large herds of blackbuck; these co-existed with their main natural predator, the Asiatic cheetah.  The blackbuck is no longer extant in Punjab. Later, more habitat loss, prey depletion, and trophy hunting were to lead to the extinction of the Asiatic cheetah in other regions of India.\\nDiscussions on cheetah reintroduction in India began soon after extinction was confirmed, in the mid-1950s. Proposals were made to the governments of Iran from the 1970s, but fell through chiefly for reasons of political instability there. Offers from Kenya for introducing African cheetahs were made as early as the 1980s. Proposals for the introduction of African cheetahs were made by the Indian government in 2009, but disallowed by India\\'s supreme court. The court reversed its decision in early 2020, allowing the import of a small number, on an experimental basis for testing long-term adaptation. On 17 September 2022, five female and three male southeast African cheetahs, between the ages of four and six (a gift from the government of Namibia), were released in a small quarantined enclosure within the Kuno National Park in the state of Madhya Pradesh. The cheetahs, all fitted with radio collars, will remain in the quarantined enclosure for a month; initially, the males (and later the females) will be released into the 748.76 km2 (289.10 sq mi) park. The relocation has been supervised by Yadvendradev V. Jhala of the Wildlife Institute of India and zoologist Laurie Marker, of the Namibia-based Cheetah Conservation Fund. Subsequently, 12 cheetahs from South Africa will be released in Kuno;   eventually, the total number of African cheetahs in Kuno will be brought up to 40 individuals.  As of Jan 16, 2024, seven adult cheetahs from Africa and three cubs (of four born in Kuno two months earlier) had died in Kuno National Park.\\nThe scientific reaction to the translocation has been mixed. Adrian Tordiffe (a wildlife veterinary pharmacologist at the University of Pretoria who will be supervising the release of the cheetahs) is an enthusiast,  who views India as providing \"protected space\" for the fragmented and threatened population of the world\\'s cheetahs.  K. Ullas Karanth, one of India\\'s tiger experts, has been critical of the effort, considering it to be a \"PR exercise.\" India\\'s \"realities\", he says, such as human overpopulation, and the presence of larger feline predators and packs of feral dogs, could all cause potentially \"high mortalities,\" and require a continual import of African cheetahs. Kuno National Park is a relatively new national park, having received that status in 2018. It had been founded previously as a wildlife sanctuary to implement the Asiatic Lion Reintroduction Project, which aimed to establish a second Asiatic lion population in India. The goal was to protect the isolated lions of the Gir National Park (in Gujarat) from a potential mass mortality event, set off by the outbreak of an epizootic. Although the state government of Gujarat was ordered by India\\'s Supreme Court in April 2013 to transfer a small population of lions from Gujarat to Kuno, and was given six months to complete the transfer, they ultimately  resisted implementing the order.\\n\\n', 'source': 'https://en.wikipedia.org/wiki/Cheetah_reintroduction_in_India'}),\n",
       "  Document(page_content='The Southeast African cheetah (Acinonyx jubatus jubatus) is the nominate cheetah subspecies native to East and Southern Africa. The Southern African cheetah lives mainly in the lowland areas and deserts of the Kalahari, the savannahs of Okavango Delta, and the grasslands of the Transvaal region in South Africa. In Namibia, cheetahs are mostly found in farmlands. In India, four cheetahs of the subspecies are living in Kuno National Park in Madhya Pradesh after having been introduced there.\\n\\n\\n== Taxonomy ==\\nThe Southern African cheetah was first described by German naturalist Johann Christian Daniel von Schreber in his book Die Säugethiere in Abbildungen nach der Natur mit Beschreibungen (The Mammals illustrated as in Nature with Descriptions), published in 1775. Schreber described the species on basis of a specimen from the Cape of Good Hope. It is therefore the nominate subspecies. Subpopulations have been called \"South African cheetah\" and \"Namibian cheetah.\"Following Schreber\\'s description, other naturalists and zoologists also described cheetah specimens from many parts of Southern and East Africa that today are all considered synonyms of A. j. jubatus:\\nFelis guttata proposed in 1804 by Johann Hermann;\\nFelis fearonii proposed in 1834 by Andrew Smith;\\nFelis lanea proposed in 1877 by Philip Sclater;\\nAcinonyx jubatus obergi proposed in 1913 by Max Hilzheimer;\\nAcinonyx jubatus ngorongorensis proposed in 1913 by Hilzheimer on basis of a specimen from Ngorongoro, German East Africa;\\nAcinonyx jubatus velox proposed in 1913 by Edmund Heller on basis of a cheetah that was shot by Kermit Roosevelt in June 1909 in the Kenyan highlands.\\nAcinonyx rex proposed in 1927 by Reginald Innes Pocock on basis of a specimen from the Umvukwe Range in Rhodesia.In 2005, the authors of Mammal Species of the World grouped A. j. guttata, A. j. lanea, A. j. obergi, and A. j. rex under A j. jubatus, whilst recognizing A. j. raineyi and A. j. velox as valid taxa and considering P. l. ngorongore', metadata={'title': 'Southeast African cheetah', 'summary': 'The Southeast African cheetah (Acinonyx jubatus jubatus) is the nominate cheetah subspecies native to East and Southern Africa. The Southern African cheetah lives mainly in the lowland areas and deserts of the Kalahari, the savannahs of Okavango Delta, and the grasslands of the Transvaal region in South Africa. In Namibia, cheetahs are mostly found in farmlands. In India, four cheetahs of the subspecies are living in Kuno National Park in Madhya Pradesh after having been introduced there.', 'source': 'https://en.wikipedia.org/wiki/Southeast_African_cheetah'}),\n",
       "  Document(page_content='Footspeed, or sprint speed, is the maximum speed at which a human can run. It is affected by many factors, varies greatly throughout the population, and is important in athletics and many sports, such as association football, rugby football, American football,  track and field, field hockey, tennis, baseball, and basketball.\\n\\n\\n== Factors in speed ==\\nThe key determinant of footspeed in sprinting is the predominance of one distinct type of muscle fibre over another, specifically the ratio of fast-twitch muscles to slow-twitch muscles in a sprinter\\'s physical makeup.  Though fast-twitch muscles produce no more energy than slow-twitch muscles when they contract, they do so more rapidly through a process of anaerobic metabolism, though at the cost of inferior efficiency over longer periods of firing.  The average human has an almost-equal ratio of fast-twitch to slow-twitch fibers, but top sprinters may have as much as 80% fast-twitch fibers, while top long-distance runners may have only 20%. This ratio is believed to have genetic origins, though some assert that it can be adjusted by muscle training.  \"Speed camps\" and \"Speed Training Manuals\", which purport to provide fractional increases in maximum footspeed, are popular among budding professional athletes, and some sources estimate that 17–19% of speed can be trained.Though good running form is useful in increasing speed, fast and slow runners have been shown to move their legs at nearly the same rate – it is the force exerted by the leg on the ground that separates fast sprinters from slow.  Top short-distance runners exert as much as four times their body weight in pressure on the running surface. For this reason, muscle mass in the legs, relative to total body weight, is a key factor in maximizing footspeed.\\n\\n\\n== Limits of speed ==\\nThe record is 44.72 km/h (27.78 mph), measured between meter 60 and meter 80 of the 100 meters sprint at the 2009 World Championships in Athletics by Usain Bolt. (Bolt\\'s average speed o', metadata={'title': 'Footspeed', 'summary': 'Footspeed, or sprint speed, is the maximum speed at which a human can run. It is affected by many factors, varies greatly throughout the population, and is important in athletics and many sports, such as association football, rugby football, American football,  track and field, field hockey, tennis, baseball, and basketball.\\n\\n', 'source': 'https://en.wikipedia.org/wiki/Footspeed'}),\n",
       "  Document(page_content=\"Cheetah Mobile Inc (猎豹移动公司) is a Chinese mobile internet company headquartered in Beijing. As of January 2017, it has more than 634 million monthly active users.\\n\\n\\n== History ==\\n\\n\\n=== Formation ===\\nChen Rui (zh:陳睿 current CEO of Bilibili) founded Cheetah Mobile. The company was established in 2010 as a merger of Kingsoft Security (Chen served as General Manager) and Conew Image, and grew to be the second-largest internet security software provider in China, according to iResearch.  The company is located at 1st Yaojiayuan South Rd, Chaoyang District, Beijing, China.\\n\\n\\n=== Initial public offering ===\\nIn 2014, Cheetah Mobile launched an IPO selling 13 million American depositary shares at US$14 per share, and thereby raised US$168 million. The IPO was managed by Morgan Stanley, JP Morgan Chase & Co., and Credit Suisse Group. Kingsoft and Tencent are major investors in Cheetah Mobile, holding 54% and 18% respectively.\\n\\n\\n=== Post IPO ===\\nIn the late 2015, Cheetah Mobile announced that it had entered into a global strategic partnership with Yahoo. The company incorporated Yahoo's search and native advertising platforms within its own apps. As a result of this, Cheetah Mobile stated that its revenue generated from Yahoo increased by 30 percent daily within the first two weeks.In February 2016, Cheetah Mobile and Cubot launched the CheetahPhone, an Android 6.0 Marshmallow based smartphone, at MWC in Barcelona, Spain.\\n\\n\\n=== Acquisition ===\\nOn April 1, 2015 Cheetah Mobile successfully acquired acquisition of French mobile advertising firm MobPartner, Values at $58 Million. On August 2, 2016, Cheetah Mobile announced its acquisition of a French startup News Republic for $57 million. News Republic is a news aggregator.\\n\\n\\n=== Ad fraud accusation ===\\nIn March 2020, Cheetah Mobile was banned from Google Play due to their scheme of ad fraud, resulting in all of their games being removed as part of a 600 app deletion.\\n\\n\\n=== Insider trading charges ===\\nIn September 2022, the U.S. Se\", metadata={'title': 'Cheetah Mobile', 'summary': 'Cheetah Mobile Inc (猎豹移动公司) is a Chinese mobile internet company headquartered in Beijing. As of January 2017, it has more than 634 million monthly active users.', 'source': 'https://en.wikipedia.org/wiki/Cheetah_Mobile'}),\n",
       "  Document(page_content=\"This is a list of the fastest animals in the world, by types of animal.\\n\\n\\n== Fastest organism ==\\nThe peregrine falcon is the fastest bird, and the fastest member of the animal kingdom, with a diving speed of over 300 km/h (190 mph). The fastest land animal is the cheetah. Among the fastest animals in the sea is the black marlin, with uncertain and conflicting reports of recorded speeds.When drawing comparisons between different classes of animals, an alternative unit is sometimes used for organisms: body length per second. On this basis the 'fastest' organism on earth, relative to its body length, is the Southern Californian mite, Paratarsotomus macropalpis, which has a speed of 322 body lengths per second. The equivalent speed for a human, running as fast as this mite, would be 1,300 mph (2,092 km/h), or approximately Mach 1.7. The speed of the P. macropalpis is far in excess of the previous record holder, the Australian tiger beetle Cicindela eburneola, which is the fastest insect in the world relative to body size, with a recorded speed of 1.86 metres per second (6.7 km/h; 4.2 mph), or 171 body lengths per second. The cheetah, the fastest land mammal, scores at only 16 body lengths per second, while Anna's hummingbird has the highest known length-specific velocity attained by any vertebrate.\\n\\n\\n== Invertebrates ==\\n\\n\\n== Fish ==\\nDue to physical constraints, fish may be incapable of exceeding swim speeds of 36 km/h (22 mph). The larger reported figures below are therefore highly questionable:\\n\\n\\n== Amphibians ==\\n\\n\\n== Reptiles ==\\n\\n\\n== Birds ==\\n\\n\\n== Mammals ==\\n\\n\\n== See also ==\\nSpeed records\\n\\n\\n== Notes ==\\n\\n\\n== References ==\", metadata={'title': 'Fastest animals', 'summary': 'This is a list of the fastest animals in the world, by types of animal.', 'source': 'https://en.wikipedia.org/wiki/Fastest_animals'})]}"
      ]
     },
     "execution_count": 14,
     "metadata": {},
     "output_type": "execute_result"
    }
   ],
   "source": [
    "chain_1.invoke(\"How fast are cheetahs?\")\n",
    "\n"
   ]
  },
  {
   "cell_type": "code",
   "execution_count": null,
   "metadata": {},
   "outputs": [],
   "source": []
  },
  {
   "cell_type": "code",
   "execution_count": null,
   "metadata": {},
   "outputs": [],
   "source": []
  },
  {
   "cell_type": "code",
   "execution_count": null,
   "metadata": {},
   "outputs": [],
   "source": []
  },
  {
   "cell_type": "code",
   "execution_count": null,
   "metadata": {},
   "outputs": [],
   "source": []
  }
 ],
 "metadata": {
  "kernelspec": {
   "display_name": "py311",
   "language": "python",
   "name": "python3"
  },
  "language_info": {
   "codemirror_mode": {
    "name": "ipython",
    "version": 3
   },
   "file_extension": ".py",
   "mimetype": "text/x-python",
   "name": "python",
   "nbconvert_exporter": "python",
   "pygments_lexer": "ipython3",
   "version": "3.11.5"
  }
 },
 "nbformat": 4,
 "nbformat_minor": 2
}
