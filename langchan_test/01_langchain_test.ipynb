{
 "cells": [
  {
   "cell_type": "code",
   "execution_count": 1,
   "metadata": {},
   "outputs": [],
   "source": [
    "import os \n",
    "from apikey import apikey \n",
    "\n",
    "\n",
    "os.environ['OPENAI_API_KEY'] = apikey"
   ]
  },
  {
   "cell_type": "code",
   "execution_count": 2,
   "metadata": {},
   "outputs": [
    {
     "name": "stdout",
     "output_type": "stream",
     "text": [
      "\n",
      "\n",
      "Cheerful Socks Co.\n"
     ]
    }
   ],
   "source": [
    "from langchain.llms import OpenAI\n",
    "\n",
    "llm = OpenAI(temperature=0.9)\n",
    "text = \"what would be a good company name for a company that makes colorful socks?\"\n",
    "print(llm(text))"
   ]
  },
  {
   "attachments": {},
   "cell_type": "markdown",
   "metadata": {},
   "source": [
    "## prompt template"
   ]
  },
  {
   "cell_type": "code",
   "execution_count": 5,
   "metadata": {},
   "outputs": [],
   "source": [
    "data_info = f\"\"\"\n",
    "dataset name: 行业市场变化_市场大盘分析_行业市场大盘_魔镜\n",
    "\n",
    "dataset description:\n",
    "primary keys:[月份, 类目编码]\n",
    "3540 rows\n",
    "| field | type | uniques | nan_percentage | max | min |\n",
    "| --- | --- | --- | --- | --- | --- |\n",
    "| 月份 | DateTime | 59 | 0.0 | nan | nan |\n",
    "| 平台编码 | String | 2 | 0.0 | nan | nan |\n",
    "| 一级类目 | String | 4 | 0.0 | nan | nan |\n",
    "| 二级类目 | String | 8 | 6.666666666666667 | nan | nan |\n",
    "| 三级类目 | String | 16 | 20.0 | nan | nan |\n",
    "| 四级类目 | String | 32 | 46.666666666666664 | nan | nan |\n",
    "| 类目名称 | String | 60 | 0.0 | nan | nan |\n",
    "| 类目编码 | Numeric | 60 | 0.0 | 39264.0 | 10209.0 |\n",
    "| 销售额 | Numeric | 3540 | 0.0 | 99989.30547 | 1.8873 |\n",
    "| 销量 | Numeric | 974 | 0.0 | 999.0 | 0.0 |\n",
    "| 店铺数 | Numeric | 181 | 0.0 | 200.0 | 20.0 |\n",
    "| 商品数 | Numeric | 451 | 0.0 | 500.0 | 50.0 |\n",
    "| 收藏次数 | Numeric | 1 | 0.0 | 0.0 | 0.0 |\n",
    "\"\"\""
   ]
  },
  {
   "cell_type": "code",
   "execution_count": 8,
   "metadata": {},
   "outputs": [
    {
     "data": {
      "text/plain": [
       "'\\n    Question: 目前销量最好的品类是哪个？\\n    你是一个数据分析机器人，用户会向你咨询关于数据的问题，请按照以下步骤进行处理。\\n        1. 需要判断用户的问题是否为这两类【常规数据咨询，BA看板】，对于这两个问题之外的，请礼貌的回答无法满足要求。\\n            想知道具体单一数值或简单问题的，为数据咨询；若用户想知道多个数据的占比或趋势或涉及多个数据维度之间的关系，属于BA看板。\\n        2A. 如果为数据咨询，假设dataframe的变量名为df, 写一段可运行的<python代码>，运行后可以打印出回答此问题的信息。\\n        2B. 如果为BA看板，假设dataframe的变量名为df, 写一段可运行的<python代码>，运行后可以绘制对应需求。\\n        3. 以JSON格式返回信息。Ensure the response can be parsed by Python json.loads。Json外不能有任何字符\\n        \"message\":<所有需要沟通的内容>, \"task\":<问题分类>, \"python_code\":<python code>\\n        \\n        要求：写python代码时需假设df已经读取在内存中，你不需要写读取数据的代码。\\n\\n        你掌握的数据情况如下：\\ndataset name: 行业市场变化_市场大盘分析_行业市场大盘_魔镜\\n\\ndataset description:\\nprimary keys:[月份, 类目编码]\\n3540 rows\\n| field | type | uniques | nan_percentage | max | min |\\n| --- | --- | --- | --- | --- | --- |\\n| 月份 | DateTime | 59 | 0.0 | nan | nan |\\n| 平台编码 | String | 2 | 0.0 | nan | nan |\\n| 一级类目 | String | 4 | 0.0 | nan | nan |\\n| 二级类目 | String | 8 | 6.666666666666667 | nan | nan |\\n| 三级类目 | String | 16 | 20.0 | nan | nan |\\n| 四级类目 | String | 32 | 46.666666666666664 | nan | nan |\\n| 类目名称 | String | 60 | 0.0 | nan | nan |\\n| 类目编码 | Numeric | 60 | 0.0 | 39264.0 | 10209.0 |\\n| 销售额 | Numeric | 3540 | 0.0 | 99989.30547 | 1.8873 |\\n| 销量 | Numeric | 974 | 0.0 | 999.0 | 0.0 |\\n| 店铺数 | Numeric | 181 | 0.0 | 200.0 | 20.0 |\\n| 商品数 | Numeric | 451 | 0.0 | 500.0 | 50.0 |\\n| 收藏次数 | Numeric | 1 | 0.0 | 0.0 | 0.0 |\\n\\n\\n'"
      ]
     },
     "execution_count": 8,
     "metadata": {},
     "output_type": "execute_result"
    }
   ],
   "source": [
    "from langchain import PromptTemplate\n",
    "\n",
    "template = \"\"\"\n",
    "    Question: {question}\n",
    "    你是一个数据分析机器人，用户会向你咨询关于数据的问题，请按照以下步骤进行处理。\n",
    "        1. 需要判断用户的问题是否为这两类【常规数据咨询，BA看板】，对于这两个问题之外的，请礼貌的回答无法满足要求。\n",
    "            想知道具体单一数值或简单问题的，为数据咨询；若用户想知道多个数据的占比或趋势或涉及多个数据维度之间的关系，属于BA看板。\n",
    "        2A. 如果为数据咨询，假设dataframe的变量名为df, 写一段可运行的<python代码>，运行后可以打印出回答此问题的信息。\n",
    "        2B. 如果为BA看板，假设dataframe的变量名为df, 写一段可运行的<python代码>，运行后可以绘制对应需求。\n",
    "        3. 以JSON格式返回信息。Ensure the response can be parsed by Python json.loads。Json外不能有任何字符\n",
    "        \"message\":<所有需要沟通的内容>, \"task\":<问题分类>, \"python_code\":<python code>\n",
    "        \n",
    "        要求：写python代码时需假设df已经读取在内存中，你不需要写读取数据的代码。\n",
    "\n",
    "        你掌握的数据情况如下：{data_info}\n",
    "\n",
    "\"\"\"\n",
    "\n",
    "prompt = PromptTemplate(template=template, input_variables=['question', 'data_info'])\n",
    "\n",
    "prompt.format(question = \"目前销量最好的品类是哪个？\", data_info=data_info)\n"
   ]
  },
  {
   "cell_type": "code",
   "execution_count": 12,
   "metadata": {},
   "outputs": [],
   "source": [
    "llm(prompt) # 这里就不能这么用了，可以用后面的Chain"
   ]
  },
  {
   "cell_type": "code",
   "execution_count": null,
   "metadata": {},
   "outputs": [],
   "source": []
  },
  {
   "attachments": {},
   "cell_type": "markdown",
   "metadata": {},
   "source": [
    "## Chain"
   ]
  },
  {
   "cell_type": "code",
   "execution_count": 11,
   "metadata": {},
   "outputs": [
    {
     "name": "stdout",
     "output_type": "stream",
     "text": [
      "\n",
      "回答：\n",
      "\"message\": \"以当前数据，目前销量最好的品类是X\", \"task\": \"数据咨询\", \"python_code\": \"print('以当前数据，目前销量最好的品类是{}'.format(df.loc[df.销量.idxmax(),'类目名称']))\"\n"
     ]
    }
   ],
   "source": [
    "from langchain import LLMChain\n",
    "llm_chain = LLMChain(prompt=prompt, llm=llm)\n",
    "\n",
    "question = \"目前销量最好的品类是哪个？\"\n",
    "print(llm_chain.run({'question':question, 'data_info':data_info}))\n"
   ]
  },
  {
   "attachments": {},
   "cell_type": "markdown",
   "metadata": {},
   "source": [
    "## Agents and Tools "
   ]
  },
  {
   "cell_type": "code",
   "execution_count": 17,
   "metadata": {},
   "outputs": [],
   "source": [
    "from langchain.agents import load_tools\n",
    "from langchain.agents import initialize_agent\n",
    "from langchain.agents import Tool\n",
    "\n",
    "from langchain.agents.agent_toolkits import create_python_agent\n",
    "from langchain.tools.python.tool import PythonREPLTool\n",
    "from langchain.python import PythonREPL\n",
    "from langchain.llms.openai import OpenAI"
   ]
  },
  {
   "cell_type": "code",
   "execution_count": 18,
   "metadata": {},
   "outputs": [
    {
     "name": "stdout",
     "output_type": "stream",
     "text": [
      "2\n",
      "\n"
     ]
    },
    {
     "data": {
      "text/plain": [
       "'2\\n'"
      ]
     },
     "execution_count": 18,
     "metadata": {},
     "output_type": "execute_result"
    }
   ],
   "source": [
    "\n",
    "agent_executor = create_python_agent(\n",
    "    llm=llm,\n",
    "    tool=PythonREPLTool(),\n",
    "    verbose=True\n",
    ")"
   ]
  },
  {
   "cell_type": "code",
   "execution_count": null,
   "metadata": {},
   "outputs": [],
   "source": [
    "# TODO 思考下我们需要什么Tools？"
   ]
  },
  {
   "cell_type": "code",
   "execution_count": null,
   "metadata": {},
   "outputs": [],
   "source": [
    "# 怎么把python 编译器工具加进来？"
   ]
  },
  {
   "cell_type": "code",
   "execution_count": null,
   "metadata": {},
   "outputs": [],
   "source": [
    "# You can create the tool to pass to an agent\n",
    "repl_tool = Tool(\n",
    "    name=\"python_repl\",\n",
    "    description=\"A Python shell. Use this to execute python commands. Input should be a valid python command. If you want to see the output of a value, you should print it out with `print(...)`.\",\n",
    "    func=python_repl.run\n",
    ")"
   ]
  },
  {
   "attachments": {},
   "cell_type": "markdown",
   "metadata": {},
   "source": [
    "## Memory"
   ]
  },
  {
   "attachments": {},
   "cell_type": "markdown",
   "metadata": {},
   "source": []
  },
  {
   "cell_type": "code",
   "execution_count": 20,
   "metadata": {},
   "outputs": [
    {
     "ename": "ValidationError",
     "evalue": "1 validation error for ConversationChain\n__root__\n  Got unexpected prompt input variables. The prompt expects ['question', 'data_info'], but got ['history'] as inputs from memory, and input as the normal input key. (type=value_error)",
     "output_type": "error",
     "traceback": [
      "\u001b[0;31m---------------------------------------------------------------------------\u001b[0m",
      "\u001b[0;31mValidationError\u001b[0m                           Traceback (most recent call last)",
      "Cell \u001b[0;32mIn[20], line 5\u001b[0m\n\u001b[1;32m      1\u001b[0m \u001b[39mfrom\u001b[39;00m \u001b[39mlangchain\u001b[39;00m \u001b[39mimport\u001b[39;00m OpenAI, ConversationChain\n\u001b[1;32m      3\u001b[0m \u001b[39m# llm = OpenAI(temperature=0)\u001b[39;00m\n\u001b[0;32m----> 5\u001b[0m conversation \u001b[39m=\u001b[39m ConversationChain(llm \u001b[39m=\u001b[39;49m llm,prompt\u001b[39m=\u001b[39;49mprompt, verbose\u001b[39m=\u001b[39;49m\u001b[39mTrue\u001b[39;49;00m)\n\u001b[1;32m      7\u001b[0m conversation\u001b[39m.\u001b[39mpredict(\u001b[39minput\u001b[39m\u001b[39m=\u001b[39m{\u001b[39m'\u001b[39m\u001b[39mquestion\u001b[39m\u001b[39m'\u001b[39m:question, \u001b[39m'\u001b[39m\u001b[39mdata_info\u001b[39m\u001b[39m'\u001b[39m:data_info})\n",
      "File \u001b[0;32m~/opt/anaconda3/envs/langchain/lib/python3.10/site-packages/pydantic/main.py:342\u001b[0m, in \u001b[0;36mpydantic.main.BaseModel.__init__\u001b[0;34m()\u001b[0m\n",
      "\u001b[0;31mValidationError\u001b[0m: 1 validation error for ConversationChain\n__root__\n  Got unexpected prompt input variables. The prompt expects ['question', 'data_info'], but got ['history'] as inputs from memory, and input as the normal input key. (type=value_error)"
     ]
    }
   ],
   "source": [
    "from langchain import OpenAI, ConversationChain\n",
    "\n",
    "# llm = OpenAI(temperature=0)\n",
    "\n",
    "conversation = ConversationChain(llm = llm,prompt=prompt, verbose=True)\n",
    "\n",
    "conversation.predict(input={'question':question, 'data_info':data_info})\n",
    "\n"
   ]
  },
  {
   "cell_type": "code",
   "execution_count": null,
   "metadata": {},
   "outputs": [],
   "source": []
  },
  {
   "cell_type": "code",
   "execution_count": null,
   "metadata": {},
   "outputs": [],
   "source": []
  },
  {
   "cell_type": "code",
   "execution_count": null,
   "metadata": {},
   "outputs": [],
   "source": []
  },
  {
   "cell_type": "code",
   "execution_count": null,
   "metadata": {},
   "outputs": [],
   "source": []
  },
  {
   "cell_type": "code",
   "execution_count": null,
   "metadata": {},
   "outputs": [],
   "source": []
  }
 ],
 "metadata": {
  "kernelspec": {
   "display_name": "langchain",
   "language": "python",
   "name": "python3"
  },
  "language_info": {
   "codemirror_mode": {
    "name": "ipython",
    "version": 3
   },
   "file_extension": ".py",
   "mimetype": "text/x-python",
   "name": "python",
   "nbconvert_exporter": "python",
   "pygments_lexer": "ipython3",
   "version": "3.10.11"
  },
  "orig_nbformat": 4
 },
 "nbformat": 4,
 "nbformat_minor": 2
}
