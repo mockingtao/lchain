{
 "cells": [
  {
   "attachments": {},
   "cell_type": "markdown",
   "metadata": {},
   "source": [
    "# Env import"
   ]
  },
  {
   "cell_type": "code",
   "execution_count": 84,
   "metadata": {},
   "outputs": [],
   "source": [
    "from datetime import date, datetime\n",
    "\n",
    "from apikey import API_KEY, BASE_URL, DEPLOYMENT_NAME\n",
    "from langchain.chat_models import AzureChatOpenAI\n",
    "\n",
    "from langchain import PromptTemplate\n",
    "from langchain.prompts.chat import(\n",
    "    ChatPromptTemplate,\n",
    "    SystemMessagePromptTemplate,\n",
    "    HumanMessagePromptTemplate,\n",
    "    AIMessagePromptTemplate\n",
    ")\n",
    "\n",
    "from langchain.output_parsers import ResponseSchema\n",
    "from langchain.output_parsers import StructuredOutputParser\n",
    "\n",
    "from langchain.schema import (\n",
    "    SystemMessage,\n",
    "    HumanMessage,\n",
    "    AIMessage\n",
    "    )\n",
    "\n",
    "from langchain.chains import LLMChain, APIChain, SequentialChain, SimpleSequentialChain\n"
   ]
  },
  {
   "attachments": {},
   "cell_type": "markdown",
   "metadata": {},
   "source": [
    "# Config "
   ]
  },
  {
   "cell_type": "code",
   "execution_count": 76,
   "metadata": {},
   "outputs": [
    {
     "data": {
      "text/plain": [
       "'2023-06-15 15:38:47'"
      ]
     },
     "execution_count": 76,
     "metadata": {},
     "output_type": "execute_result"
    }
   ],
   "source": [
    "data_info1 = f\"\"\"\n",
    "dataset name: 行业市场变化_市场大盘分析_行业市场大盘_魔镜\n",
    "\n",
    "dataset description:\n",
    "primary keys:[月份, 类目编码]\n",
    "3540 rows\n",
    "| field | type | uniques | nan_percentage | max | min |\n",
    "| --- | --- | --- | --- | --- | --- |\n",
    "| 月份 | DateTime | 59 | 0.0 | nan | nan |\n",
    "| 平台编码 | String | 2 | 0.0 | nan | nan |\n",
    "| 一级类目 | String | 4 | 0.0 | nan | nan |\n",
    "| 类目编码 | Numeric | 60 | 0.0 | 39264.0 | 10209.0 |\n",
    "| 销售额 | Numeric | 3540 | 0.0 | 99989.30547 | 1.8873 |\n",
    "| 销量 | Numeric | 974 | 0.0 | 999.0 | 0.0 |\n",
    "| 店铺数 | Numeric | 181 | 0.0 | 200.0 | 20.0 |\n",
    "| 商品数 | Numeric | 451 | 0.0 | 500.0 | 50.0 |\n",
    "| 会员数量 | Numeric | 1 | 0.0 | 0.0 | 0.0 |\n",
    "\"\"\"\n",
    "data_info2 = f\"\"\"\n",
    "dataset name: 行业市场变化_市场大盘分析_行业市场大盘_魔镜\n",
    "\n",
    "dataset description:\n",
    "primary keys:[月份, 类目编码]\n",
    "3540 rows\n",
    "| field | type | uniques | nan_percentage | max | min |\n",
    "| --- | --- | --- | --- | --- | --- |\n",
    "| 月份 | DateTime | 59 | 0.0 | nan | nan |\n",
    "| 平台编码 | String | 2 | 0.0 | nan | nan |\n",
    "| 一级类目 | String | 4 | 0.0 | nan | nan |\n",
    "| 二级类目 | String | 8 | 6.666666666666667 | nan | nan |\n",
    "\n",
    "\"\"\"\n",
    "\n",
    "data_info = data_info1 + data_info2\n",
    "\n",
    "# 当前时间\n",
    "today = date.today()\n",
    "formatted_date = today.strftime(\"%Y-%m-%d\")\n",
    "\n",
    "today_dt = datetime.now()\n",
    "formatted_dt = today_dt.strftime(\"%Y-%m-%d %H:%M:%S\")\n",
    "\n",
    "formatted_dt\n",
    "\n",
    "\n",
    "api_params = \"\"\"\n",
    "{\n",
    "    \"chartType\":\"\", // 图表类型，可选的图表类型有\n",
    "    \"row\": // 维度字段，每个维度用一个字典表示{\"name\":\"字段1\"}\n",
    "    [ \n",
    "        {\n",
    "            \"name\":\"A\"\n",
    "        }\n",
    "    ],\n",
    "    \"filters\":[ //\n",
    "        {\n",
    "            \"name\":\"A\",\n",
    "            \"filterType\":\"IN\",\n",
    "            \"filterValue\":[\n",
    "                \"\",\n",
    "                \"\"\n",
    "            ]\n",
    "        },\n",
    "        {\n",
    "            \"name\":\"A\",\n",
    "            \"filterType\":\"GT\",\n",
    "            \"filterValue\":[\n",
    "                \"\"\n",
    "            ]\n",
    "        }\n",
    "    ],\n",
    "    \"metric\":[\n",
    "        {\n",
    "            \"name\":\"A\",\n",
    "            \"aggrType\":\"SUM\"\n",
    "        },\n",
    "        {\n",
    "\n",
    "        }\n",
    "    ],\n",
    "    \"sorting\":[\n",
    "        {\n",
    "            \"name\":\"A\",\n",
    "            \"aggrType\":\"SUM\",\n",
    "            \"ordering\":\"desc\"\n",
    "        },\n",
    "        {\n",
    "\n",
    "        }\n",
    "    ]\n",
    "}\n",
    "\"\"\"\n"
   ]
  },
  {
   "attachments": {},
   "cell_type": "markdown",
   "metadata": {},
   "source": [
    "# Model"
   ]
  },
  {
   "cell_type": "code",
   "execution_count": 7,
   "metadata": {},
   "outputs": [],
   "source": [
    "chat_llm = AzureChatOpenAI(\n",
    "    openai_api_base=BASE_URL,\n",
    "    openai_api_version=\"2023-05-15\",\n",
    "    deployment_name=DEPLOYMENT_NAME,\n",
    "    openai_api_key=API_KEY,\n",
    "    openai_api_type = \"azure\",\n",
    "    temperature=0\n",
    ")\n"
   ]
  },
  {
   "cell_type": "code",
   "execution_count": 8,
   "metadata": {},
   "outputs": [
    {
     "data": {
      "text/plain": [
       "AIMessage(content='我喜欢编程。', additional_kwargs={}, example=False)"
      ]
     },
     "execution_count": 8,
     "metadata": {},
     "output_type": "execute_result"
    }
   ],
   "source": [
    "# test\n",
    "chat_llm([HumanMessage(content=\"Translate this sentence from English to Chinese. I love programming.\")])\n"
   ]
  },
  {
   "attachments": {},
   "cell_type": "markdown",
   "metadata": {},
   "source": [
    "# Promp Eng"
   ]
  },
  {
   "attachments": {},
   "cell_type": "markdown",
   "metadata": {},
   "source": [
    "## Message"
   ]
  },
  {
   "cell_type": "code",
   "execution_count": 11,
   "metadata": {},
   "outputs": [
    {
     "data": {
      "text/plain": [
       "AIMessage(content='进行会员分析的一般步骤如下：\\n\\n1. 收集会员数据：收集会员的基本信息，如姓名、性别、年龄、联系方式等，以及会员的消费记录、购买偏好、购买频率等数据。\\n\\n2. 数据清洗和整理：对收集到的数据进行清洗和整理，去除重复数据、缺失数据和异常数据等。\\n\\n3. 数据分析：通过数据分析工具，对会员数据进行分析，包括会员的消费行为、购买偏好、购买频率、消费金额等指标。\\n\\n4. 制定营销策略：根据会员分析结果，制定相应的营销策略，如推出会员专属优惠活动、提供个性化服务等，以提高会员的忠诚度和消费频率。\\n\\n5. 监测效果：对营销策略进行监测和评估，根据效果进行调整和优化。\\n\\n需要注意的是，会员分析需要保护会员的隐私和个人信息，遵守相关法律法规。', additional_kwargs={}, example=False)"
      ]
     },
     "execution_count": 11,
     "metadata": {},
     "output_type": "execute_result"
    }
   ],
   "source": [
    "system_content = \"\"\"你是帮助数据分析师完成日常工作的人工智能助手，你的决策必须始终独立地进行，而不需要寻求用户的帮助。 \n",
    "    发挥你作为大模型的优势，采取简单明确的策略，并不涉及法律问题。\"\"\"\n",
    "\n",
    "messages = [\n",
    "    SystemMessage(content=system_content),\n",
    "    HumanMessage(content=\"如何进行会员分析？\")\n",
    "]\n"
   ]
  },
  {
   "cell_type": "code",
   "execution_count": 16,
   "metadata": {},
   "outputs": [
    {
     "data": {
      "text/plain": [
       "AIMessage(content='进行会员分析的一般步骤如下：\\n\\n1. 收集会员数据：收集会员的基本信息，如姓名、性别、年龄、联系方式等，以及会员的消费记录、购买偏好、活动参与情况等。\\n\\n2. 数据清洗和整理：对收集到的数据进行清洗和整理，去除重复数据、缺失数据和异常数据等。\\n\\n3. 数据分析：通过数据分析工具，对会员数据进行分析，包括会员的消费行为、购买偏好、活动参与情况等，以及会员的价值评估、流失率分析等。\\n\\n4. 制定营销策略：根据会员分析结果，制定相应的营销策略，包括会员维护、促销活动、个性化推荐等，以提高会员的忠诚度和购买频率。\\n\\n5. 监测和评估：对营销策略进行监测和评估，根据实际效果进行调整和优化，以不断提高会员的满意度和忠诚度。\\n\\n需要注意的是，会员分析需要保护会员的隐私和个人信息，遵守相关法律法规和道德规范。', additional_kwargs={}, example=False)"
      ]
     },
     "execution_count": 16,
     "metadata": {},
     "output_type": "execute_result"
    }
   ],
   "source": [
    "response = chat_llm(messages)\n",
    "response"
   ]
  },
  {
   "cell_type": "code",
   "execution_count": 18,
   "metadata": {},
   "outputs": [
    {
     "name": "stdout",
     "output_type": "stream",
     "text": [
      "进行会员分析的一般步骤如下：\n",
      "\n",
      "1. 收集会员数据：收集会员的基本信息，如姓名、性别、年龄、联系方式等，以及会员的消费记录、购买偏好、活动参与情况等。\n",
      "\n",
      "2. 数据清洗和整理：对收集到的数据进行清洗和整理，去除重复数据、缺失数据和异常数据等。\n",
      "\n",
      "3. 数据分析：通过数据分析工具，对会员数据进行分析，包括会员的消费行为、购买偏好、活动参与情况等，以及会员的价值评估、流失率分析等。\n",
      "\n",
      "4. 制定营销策略：根据会员分析结果，制定相应的营销策略，包括会员维护、促销活动、个性化推荐等，以提高会员的忠诚度和购买频率。\n",
      "\n",
      "5. 监测和评估：对营销策略进行监测和评估，根据实际效果进行调整和优化，以不断提高会员的满意度和忠诚度。\n",
      "\n",
      "需要注意的是，会员分析需要保护会员的隐私和个人信息，遵守相关法律法规和道德规范。\n"
     ]
    }
   ],
   "source": [
    "print(response.content)\n"
   ]
  },
  {
   "attachments": {},
   "cell_type": "markdown",
   "metadata": {},
   "source": [
    "## Prompt Template"
   ]
  },
  {
   "cell_type": "code",
   "execution_count": null,
   "metadata": {},
   "outputs": [],
   "source": [
    "card_type={\"BASIC_COLUMN\": \"单柱图\", \n",
    "           \"GROUPED_COLUMN\": \"簇状图，柱图\", \n",
    "           \"STACKED_COLUMN\": \"堆积图，柱图\", \n",
    "           \"STACKED_SPLIT_COLUMN\": \"分组堆积图，柱图\", \n",
    "           \"BASIC_BAR\": \"单条图\", \n",
    "           \"BASIC_LINE\": \"单线图\", \n",
    "           \"PIE\": \"饼图\", \n",
    "           \"RISING_SUN\": \"旭日图\", \n",
    "           \"FUNNEL\": \"漏斗图\", \n",
    "           \"HORIZONTAL_FUNNEL\": \"水平漏斗图\"}"
   ]
  },
  {
   "cell_type": "code",
   "execution_count": null,
   "metadata": {},
   "outputs": [],
   "source": [
    "description_chartType=\"\"\"\n",
    "\"\"\"\n",
    "\n",
    "description_row=\"\"\"维度字段，案例：[{\"name\":\"A\"},{\"name\":\"A\"}]\"\n",
    "\"\"\"\n",
    "\n",
    "description_filters=\"\"\"维度字段，案例：[{\"name\":\"A\"},{\"name\":\"A\"}]\"\n",
    "\"\"\"\n",
    "\n",
    "description_metric=\"\"\"维度字段，案例：[{\"name\":\"A\"},{\"name\":\"A\"}]\"\n",
    "\"\"\"\n",
    "\n",
    "description_sorting=\"\"\"维度字段，案例：[{\"name\":\"A\"},{\"name\":\"A\"}]\"\n",
    "\"\"\"\n",
    "\n",
    "\n",
    "# 先生成键值对的schema\n",
    "chartType_schema = ResponseSchema(name=\"chartType\",\n",
    "                             description=description_chartType)\n",
    "\n",
    "row_schema = ResponseSchema(name=\"row\",\n",
    "                                      description=description_row)\n",
    "\n",
    "filters_schema = ResponseSchema(name=\"filters\",\n",
    "                                    description=description_filters)\n",
    "\n",
    "metric_schema = ResponseSchema(name=\"metric\",\n",
    "                                    description=description_metric)\n",
    "\n",
    "sorting_schema = ResponseSchema(name=\"sorting\",\n",
    "                                    description=description_sorting)\n"
   ]
  },
  {
   "cell_type": "code",
   "execution_count": 81,
   "metadata": {},
   "outputs": [],
   "source": [
    "system_template = \"\"\"你是帮助数据分析师完成日常工作的人工智能助手，你的决策必须始终独立地进行，而不需要寻求用户的帮助。 \n",
    "    发挥你作为大模型的优势，采取简单明确的策略，并不涉及法律问题。\n",
    "    \n",
    "    你通常的执行步骤为：\n",
    "    1. 理解客户输入，并根据客户输入大致分析所需要的数据需求;\n",
    "    2. 用数据需求来校验已有数据信息是否满足条件;\n",
    "    3. 在满足条件的情况下，根据接口参数要求，来生成接口所需的参数;\n",
    "    \"\"\"\n",
    "\n",
    "system_message_prompt = SystemMessagePromptTemplate.from_template(system_template)\n",
    "\n",
    "human_template = \"\"\"\n",
    "请基于text进行相关数据需求分析，并从已有数据结构data_info中判断是否满足要求。\n",
    "如果满足需求，则按照接口参数要求api_params来生成对应的参数，这个参数是为了传递给前端接口进行相关图表的绘制，请将返回的参数以JSON格式展示.\n",
    "\n",
    "用户输入text为：\n",
    "```{text}```\n",
    "\n",
    "已经有的数据结构data_info为：\n",
    "```{data_info}```\n",
    "\n",
    "参数要求api_params为：\n",
    "```{api_params}```\n",
    "\n",
    "\n",
    "\"\"\"\n",
    "\n",
    "\n",
    "human_message_prompt = HumanMessagePromptTemplate.from_template(human_template)\n",
    "\n",
    "chat_prompt = ChatPromptTemplate.from_messages([system_message_prompt, human_message_prompt])\n"
   ]
  },
  {
   "cell_type": "code",
   "execution_count": 80,
   "metadata": {},
   "outputs": [
    {
     "name": "stdout",
     "output_type": "stream",
     "text": [
      "System: 你是帮助数据分析师完成日常工作的人工智能助手，你的决策必须始终独立地进行，而不需要寻求用户的帮助。 \n",
      "    发挥你作为大模型的优势，采取简单明确的策略，并不涉及法律问题。\n",
      "    \n",
      "    你通常的执行步骤为：\n",
      "    1. 理解客户输入，并根据客户输入大致分析所需要的数据需求;\n",
      "    2. 用数据需求来校验已有数据信息是否满足条件;\n",
      "    3. 在满足条件的情况下，根据接口参数要求，来生成接口所需的参数;\n",
      "    \n",
      "Human: \n",
      "请基于text进行相关数据需求分析，并从已有数据结构data_info中判断是否满足要求。\n",
      "\n",
      "用户输入为：\n",
      "```如何进行会员分析？```\n",
      "\n",
      "已经有的数据结构data_info为：\n",
      "```\n",
      "dataset name: 行业市场变化_市场大盘分析_行业市场大盘_魔镜\n",
      "\n",
      "dataset description:\n",
      "primary keys:[月份, 类目编码]\n",
      "3540 rows\n",
      "| field | type | uniques | nan_percentage | max | min |\n",
      "| --- | --- | --- | --- | --- | --- |\n",
      "| 月份 | DateTime | 59 | 0.0 | nan | nan |\n",
      "| 平台编码 | String | 2 | 0.0 | nan | nan |\n",
      "| 一级类目 | String | 4 | 0.0 | nan | nan |\n",
      "| 类目编码 | Numeric | 60 | 0.0 | 39264.0 | 10209.0 |\n",
      "| 销售额 | Numeric | 3540 | 0.0 | 99989.30547 | 1.8873 |\n",
      "| 销量 | Numeric | 974 | 0.0 | 999.0 | 0.0 |\n",
      "| 店铺数 | Numeric | 181 | 0.0 | 200.0 | 20.0 |\n",
      "| 商品数 | Numeric | 451 | 0.0 | 500.0 | 50.0 |\n",
      "| 会员数量 | Numeric | 1 | 0.0 | 0.0 | 0.0 |\n",
      "\n",
      "dataset name: 行业市场变化_市场大盘分析_行业市场大盘_魔镜\n",
      "\n",
      "dataset description:\n",
      "primary keys:[月份, 类目编码]\n",
      "3540 rows\n",
      "| field | type | uniques | nan_percentage | max | min |\n",
      "| --- | --- | --- | --- | --- | --- |\n",
      "| 月份 | DateTime | 59 | 0.0 | nan | nan |\n",
      "| 平台编码 | String | 2 | 0.0 | nan | nan |\n",
      "| 一级类目 | String | 4 | 0.0 | nan | nan |\n",
      "| 二级类目 | String | 8 | 6.666666666666667 | nan | nan |\n",
      "\n",
      "```\n",
      "\n"
     ]
    }
   ],
   "source": [
    "print(chat_prompt.format(text=\"如何进行会员分析？\", data_info=data_info))"
   ]
  },
  {
   "cell_type": "code",
   "execution_count": 82,
   "metadata": {},
   "outputs": [
    {
     "data": {
      "text/plain": [
       "AIMessage(content='根据用户输入的文本，可以初步判断用户需要进行会员分析，因此需要查找包含会员数量字段的数据集。已有的数据结构中，包含会员数量字段的数据集为“行业市场变化_市场大盘分析_行业市场大盘_魔镜”。因此，已有数据结构中的数据可以满足用户的需求。', additional_kwargs={}, example=False)"
      ]
     },
     "execution_count": 82,
     "metadata": {},
     "output_type": "execute_result"
    }
   ],
   "source": [
    "# get a chat completion from the formatted messages\n",
    "response = chat_llm(chat_prompt.format_prompt(text=\"如何进行会员分析？\", data_info=data_info).to_messages())\n",
    "response\n"
   ]
  },
  {
   "cell_type": "code",
   "execution_count": 83,
   "metadata": {},
   "outputs": [
    {
     "name": "stdout",
     "output_type": "stream",
     "text": [
      "根据用户输入的文本，可以初步判断用户需要进行会员分析，因此需要查找包含会员数量字段的数据集。已有的数据结构中，包含会员数量字段的数据集为“行业市场变化_市场大盘分析_行业市场大盘_魔镜”。因此，已有数据结构中的数据可以满足用户的需求。\n"
     ]
    }
   ],
   "source": [
    "print(response.content)"
   ]
  },
  {
   "attachments": {},
   "cell_type": "markdown",
   "metadata": {},
   "source": [
    "## LLMChain"
   ]
  },
  {
   "cell_type": "code",
   "execution_count": 33,
   "metadata": {},
   "outputs": [],
   "source": [
    "chain = LLMChain(llm=chat_llm, prompt=chat_prompt)\n",
    "question = '如何进行会员分析？'\n",
    "\n",
    "chain_response = chain.run({'text':question, 'data_info':data_info})\n",
    "\n",
    "# 有个 few shot 的方案，后面考虑加进来，见官网：https://python.langchain.com/en/latest/modules/models/chat/examples/few_shot_examples.html"
   ]
  },
  {
   "cell_type": "code",
   "execution_count": 35,
   "metadata": {},
   "outputs": [
    {
     "name": "stdout",
     "output_type": "stream",
     "text": [
      "数据需求生成：\n",
      "\n",
      "1. 会员数量分析需要使用“行业市场变化_市场大盘分析_行业市场大盘_魔镜”数据集中的“月份”和“类目编码”字段，以及“会员数量”字段。\n",
      "2. 需要对每个月份和类目编码的会员数量进行求和，得到每个月份和类目编码的总会员数量。\n",
      "3. 可以使用数据可视化工具，如折线图或柱状图，来展示每个月份和类目编码的总会员数量的趋势和变化。\n",
      "\n",
      "已有数据结构中，包含了会员数量字段，可以直接使用。数据集中的“月份”和“类目编码”字段也可以满足需求。但是，数据集中缺少二级类目的信息，如果需要对二级类目进行分析，则需要另外的数据来源。\n"
     ]
    }
   ],
   "source": [
    "print(chain_response)"
   ]
  },
  {
   "cell_type": "code",
   "execution_count": null,
   "metadata": {},
   "outputs": [],
   "source": []
  },
  {
   "cell_type": "code",
   "execution_count": null,
   "metadata": {},
   "outputs": [],
   "source": []
  },
  {
   "cell_type": "code",
   "execution_count": 28,
   "metadata": {},
   "outputs": [],
   "source": [
    "api_doc =\"\"\"\n",
    "BASE URL: https://restcountries.com/\n",
    "\n",
    "API Documentation:\n",
    "\n",
    "The API endpoint /v3.1/name/{name} Used to find informatin about a country. All URL parameters are listed below:\n",
    "    - name: Name of country - Ex: italy, france\n",
    "    \n",
    "The API endpoint /v3.1/currency/{currency} Uesd to find information about a region. All URL parameters are listed below:\n",
    "    - currency: 3 letter currency. Example: USD, COP\n",
    "    \n",
    "Woo! This is my documentation\n",
    "\"\"\""
   ]
  },
  {
   "cell_type": "code",
   "execution_count": 41,
   "metadata": {},
   "outputs": [
    {
     "data": {
      "text/plain": [
       "'\\n    你是帮助数据分析师完成日常工作的人工智能助手，你的决策必须始终独立地进行，而不需要寻求用户的帮助。 \\n    发挥你作为大模型的优势，采取简单明确的策略，并不涉及法律问题。\\n\\n    根据{question} 生成对应数据需求，从{data_info}中校验是否满足需求,\\n    请以以下JSON格式返回：\\n    \"is_valid\":<1表示满足，0表示不满足>, \"question\":<客户提的问题>, \"data_schema\":<需要用到的数据主要信息>    \\n    '"
      ]
     },
     "execution_count": 41,
     "metadata": {},
     "output_type": "execute_result"
    }
   ],
   "source": [
    "template1"
   ]
  },
  {
   "cell_type": "code",
   "execution_count": 57,
   "metadata": {},
   "outputs": [],
   "source": [
    "init_prompt = \"\"\"\n",
    "    你是帮助数据分析师完成日常工作的人工智能助手，你的决策必须始终独立地进行，而不需要寻求用户的帮助。 \n",
    "    发挥你作为大模型的优势，采取简单明确的策略，并不涉及法律问题。\n",
    "    \"\"\"\n",
    "\n",
    "\n",
    "data_check_template = PromptTemplate(\n",
    "    input_variables = ['question', 'data_info'],\n",
    "    template=\"\"\"\n",
    "    你是帮助数据分析师完成日常工作的人工智能助手，你的决策必须始终独立地进行，而不需要寻求用户的帮助。 \n",
    "    发挥你作为大模型的优势，采取简单明确的策略，并不涉及法律问题。\n",
    "\n",
    "    根据 {question} 生成对应数据需求，从{data_info}中校验是否满足需求,\n",
    "    请以以下JSON格式返回：\n",
    "    \"is_valid\":<1表示满足，0表示不满足>, \"question\":<客户提的问题>, \"data_schema\":<需要用到的数据主要信息>    \n",
    "    \"\"\"\n",
    ")\n",
    "\n",
    "api_template = PromptTemplate(\n",
    "    input_variables = ['response', 'api_doc'],\n",
    "    template=\"\"\"\n",
    "    根据{response}从{api_doc} 中选择相关接口\n",
    "    请以以下JSON格式返回：\n",
    "    \"is_valid\":<1表示满足，0表示不满足>, \"api\":<选择api>, \"pre_response\":<response>\n",
    "    \"\"\"\n",
    ")\n",
    "\n"
   ]
  },
  {
   "attachments": {},
   "cell_type": "markdown",
   "metadata": {},
   "source": [
    "# memory\n",
    "\n",
    "memory 暂时待定"
   ]
  },
  {
   "attachments": {},
   "cell_type": "markdown",
   "metadata": {},
   "source": [
    "# Chain "
   ]
  },
  {
   "cell_type": "code",
   "execution_count": 53,
   "metadata": {},
   "outputs": [
    {
     "data": {
      "text/plain": [
       "LLMChain(memory=None, callbacks=None, callback_manager=None, verbose=True, prompt=PromptTemplate(input_variables=['question', 'data_info'], output_parser=None, partial_variables={}, template='\\n    你是帮助数据分析师完成日常工作的人工智能助手，你的决策必须始终独立地进行，而不需要寻求用户的帮助。 \\n    发挥你作为大模型的优势，采取简单明确的策略，并不涉及法律问题。\\n\\n    根据 {question} 生成对应数据需求，从{data_info}中校验是否满足需求,\\n    请以以下JSON格式返回：\\n    \"is_valid\":<1表示满足，0表示不满足>, \"question\":<客户提的问题>, \"data_schema\":<需要用到的数据主要信息>    \\n    ', template_format='f-string', validate_template=True), llm=AzureChatOpenAI(verbose=False, callbacks=None, callback_manager=None, client=<class 'openai.api_resources.chat_completion.ChatCompletion'>, model_name='gpt-3.5-turbo', temperature=0.7, model_kwargs={}, openai_api_key='429840e9cfe0434db403337d28110ca6', openai_api_base='https://gd-hackathon.openai.azure.com', openai_organization='', request_timeout=None, max_retries=6, streaming=False, n=1, max_tokens=None, deployment_name='gpt-35-turbo', openai_api_type='azure', openai_api_version='2023-05-15'), output_key='response')"
      ]
     },
     "execution_count": 53,
     "metadata": {},
     "output_type": "execute_result"
    }
   ],
   "source": [
    "datacheck_chain = LLMChain(llm=llm, prompt=data_check_template, verbose=True, output_key='response_data')\n",
    "datacheck_chain"
   ]
  },
  {
   "cell_type": "code",
   "execution_count": 58,
   "metadata": {},
   "outputs": [],
   "source": [
    "api_check_chain = LLMChain(llm=llm, prompt=api_template, verbose=True, output_key='response_api')"
   ]
  },
  {
   "cell_type": "code",
   "execution_count": 59,
   "metadata": {},
   "outputs": [
    {
     "name": "stdout",
     "output_type": "stream",
     "text": [
      "\n",
      "\n",
      "\u001b[1m> Entering new LLMChain chain...\u001b[0m\n",
      "Prompt after formatting:\n",
      "\u001b[32;1m\u001b[1;3m\n",
      "    你是帮助数据分析师完成日常工作的人工智能助手，你的决策必须始终独立地进行，而不需要寻求用户的帮助。 \n",
      "    发挥你作为大模型的优势，采取简单明确的策略，并不涉及法律问题。\n",
      "\n",
      "    根据 目前销量最好的品类是哪个？ 生成对应数据需求，从\n",
      "dataset name: 行业市场变化_市场大盘分析_行业市场大盘_魔镜\n",
      "\n",
      "dataset description:\n",
      "primary keys:[月份, 类目编码]\n",
      "3540 rows\n",
      "| field | type | uniques | nan_percentage | max | min |\n",
      "| --- | --- | --- | --- | --- | --- |\n",
      "| 月份 | DateTime | 59 | 0.0 | nan | nan |\n",
      "| 平台编码 | String | 2 | 0.0 | nan | nan |\n",
      "| 一级类目 | String | 4 | 0.0 | nan | nan |\n",
      "| 二级类目 | String | 8 | 6.666666666666667 | nan | nan |\n",
      "| 三级类目 | String | 16 | 20.0 | nan | nan |\n",
      "| 四级类目 | String | 32 | 46.666666666666664 | nan | nan |\n",
      "| 类目名称 | String | 60 | 0.0 | nan | nan |\n",
      "| 类目编码 | Numeric | 60 | 0.0 | 39264.0 | 10209.0 |\n",
      "| 销售额 | Numeric | 3540 | 0.0 | 99989.30547 | 1.8873 |\n",
      "| 销量 | Numeric | 974 | 0.0 | 999.0 | 0.0 |\n",
      "| 店铺数 | Numeric | 181 | 0.0 | 200.0 | 20.0 |\n",
      "| 商品数 | Numeric | 451 | 0.0 | 500.0 | 50.0 |\n",
      "| 收藏次数 | Numeric | 1 | 0.0 | 0.0 | 0.0 |\n",
      "\n",
      "dataset name: 行业市场变化_市场大盘分析_行业市场大盘_魔镜\n",
      "\n",
      "dataset description:\n",
      "primary keys:[月份, 类目编码]\n",
      "3540 rows\n",
      "| field | type | uniques | nan_percentage | max | min |\n",
      "| --- | --- | --- | --- | --- | --- |\n",
      "| 月份 | DateTime | 59 | 0.0 | nan | nan |\n",
      "| 平台编码 | String | 2 | 0.0 | nan | nan |\n",
      "| 一级类目 | String | 4 | 0.0 | nan | nan |\n",
      "| 二级类目 | String | 8 | 6.666666666666667 | nan | nan |\n",
      "\n",
      "中校验是否满足需求,\n",
      "    请以以下JSON格式返回：\n",
      "    \"is_valid\":<1表示满足，0表示不满足>, \"question\":<客户提的问题>, \"data_schema\":<需要用到的数据主要信息>    \n",
      "    \u001b[0m\n",
      "\n",
      "\u001b[1m> Finished chain.\u001b[0m\n",
      "\n",
      "\n",
      "\u001b[1m> Entering new LLMChain chain...\u001b[0m\n",
      "Prompt after formatting:\n",
      "\u001b[32;1m\u001b[1;3m\n",
      "    根据{\n",
      "    \"is_valid\": 1,\n",
      "    \"question\": \"目前销量最好的品类是哪个？\",\n",
      "    \"data_schema\": {\n",
      "        \"dataset_name\": \"行业市场变化_市场大盘分析_行业市场大盘_魔镜\",\n",
      "        \"primary_keys\": [\"月份\", \"类目编码\"],\n",
      "        \"fields\": {\n",
      "            \"月份\": {\"type\": \"DateTime\", \"uniques\": 59},\n",
      "            \"平台编码\": {\"type\": \"String\", \"uniques\": 2},\n",
      "            \"一级类目\": {\"type\": \"String\", \"uniques\": 4},\n",
      "            \"二级类目\": {\"type\": \"String\", \"uniques\": 8},\n",
      "            \"三级类目\": {\"type\": \"String\", \"uniques\": 16},\n",
      "            \"四级类目\": {\"type\": \"String\", \"uniques\": 32},\n",
      "            \"类目名称\": {\"type\": \"String\", \"uniques\": 60},\n",
      "            \"类目编码\": {\"type\": \"Numeric\", \"uniques\": 60, \"max\": 39264.0, \"min\": 10209.0},\n",
      "            \"销售额\": {\"type\": \"Numeric\", \"uniques\": 3540, \"max\": 99989.30547, \"min\": 1.8873},\n",
      "            \"销量\": {\"type\": \"Numeric\", \"uniques\": 974, \"max\": 999.0, \"min\": 0.0},\n",
      "            \"店铺数\": {\"type\": \"Numeric\", \"uniques\": 181, \"max\": 200.0, \"min\": 20.0},\n",
      "            \"商品数\": {\"type\": \"Numeric\", \"uniques\": 451, \"max\": 500.0, \"min\": 50.0},\n",
      "            \"收藏次数\": {\"type\": \"Numeric\", \"uniques\": 1, \"max\": 0.0, \"min\": 0.0}\n",
      "        }\n",
      "    }\n",
      "}从\n",
      "BASE URL: https://restcountries.com/\n",
      "\n",
      "API Documentation:\n",
      "\n",
      "The API endpoint /v3.1/name/{name} Used to find informatin about a country. All URL parameters are listed below:\n",
      "    - name: Name of country - Ex: italy, france\n",
      "    \n",
      "The API endpoint /v3.1/currency/{currency} Uesd to find information about a region. All URL parameters are listed below:\n",
      "    - currency: 3 letter currency. Example: USD, COP\n",
      "    \n",
      "Woo! This is my documentation\n",
      " 中选择相关接口\n",
      "    请以以下JSON格式返回：\n",
      "    \"is_valid\":<1表示满足，0表示不满足>, \"api\":<选择api>, \"pre_response\":<response>\n",
      "    \u001b[0m\n",
      "\n",
      "\u001b[1m> Finished chain.\u001b[0m\n"
     ]
    }
   ],
   "source": [
    "question = '目前销量最好的品类是哪个？'\n",
    "data_check = datacheck_chain.run({'question':question, 'data_info':data_info})\n",
    "api_check = api_check_chain.run({'response': data_check, 'api_doc': api_doc})\n",
    "\n"
   ]
  },
  {
   "cell_type": "code",
   "execution_count": 51,
   "metadata": {},
   "outputs": [
    {
     "name": "stdout",
     "output_type": "stream",
     "text": [
      "{\n",
      "    \"is_valid\": 1,\n",
      "    \"question\": \"目前销量最好的品类是哪个？\",\n",
      "    \"data_schema\": {\n",
      "        \"dataset_name\": \"行业市场变化_市场大盘分析_行业市场大盘_魔镜\",\n",
      "        \"primary_keys\": [\"月份\", \"类目编码\"],\n",
      "        \"fields\": {\n",
      "            \"月份\": {\n",
      "                \"type\": \"DateTime\",\n",
      "                \"uniques\": 59,\n",
      "                \"nan_percentage\": 0.0\n",
      "            },\n",
      "            \"平台编码\": {\n",
      "                \"type\": \"String\",\n",
      "                \"uniques\": 2,\n",
      "                \"nan_percentage\": 0.0\n",
      "            },\n",
      "            \"一级类目\": {\n",
      "                \"type\": \"String\",\n",
      "                \"uniques\": 4,\n",
      "                \"nan_percentage\": 0.0\n",
      "            },\n",
      "            \"二级类目\": {\n",
      "                \"type\": \"String\",\n",
      "                \"uniques\": 8,\n",
      "                \"nan_percentage\": 6.67\n",
      "            },\n",
      "            \"三级类目\": {\n",
      "                \"type\": \"String\",\n",
      "                \"uniques\": 16,\n",
      "                \"nan_percentage\": 20.0\n",
      "            },\n",
      "            \"四级类目\": {\n",
      "                \"type\": \"String\",\n",
      "                \"uniques\": 32,\n",
      "                \"nan_percentage\": 46.67\n",
      "            },\n",
      "            \"类目名称\": {\n",
      "                \"type\": \"String\",\n",
      "                \"uniques\": 60,\n",
      "                \"nan_percentage\": 0.0\n",
      "            },\n",
      "            \"类目编码\": {\n",
      "                \"type\": \"Numeric\",\n",
      "                \"uniques\": 60,\n",
      "                \"nan_percentage\": 0.0,\n",
      "                \"max\": 39264.0,\n",
      "                \"min\": 10209.0\n",
      "            },\n",
      "            \"销售额\": {\n",
      "                \"type\": \"Numeric\",\n",
      "                \"uniques\": 3540,\n",
      "                \"nan_percentage\": 0.0,\n",
      "                \"max\": 99989.30547,\n",
      "                \"min\": 1.8873\n",
      "            },\n",
      "            \"销量\": {\n",
      "                \"type\": \"Numeric\",\n",
      "                \"uniques\": 974,\n",
      "                \"nan_percentage\": 0.0,\n",
      "                \"max\": 999.0,\n",
      "                \"min\": 0.0\n",
      "            },\n",
      "            \"店铺数\": {\n",
      "                \"type\": \"Numeric\",\n",
      "                \"uniques\": 181,\n",
      "                \"nan_percentage\": 0.0,\n",
      "                \"max\": 200.0,\n",
      "                \"min\": 20.0\n",
      "            },\n",
      "            \"商品数\": {\n",
      "                \"type\": \"Numeric\",\n",
      "                \"uniques\": 451,\n",
      "                \"nan_percentage\": 0.0,\n",
      "                \"max\": 500.0,\n",
      "                \"min\": 50.0\n",
      "            },\n",
      "            \"收藏次数\": {\n",
      "                \"type\": \"Numeric\",\n",
      "                \"uniques\": 1,\n",
      "                \"nan_percentage\": 0.0,\n",
      "                \"max\": 0.0,\n",
      "                \"min\": 0.0\n",
      "            }\n",
      "        }\n",
      "    }\n",
      "}\n"
     ]
    }
   ],
   "source": [
    "print(answer)"
   ]
  },
  {
   "cell_type": "code",
   "execution_count": 63,
   "metadata": {},
   "outputs": [
    {
     "data": {
      "text/plain": [
       "str"
      ]
     },
     "execution_count": 63,
     "metadata": {},
     "output_type": "execute_result"
    }
   ],
   "source": [
    "type(answer)"
   ]
  },
  {
   "cell_type": "code",
   "execution_count": 60,
   "metadata": {},
   "outputs": [
    {
     "name": "stdout",
     "output_type": "stream",
     "text": [
      "根据提供的数据结构，无法确定需要使用哪个API接口来回答问题“目前销量最好的品类是哪个？”。建议提供更多相关信息或数据。\n"
     ]
    }
   ],
   "source": [
    "print(api_check)"
   ]
  },
  {
   "cell_type": "code",
   "execution_count": null,
   "metadata": {},
   "outputs": [],
   "source": [
    "sequential_chain = SimpleSequentialChain(chains=[datacheck_chain, api_check_chain], \n",
    "                                   input_variables=['topic'], output_variables=['title', 'script'], \n",
    "                                   verbose=True)\n"
   ]
  },
  {
   "cell_type": "code",
   "execution_count": 6,
   "metadata": {},
   "outputs": [],
   "source": [
    "# /chat：这是一个问答的内部链路\n",
    "# chain0：根据用户问题question 进行问题分类；（如果后面直接可以调取接口的话，这步分类应该也不需要了）\n",
    "#   数据查询；可以在question的body中加入/query 前缀，或者默认是query，如果要画图则/image前缀\n",
    "#   图表生成；可以在question的body中加入/image 前缀\n",
    "# chain1：根据用户问题question 生成数据需求，从selected dataset 中获取data schema，校验是否满足；\n",
    "#   如果满足，则返回question + data schema，进入到chain2\n",
    "#   如果不满足，print：所需要的数据需求并解释原因（字数限定）\n",
    "# chain2：根据上游返回的 question + data schema 进行api doc（通过/query or /image 前缀对接口文档进行过滤）接口选择：\n",
    "#   如果满足，进入chain3\n",
    "#   如果不满足，则返回不满足原因及说明（字数限定）\n",
    "# chain3：根据选择的接口 + question + data schema ，进行接口参数格式化\n",
    "# chain4：调用API\n",
    "\n",
    "# /drill：这是一次钻取内部链路\n",
    "# chain1: questiong + dataset schema + api doc 选择API；\n",
    "# chain2： 根据API + questiong + dataset schema 生成参数；\n",
    "# chain3： 调用 API\n",
    "\n",
    "\n",
    "from langchain import PromptTemplate\n",
    "\n",
    "template = \"\"\"\n",
    "    Question: {question}\n",
    "    你是一个数据分析机器人，用户会向你咨询关于数据的问题，请按照以下步骤进行处理。\n",
    "        1. 需要判断用户的问题是否为这两类【常规数据咨询，BA看板】，对于这两个问题之外的，请礼貌的回答无法满足要求。\n",
    "            想知道具体单一数值或简单问题的，为数据咨询；若用户想知道多个数据的占比或趋势或涉及多个数据维度之间的关系，属于BA看板。\n",
    "        2A. 如果为数据咨询，假设dataframe的变量名为df, 写一段可运行的<python代码>，运行后可以打印出回答此问题的信息。\n",
    "        2B. 如果为BA看板，假设dataframe的变量名为df, 写一段可运行的<python代码>，运行后可以绘制对应需求。\n",
    "        3. 以JSON格式返回信息。Ensure the response can be parsed by Python json.loads。Json外不能有任何字符\n",
    "        \"message\":<所有需要沟通的内容>, \"task\":<问题分类>, \"python_code\":<python code>\n",
    "        \n",
    "        要求：写python代码时需假设df已经读取在内存中，你不需要写读取数据的代码。\n",
    "\n",
    "        你掌握的数据情况如下：{data_info1},{data_info2},{data_info3}\n",
    "\n",
    "\"\"\"\n",
    "\n",
    "prompt = PromptTemplate(template=template, input_variables=['question', 'data_info'])\n",
    "\n",
    "prompt.format(question = \"目前销量最好的品类是哪个？\", data_info=data_info)"
   ]
  },
  {
   "cell_type": "code",
   "execution_count": null,
   "metadata": {},
   "outputs": [],
   "source": [
    "# You are Guandata-GPT, 'an AI assistant designed to help data analysts do their daily work.'\n",
    "# Your decisions must always be made independently without seeking user assistance. Play to your strengths as an LLM and pursue simple strategies with no legal complications.\n",
    "\n",
    "# GOALS:\n",
    "\n",
    "# 1. 'Process data sets'\n",
    "# 2. 'Generate data reports and visualizations'\n",
    "# 3. 'Analyze reports to gain business insights'\n",
    "\n",
    "# Constraints:\n",
    "# 1. ~4000 word limit for short term memory. Your short term memory is short, so immediately save important information to files.\n",
    "# 2. If you are unsure how you previously did something or want to recall past events, thinking about similar events will help you remember.\n",
    "# 3. No user assistance\n",
    "# 4. Exclusively use the commands listed in double quotes e.g. \"command name\"\n",
    "\n",
    "# Commands:\n",
    "# 1. Google Search: \"google\", args: \"input\": \"<search>\"\n",
    "# 2. Browse Website: \"browse_website\", args: \"url\": \"<url>\", \"question\": \"<what_you_want_to_find_on_website>\"\n",
    "# 3. Start GPT Agent: \"start_agent\", args: \"name\": \"<name>\", \"task\": \"<short_task_desc>\", \"prompt\": \"<prompt>\"\n",
    "# 4. Message GPT Agent: \"message_agent\", args: \"key\": \"<key>\", \"message\": \"<message>\"\n",
    "# 5. List GPT Agents: \"list_agents\", args: \n",
    "# 6. Delete GPT Agent: \"delete_agent\", args: \"key\": \"<key>\"\n",
    "# 7. Clone Repository: \"clone_repository\", args: \"repository_url\": \"<url>\", \"clone_path\": \"<directory>\"\n",
    "# 8. Write to file: \"write_to_file\", args: \"file\": \"<file>\", \"text\": \"<text>\"\n",
    "# 9. Read file: \"read_file\", args: \"file\": \"<file>\"\n",
    "# 10. Append to file: \"append_to_file\", args: \"file\": \"<file>\", \"text\": \"<text>\"\n",
    "# 11. Delete file: \"delete_file\", args: \"file\": \"<file>\"\n",
    "# 12. Search Files: \"search_files\", args: \"directory\": \"<directory>\"\n",
    "# 13. Evaluate Code: \"evaluate_code\", args: \"code\": \"<full_code_string>\"\n",
    "# 14. Get Improved Code: \"improve_code\", args: \"suggestions\": \"<list_of_suggestions>\", \"code\": \"<full_code_string>\"\n",
    "# 15. Write Tests: \"write_tests\", args: \"code\": \"<full_code_string>\", \"focus\": \"<list_of_focus_areas>\"\n",
    "# 16. Execute Python File: \"execute_python_file\", args: \"file\": \"<file>\"\n",
    "# 17. Generate Image: \"generate_image\", args: \"prompt\": \"<prompt>\"\n",
    "# 18. Send Tweet: \"send_tweet\", args: \"text\": \"<text>\"\n",
    "# 19. Do Nothing: \"do_nothing\", args: \n",
    "# 20. Task Complete (Shutdown): \"task_complete\", args: \"reason\": \"<reason>\"\n",
    "\n",
    "# Resources:\n",
    "# 1. Internet access for searches and information gathering.\n",
    "# 2. Long Term memory management.\n",
    "# 3. GPT-3.5 powered Agents for delegation of simple tasks.\n",
    "# 4. File output.\n",
    "\n",
    "# Performance Evaluation:\n",
    "# 1. Continuously review and analyze your actions to ensure you are performing to the best of your abilities.\n",
    "# 2. Constructively self-criticize your big-picture behavior constantly.\n",
    "# 3. Reflect on past decisions and strategies to refine your approach.\n",
    "# 4. Every command has a cost, so be smart and efficient. Aim to complete tasks in the least number of steps.\n",
    "\n",
    "# You should only respond in JSON format as described below \n",
    "# Response Format: \n",
    "# {\n",
    "#     \"thoughts\": {\n",
    "#         \"text\": \"thought\",\n",
    "#         \"reasoning\": \"reasoning\",\n",
    "#         \"plan\": \"- short bulleted\\n- list that conveys\\n- long-term plan\",\n",
    "#         \"criticism\": \"constructive self-criticism\",\n",
    "#         \"speak\": \"thoughts summary to say to user\"\n",
    "#     },\n",
    "#     \"command\": {\n",
    "#         \"name\": \"command name\",\n",
    "#         \"args\": {\n",
    "#             \"arg name\": \"value\"\n",
    "#         }\n",
    "#     }\n",
    "# } \n",
    "# Ensure the response can be parsed by Python json.loads"
   ]
  },
  {
   "cell_type": "code",
   "execution_count": null,
   "metadata": {},
   "outputs": [],
   "source": []
  },
  {
   "cell_type": "code",
   "execution_count": null,
   "metadata": {},
   "outputs": [],
   "source": [
    "human_template=\"\"\"\n",
    "请基于用户问题{text}进行相关数据需求分析，并从已有数据结构{data_info}中判断是否满足要求。\n",
    "\n",
    "如果满足要求，则按照{api_params}要求进行相关参数生成，将生成的参数存储为python字典格式，其中key为params\n",
    "如果不满足，则说明原因；\n",
    "\"\"\""
   ]
  },
  {
   "cell_type": "code",
   "execution_count": null,
   "metadata": {},
   "outputs": [],
   "source": []
  },
  {
   "cell_type": "code",
   "execution_count": null,
   "metadata": {},
   "outputs": [],
   "source": []
  },
  {
   "cell_type": "code",
   "execution_count": null,
   "metadata": {},
   "outputs": [],
   "source": []
  }
 ],
 "metadata": {
  "kernelspec": {
   "display_name": "langchain",
   "language": "python",
   "name": "python3"
  },
  "language_info": {
   "codemirror_mode": {
    "name": "ipython",
    "version": 3
   },
   "file_extension": ".py",
   "mimetype": "text/x-python",
   "name": "python",
   "nbconvert_exporter": "python",
   "pygments_lexer": "ipython3",
   "version": "3.10.11"
  },
  "orig_nbformat": 4
 },
 "nbformat": 4,
 "nbformat_minor": 2
}
