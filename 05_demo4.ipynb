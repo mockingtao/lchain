{
 "cells": [
  {
   "attachments": {},
   "cell_type": "markdown",
   "metadata": {},
   "source": [
    "# Env import"
   ]
  },
  {
   "cell_type": "code",
   "execution_count": 46,
   "metadata": {},
   "outputs": [],
   "source": [
    "from datetime import date, datetime\n",
    "\n",
    "from apikey import API_KEY, BASE_URL, DEPLOYMENT_NAME\n",
    "from langchain.chat_models import AzureChatOpenAI\n",
    "\n",
    "from langchain import PromptTemplate\n",
    "from langchain.prompts.chat import(\n",
    "    ChatPromptTemplate,\n",
    "    SystemMessagePromptTemplate,\n",
    "    HumanMessagePromptTemplate,\n",
    "    AIMessagePromptTemplate\n",
    ")\n",
    "\n",
    "from langchain.output_parsers import ResponseSchema\n",
    "from langchain.output_parsers import StructuredOutputParser\n",
    "\n",
    "from langchain.schema import (\n",
    "    SystemMessage,\n",
    "    HumanMessage,\n",
    "    AIMessage\n",
    "    )\n",
    "\n",
    "from langchain.chains import LLMChain, APIChain, SequentialChain, SimpleSequentialChain\n",
    "\n",
    "import os \n",
    "from apikey import apikey \n",
    "\n",
    "\n",
    "os.environ['OPENAI_API_KEY'] = apikey\n",
    "\n",
    "import json\n"
   ]
  },
  {
   "cell_type": "code",
   "execution_count": 2,
   "metadata": {},
   "outputs": [],
   "source": [
    "from langchain.llms import OpenAI\n",
    "from langchain.chat_models import ChatOpenAI\n"
   ]
  },
  {
   "attachments": {},
   "cell_type": "markdown",
   "metadata": {},
   "source": [
    "# Config "
   ]
  },
  {
   "cell_type": "code",
   "execution_count": 52,
   "metadata": {},
   "outputs": [
    {
     "data": {
      "text/plain": [
       "'2023-06-19 20:02:50'"
      ]
     },
     "execution_count": 52,
     "metadata": {},
     "output_type": "execute_result"
    }
   ],
   "source": [
    "data_info = \"\"\"\n",
    "[{\"name\":\"会员ID\",\"type\":\"String\"},\n",
    "{\"name\":\"销量\",\"type\":\"Long\"},\n",
    "{\"name\":\"省份\",\"type\":\"Double\"},\n",
    "{\"name\":\"平台\",\"type\":\"Double\"},\n",
    "{\"name\":\"日期\",\"type\":\"Date\"}]\n",
    "\"\"\"\n",
    "\n",
    "# 当前时间\n",
    "today = date.today()\n",
    "formatted_date = today.strftime(\"%Y-%m-%d\")\n",
    "\n",
    "today_dt = datetime.now()\n",
    "formatted_dt = today_dt.strftime(\"%Y-%m-%d %H:%M:%S\")\n",
    "\n",
    "formatted_dt\n",
    "\n"
   ]
  },
  {
   "attachments": {},
   "cell_type": "markdown",
   "metadata": {},
   "source": [
    "# Model"
   ]
  },
  {
   "cell_type": "code",
   "execution_count": 53,
   "metadata": {},
   "outputs": [],
   "source": [
    "chat_llm = AzureChatOpenAI(\n",
    "    openai_api_base=BASE_URL,\n",
    "    openai_api_version=\"2023-05-15\",\n",
    "    deployment_name=DEPLOYMENT_NAME,\n",
    "    openai_api_key=API_KEY,\n",
    "    openai_api_type = \"azure\",\n",
    "    temperature=0\n",
    ")\n",
    "\n",
    "# chat_llm = ChatOpenAI(temperature=0.0, model= 'gpt-3.5-turbo-0613')\n",
    "# chat_llm\n"
   ]
  },
  {
   "cell_type": "code",
   "execution_count": 54,
   "metadata": {},
   "outputs": [
    {
     "data": {
      "text/plain": [
       "AIMessage(content='我喜欢编程。', additional_kwargs={}, example=False)"
      ]
     },
     "execution_count": 54,
     "metadata": {},
     "output_type": "execute_result"
    }
   ],
   "source": [
    "# test\n",
    "chat_llm([HumanMessage(content=\"Translate this sentence from English to Chinese. I love programming.\")])\n"
   ]
  },
  {
   "cell_type": "code",
   "execution_count": 73,
   "metadata": {},
   "outputs": [],
   "source": [
    "example=\"\"\"\n",
    "{\n",
    "\"chartType\": \"PIE\",\n",
    "\"row\": [{\n",
    "\"name\": \"省份\"\n",
    "}],\n",
    "\"metric\": [{\n",
    "\"aggrType\": \"SUM\",\n",
    "\"name\": \"省份\"\n",
    "}],\n",
    "\"filter\": [{\n",
    "\"filterType\": \"IN\",\n",
    "\"filterValue\": \"[\"浙江省\",\"上海市\",\"江苏省\"]\",\n",
    "\"name\": \"省份\"\n",
    "}],\n",
    "\"explanation\": \"维度字段为省份，筛选条件为省份是浙江省、上海市、江苏省，数值字段为对销量进行求和，使用饼图可视化展示各省份销量占比情况。\",\n",
    "\"title\": \"各省份销量占比\",\n",
    "\"description\": \"各省份销量占比的饼图表示\"\n",
    "}\n",
    "\"\"\"\n",
    "\n",
    "api_parameters = \"\"\"\n",
    "{\n",
    "\"chartType\": // recommended chart type.BASIC_COLUMN for bar chart. BASIC_LINE for line chart. PIE for pie chart.This is an enumeration value, the optional values are BASIC_COLUMN,BASIC_BAR,BASIC_LINE,PIE,\n",
    "\"row\": // Data dimension field\n",
    "[{\n",
    "\"name\": // field name\n",
    "}],\n",
    "\"metric\": // Data metric field\n",
    "[{\n",
    "\"aggrType\": // Aggregation method. This is an enumeration value, the optional values are SUM,CNT,MIN,MAX,AVG,STDDEV,VAR,CNT_DISTINCT,NUL,MED,PERCENTILE,\n",
    "\"name\": // field name\n",
    "}],\n",
    "\"filter\": // sorting method\n",
    "[{\n",
    "\"filterType\": // filter type.For example, BT means between, GT means Greater Than.This is an enumeration value, the optional values are BT,GT,GE,LT,LE,EQ,NE,IN,NI,\n",
    "\"filterValue\": // value to compare.Two elements when filterType is BT. Multiple elements when filterType is IN or NI. One element when filterType is other.\n",
    "[String],\n",
    "\"name\": // field name\n",
    "}],\n",
    "\"explanation\": // The explanation of the chart, expressed in Chinese,\n",
    "\"title\": // The title of the chart, within 15 characters, expressed in Chinese,\n",
    "\"description\": // The description of the chart, within 50 characters, expressed in Chinese\n",
    "}\n",
    "For example:\n",
    "{\n",
    "\"chartType\": PIE,\n",
    "\"row\": [{\n",
    "\"name\": \"省份\"\n",
    "}],\n",
    "\"metric\": [{\n",
    "\"aggrType\": SUM,\n",
    "\"name\": \"省份\"\n",
    "}],\n",
    "\"filter\": [{\n",
    "\"filterType\": IN,\n",
    "\"filterValue\": \"[\"浙江省\",\"上海市\",\"江苏省\"]\",\n",
    "\"name\": \"省份\"\n",
    "}],\n",
    "\"explanation\": \"维度字段为省份，筛选条件为省份是浙江省、上海市、江苏省，数值字段为对销量进行求和，使用饼图可视化展示各省份销量占比情况。\",\n",
    "\"title\": \"各省份销量占比\",\n",
    "\"description\": \"各省份销量占比的饼图表示\"\n",
    "}\n",
    "\"\"\""
   ]
  },
  {
   "attachments": {},
   "cell_type": "markdown",
   "metadata": {},
   "source": [
    "# Promp Eng"
   ]
  },
  {
   "cell_type": "code",
   "execution_count": 74,
   "metadata": {},
   "outputs": [
    {
     "data": {
      "text/plain": [
       "SystemMessagePromptTemplate(prompt=PromptTemplate(input_variables=['api_parameters', 'data_info', 'example', 'formatted_dt'], output_parser=None, partial_variables={}, template='You are Guandata-GPT, \\'an AI assistant designed to help data analysts do their daily work.\\'\\nYour decisions must always be made independently without seeking user assistance. Play to your strengths as an LLM and pursue simple strategies with no legal complications.\\nThe Current Time is {formatted_dt}\\n\\nGOALS:\\n1. \"Check the dataset schema meets user\\'s requirements.\"\\n2. \"Generate the api core parameters for charting through the dataset schema.\"\\n3. \"Check that the api parameters are correct.\"\\n\\nthe dataset scheme is {data_info}\\n\\nthe api core parameters is {api_parameters}\\n\\nYou should only respond in JSON format as described below\\nResponse Format: \\n{example}\\n', template_format='f-string', validate_template=True), additional_kwargs={})"
      ]
     },
     "execution_count": 74,
     "metadata": {},
     "output_type": "execute_result"
    }
   ],
   "source": [
    "system_template = \"\"\"You are Guandata-GPT, 'an AI assistant designed to help data analysts do their daily work.'\n",
    "Your decisions must always be made independently without seeking user assistance. Play to your strengths as an LLM and pursue simple strategies with no legal complications.\n",
    "The Current Time is {formatted_dt}\n",
    "\n",
    "GOALS:\n",
    "1. \"Check the dataset schema meets user's requirements.\"\n",
    "2. \"Generate the api core parameters for charting through the dataset schema.\"\n",
    "3. \"Check that the api parameters are correct.\"\n",
    "\n",
    "the dataset scheme is {data_info}\n",
    "\n",
    "the api core parameters is {api_parameters}\n",
    "\n",
    "You should only respond in JSON format as described below\n",
    "Response Format: \n",
    "{example}\n",
    "\"\"\"\n",
    "\n",
    "system_message_prompt = SystemMessagePromptTemplate.from_template(template=system_template)\n",
    "system_message_prompt\n",
    "\n"
   ]
  },
  {
   "cell_type": "code",
   "execution_count": 75,
   "metadata": {},
   "outputs": [],
   "source": [
    "human_template = \"\"\"\n",
    "user's requirements is {text}\n",
    "\n",
    "the response is:\n",
    "\"\"\"\n",
    "human_message_prompt = HumanMessagePromptTemplate.from_template(template=human_template)\n",
    "\n"
   ]
  },
  {
   "cell_type": "code",
   "execution_count": 76,
   "metadata": {},
   "outputs": [
    {
     "data": {
      "text/plain": [
       "ChatPromptTemplate(input_variables=['formatted_dt', 'text', 'api_parameters', 'example', 'data_info'], output_parser=None, partial_variables={}, messages=[SystemMessagePromptTemplate(prompt=PromptTemplate(input_variables=['api_parameters', 'data_info', 'example', 'formatted_dt'], output_parser=None, partial_variables={}, template='You are Guandata-GPT, \\'an AI assistant designed to help data analysts do their daily work.\\'\\nYour decisions must always be made independently without seeking user assistance. Play to your strengths as an LLM and pursue simple strategies with no legal complications.\\nThe Current Time is {formatted_dt}\\n\\nGOALS:\\n1. \"Check the dataset schema meets user\\'s requirements.\"\\n2. \"Generate the api core parameters for charting through the dataset schema.\"\\n3. \"Check that the api parameters are correct.\"\\n\\nthe dataset scheme is {data_info}\\n\\nthe api core parameters is {api_parameters}\\n\\nYou should only respond in JSON format as described below\\nResponse Format: \\n{example}\\n', template_format='f-string', validate_template=True), additional_kwargs={}), HumanMessagePromptTemplate(prompt=PromptTemplate(input_variables=['text'], output_parser=None, partial_variables={}, template=\"\\nuser's requirements is {text}\\n\\nthe response is:\\n\", template_format='f-string', validate_template=True), additional_kwargs={})])"
      ]
     },
     "execution_count": 76,
     "metadata": {},
     "output_type": "execute_result"
    }
   ],
   "source": [
    "chat_prompt = ChatPromptTemplate.from_messages([system_message_prompt, human_message_prompt])\n",
    "\n",
    "chat_prompt"
   ]
  },
  {
   "cell_type": "code",
   "execution_count": 36,
   "metadata": {},
   "outputs": [
    {
     "name": "stdout",
     "output_type": "stream",
     "text": [
      "System: You are Guandata-GPT, 'an AI assistant designed to help data analysts do their daily work.'\n",
      "Your decisions must always be made independently without seeking user assistance. Play to your strengths as an LLM and pursue simple strategies with no legal complications.\n",
      "The Current Time is 2023-06-19 19:55:01\n",
      "\n",
      "GOALS:\n",
      "1. \"Check the dataset schema meets user's requirements.\"\n",
      "2. \"Generate the api core parameters for charting through the dataset schema.\"\n",
      "3. \"Check that the api parameters are correct.\"\n",
      "\n",
      "the dataset scheme is \n",
      "[{\"name\":\"会员ID\",\"type\":\"String\"},\n",
      "{\"name\":\"销量\",\"type\":\"Long\"},\n",
      "{\"name\":\"省份\",\"type\":\"Double\"},\n",
      "{\"name\":\"省份\",\"type\":\"Double\"},\n",
      "{\"name\":\"日期\",\"type\":\"Date\"}]\n",
      "\n",
      "\n",
      "the api core parameters is \n",
      "{\n",
      "\"chartType\": // recommended chart type.BASIC_COLUMN for bar chart. BASIC_LINE for line chart. PIE for pie chart.This is an enumeration value, the optional values are BASIC_COLUMN,BASIC_BAR,BASIC_LINE,PIE,\n",
      "\"row\": // Data dimension field\n",
      "[{\n",
      "\"name\": // field name\n",
      "}],\n",
      "\"metric\": // Data metric field\n",
      "[{\n",
      "\"aggrType\": // Aggregation method. This is an enumeration value, the optional values are SUM,CNT,MIN,MAX,AVG,STDDEV,VAR,CNT_DISTINCT,NUL,MED,PERCENTILE,\n",
      "\"name\": // field name\n",
      "}],\n",
      "\"filter\": // sorting method\n",
      "[{\n",
      "\"filterType\": // filter type.For example, BT means between, GT means Greater Than.This is an enumeration value, the optional values are BT,GT,GE,LT,LE,EQ,NE,IN,NI,\n",
      "\"filterValue\": // value to compare.Two elements when filterType is BT. Multiple elements when filterType is IN or NI. One element when filterType is other.\n",
      "[String],\n",
      "\"name\": // field name\n",
      "}],\n",
      "\"explanation\": // The explanation of the chart, expressed in Chinese,\n",
      "\"title\": // The title of the chart, within 15 characters, expressed in Chinese,\n",
      "\"description\": // The description of the chart, within 50 characters, expressed in Chinese\n",
      "}\n",
      "For example:\n",
      "{\n",
      "\"chartType\": PIE,\n",
      "\"row\": [{\n",
      "\"name\": \"省份\"\n",
      "}],\n",
      "\"metric\": [{\n",
      "\"aggrType\": SUM,\n",
      "\"name\": \"省份\"\n",
      "}],\n",
      "\"filter\": [{\n",
      "\"filterType\": IN,\n",
      "\"filterValue\": \"[\"浙江省\",\"上海市\",\"江苏省\"]\",\n",
      "\"name\": \"省份\"\n",
      "}],\n",
      "\"explanation\": \"维度字段为省份，筛选条件为省份是浙江省、上海市、江苏省，数值字段为对销量进行求和，使用饼图可视化展示各省份销量占比情况。\",\n",
      "\"title\": \"各省份销量占比\",\n",
      "\"description\": \"各省份销量占比的饼图表示\"\n",
      "}\n",
      "\n",
      "\n",
      "You should only respond in JSON format as described below\n",
      "Response Format: \n",
      "\n",
      "{\n",
      "\"chartType\": PIE,\n",
      "\"row\": [{\n",
      "\"name\": \"省份\"\n",
      "}],\n",
      "\"metric\": [{\n",
      "\"aggrType\": SUM,\n",
      "\"name\": \"省份\"\n",
      "}],\n",
      "\"filter\": [{\n",
      "\"filterType\": IN,\n",
      "\"filterValue\": \"[\"浙江省\",\"上海市\",\"江苏省\"]\",\n",
      "\"name\": \"省份\"\n",
      "}],\n",
      "\"explanation\": \"维度字段为省份，筛选条件为省份是浙江省、上海市、江苏省，数值字段为对销量进行求和，使用饼图可视化展示各省份销量占比情况。\",\n",
      "\"title\": \"各省份销量占比\",\n",
      "\"description\": \"各省份销量占比的饼图表示\"\n",
      "}\n",
      "\n",
      "\n",
      "Human: \n",
      "user's requirements is 会员销量趋势\n",
      "\n",
      "the response is:\n",
      "\n"
     ]
    }
   ],
   "source": [
    "print(chat_prompt.format(text=\"会员销量趋势\", \n",
    "                         api_parameters=api_parameters,\n",
    "                   formatted_dt=formatted_dt, \n",
    "                   example=example,\n",
    "                   data_info=data_info))\n"
   ]
  },
  {
   "cell_type": "code",
   "execution_count": 77,
   "metadata": {},
   "outputs": [],
   "source": [
    "chain = LLMChain(llm=chat_llm, prompt=chat_prompt)\n",
    "question = '各平台会员数量占比'\n",
    "\n",
    "chain_response = chain.run({'text':question, 'api_parameters':api_parameters, \n",
    "                            'formatted_dt':formatted_dt, \n",
    "                            'example':example,\n",
    "                            'data_info':data_info,\n",
    "                            'formatted_dt': formatted_dt})\n"
   ]
  },
  {
   "cell_type": "code",
   "execution_count": 78,
   "metadata": {},
   "outputs": [
    {
     "name": "stdout",
     "output_type": "stream",
     "text": [
      "{\n",
      "\"chartType\": \"PIE\",\n",
      "\"row\": [{\n",
      "\"name\": \"平台\"\n",
      "}],\n",
      "\"metric\": [{\n",
      "\"aggrType\": \"CNT_DISTINCT\",\n",
      "\"name\": \"会员ID\"\n",
      "}],\n",
      "\"filter\": [],\n",
      "\"explanation\": \"维度字段为平台，数值字段为会员数量，使用饼图可视化展示各平台会员数量占比情况。\",\n",
      "\"title\": \"各平台会员数量占比\",\n",
      "\"description\": \"各平台会员数量占比的饼图表示\"\n",
      "}\n"
     ]
    }
   ],
   "source": [
    "print(chain_response)"
   ]
  },
  {
   "cell_type": "code",
   "execution_count": 79,
   "metadata": {},
   "outputs": [
    {
     "data": {
      "text/plain": [
       "str"
      ]
     },
     "execution_count": 79,
     "metadata": {},
     "output_type": "execute_result"
    }
   ],
   "source": [
    "type(chain_response)"
   ]
  },
  {
   "cell_type": "code",
   "execution_count": 80,
   "metadata": {},
   "outputs": [],
   "source": [
    "dictionary = json.loads(chain_response)\n"
   ]
  },
  {
   "cell_type": "code",
   "execution_count": 81,
   "metadata": {},
   "outputs": [
    {
     "data": {
      "text/plain": [
       "{'chartType': 'PIE',\n",
       " 'row': [{'name': '平台'}],\n",
       " 'metric': [{'aggrType': 'CNT_DISTINCT', 'name': '会员ID'}],\n",
       " 'filter': [],\n",
       " 'explanation': '维度字段为平台，数值字段为会员数量，使用饼图可视化展示各平台会员数量占比情况。',\n",
       " 'title': '各平台会员数量占比',\n",
       " 'description': '各平台会员数量占比的饼图表示'}"
      ]
     },
     "execution_count": 81,
     "metadata": {},
     "output_type": "execute_result"
    }
   ],
   "source": [
    "dictionary"
   ]
  },
  {
   "attachments": {},
   "cell_type": "markdown",
   "metadata": {},
   "source": [
    "## LLMChain"
   ]
  },
  {
   "attachments": {},
   "cell_type": "markdown",
   "metadata": {},
   "source": [
    "# memory\n",
    "\n",
    "memory 暂时待定"
   ]
  },
  {
   "attachments": {},
   "cell_type": "markdown",
   "metadata": {},
   "source": [
    "# Chain "
   ]
  },
  {
   "cell_type": "code",
   "execution_count": null,
   "metadata": {},
   "outputs": [],
   "source": []
  },
  {
   "cell_type": "code",
   "execution_count": null,
   "metadata": {},
   "outputs": [],
   "source": []
  },
  {
   "cell_type": "code",
   "execution_count": null,
   "metadata": {},
   "outputs": [],
   "source": []
  },
  {
   "cell_type": "code",
   "execution_count": null,
   "metadata": {},
   "outputs": [],
   "source": []
  }
 ],
 "metadata": {
  "kernelspec": {
   "display_name": "langchain",
   "language": "python",
   "name": "python3"
  },
  "language_info": {
   "codemirror_mode": {
    "name": "ipython",
    "version": 3
   },
   "file_extension": ".py",
   "mimetype": "text/x-python",
   "name": "python",
   "nbconvert_exporter": "python",
   "pygments_lexer": "ipython3",
   "version": "3.10.11"
  },
  "orig_nbformat": 4
 },
 "nbformat": 4,
 "nbformat_minor": 2
}
